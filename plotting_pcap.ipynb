{
 "cells": [
  {
   "cell_type": "code",
   "execution_count": 1,
   "metadata": {},
   "outputs": [],
   "source": [
    "# Generic imports\n",
    "import pandas as pd\n",
    "import plotly\n",
    "import plotly.graph_objects as go\n",
    "\n",
    "# 5G visualization logic\n",
    "import trace_plotting\n",
    "from utils.wireshark import import_pcap_as_dataframe\n",
    "import logging\n",
    "import platform"
   ]
  },
  {
   "cell_type": "code",
   "execution_count": 2,
   "metadata": {},
   "outputs": [],
   "source": [
    "# Wireshark trace with 5GC messages\n",
    "#wireshark_traces = 'traces/Spirent RID-942 50UEs UDP 350Mbps/21-03-16_15.47.45__RID-942__ts0_eth3_capture.pcap'\n",
    "wireshark_traces = 'D:\\\\Temp\\\\free5gc.pcap'\n",
    "#wireshark_traces = 'D:\\\\Temp\\\\volte_calls_2.pcapng'\n",
    "#wireshark_traces = 'D:\\\\Temp\\\\s1ap_volte.pcapng'\n",
    "#wireshark_traces = 'D:\\\\Temp\\\\SIP MT offnet.pcap'\n"
   ]
  },
  {
   "cell_type": "code",
   "execution_count": 3,
   "metadata": {},
   "outputs": [],
   "source": [
    "# DEBUG loggig level for big traces so that you can see if processing is stuck or not\n",
    "packets_df = import_pcap_as_dataframe(\n",
    "    wireshark_traces, \n",
    "    http2_ports = \"32445,5002,5000,32665,80,32077,5006,8080,3000,8081\",\n",
    "    wireshark_version = 'OS',\n",
    "    platform = platform.system(),\n",
    "    logging_level=logging.INFO)\n",
    "#display(packets_df)"
   ]
  },
  {
   "cell_type": "code",
   "execution_count": 4,
   "metadata": {},
   "outputs": [],
   "source": [
    "plot_data = trace_plotting.generate_scatterplots_for_wireshark_traces(packets_df, filter_column='file')[0]\n",
    "#display(plot_data)"
   ]
  },
  {
   "cell_type": "code",
   "execution_count": 5,
   "metadata": {},
   "outputs": [
    {
     "data": {
      "application/vnd.plotly.v1+json": {
       "config": {
        "plotlyServerURL": "https://plot.ly"
       },
       "data": [
        {
         "hovertemplate": "%{text}, %{y}<extra></extra>",
         "line": {
          "color": "gray"
         },
         "mode": "markers",
         "name": "D:\\Temp\\free5gc.pcap",
         "opacity": 1,
         "showlegend": true,
         "text": [
          "Frame 110, 08:17:41.335409",
          "Frame 78, 08:17:41.296634",
          "Frame 185, 08:17:41.699858",
          "Frame 116, 08:17:41.336300",
          "Frame 127, 08:17:41.345069",
          "Frame 163, 08:17:41.405894",
          "Frame 207, 08:17:41.726393",
          "Frame 31, 08:17:41.238330",
          "Frame 130, 08:17:41.355693",
          "Frame 82, 08:17:41.296955",
          "Frame 111, 08:17:41.335479",
          "Frame 193, 08:17:41.701599",
          "Frame 119, 08:17:41.343847",
          "Frame 4, 08:17:40.344713",
          "Frame 224, 08:17:41.740371",
          "Frame 17, 08:17:41.153836",
          "Frame 156, 08:17:41.396603",
          "Frame 201, 08:17:41.725720",
          "Frame 177, 08:17:41.672186",
          "Frame 236, 08:17:41.744812",
          "Frame 138, 08:17:41.356973",
          "Frame 54, 08:17:41.263176",
          "Frame 24, 08:17:41.208968",
          "Frame 143, 08:17:41.364491",
          "Frame 47, 08:17:41.262545",
          "Frame 94, 08:17:41.325018",
          "Frame 101, 08:17:41.333893",
          "Frame 60, 08:17:41.265542",
          "Frame 44, 08:17:41.257120",
          "Frame 72, 08:17:41.271566",
          "Frame 171, 08:17:41.413343",
          "Frame 174, 08:17:41.422215",
          "Frame 15, 08:17:41.116638",
          "Frame 13, 08:17:41.092163",
          "Frame 14, 08:17:41.100687",
          "Frame 228, 08:17:41.741822",
          "Frame 233, 08:17:41.743234",
          "Frame 45, 08:17:41.260714",
          "Frame 76, 08:17:41.272989",
          "Frame 175, 08:17:41.625842",
          "Frame 1, 08:17:39.892699",
          "Frame 2, 08:17:39.893213",
          "Frame 216, 08:17:41.729255",
          "Frame 219, 08:17:41.730133",
          "Frame 243, 08:17:41.745586",
          "Frame 245, 08:17:41.746409"
         ],
         "type": "scatter",
         "x": [
          "2020-06-11T08:17:41.335409164",
          "2020-06-11T08:17:41.296634197",
          "2020-06-11T08:17:41.699858904",
          "2020-06-11T08:17:41.336300373",
          "2020-06-11T08:17:41.345069885",
          "2020-06-11T08:17:41.405894756",
          "2020-06-11T08:17:41.726393938",
          "2020-06-11T08:17:41.238330603",
          "2020-06-11T08:17:41.355693579",
          "2020-06-11T08:17:41.296955824",
          "2020-06-11T08:17:41.335479021",
          "2020-06-11T08:17:41.701599121",
          "2020-06-11T08:17:41.343847990",
          "2020-06-11T08:17:40.344713211",
          "2020-06-11T08:17:41.740371466",
          "2020-06-11T08:17:41.153836250",
          "2020-06-11T08:17:41.396603823",
          "2020-06-11T08:17:41.725720167",
          "2020-06-11T08:17:41.672186136",
          "2020-06-11T08:17:41.744812965",
          "2020-06-11T08:17:41.356973886",
          "2020-06-11T08:17:41.263176917",
          "2020-06-11T08:17:41.208968639",
          "2020-06-11T08:17:41.364491940",
          "2020-06-11T08:17:41.262545823",
          "2020-06-11T08:17:41.325018406",
          "2020-06-11T08:17:41.333893538",
          "2020-06-11T08:17:41.265542746",
          "2020-06-11T08:17:41.257120132",
          "2020-06-11T08:17:41.271566868",
          "2020-06-11T08:17:41.413343430",
          "2020-06-11T08:17:41.422215939",
          "2020-06-11T08:17:41.116638899",
          "2020-06-11T08:17:41.092163801",
          "2020-06-11T08:17:41.100687742",
          "2020-06-11T08:17:41.741822481",
          "2020-06-11T08:17:41.743234396",
          "2020-06-11T08:17:41.260714293",
          "2020-06-11T08:17:41.272989511",
          "2020-06-11T08:17:41.625842810",
          "2020-06-11T08:17:39.892699957",
          "2020-06-11T08:17:39.893213987",
          "2020-06-11T08:17:41.729255915",
          "2020-06-11T08:17:41.730133533",
          "2020-06-11T08:17:41.745586634",
          "2020-06-11T08:17:41.746409655"
         ],
         "y": [
          "GET /nudm-sdm/v1/am-data",
          "GET /nudm-sdm/v1/nssai",
          "GET /nudm-sdm/v1/sm-data",
          "GET /nudm-sdm/v1/smf-select-data",
          "GET /nudm-sdm/v1/ue-context-in-smf-data",
          "GET /nudr-dr/v1/policy-data/ues/am-data",
          "GET /nudr-dr/v1/policy-data/ues/sm-data",
          "GET /nudr-dr/v1/subscription-data/authentication-data/authentication-subscription",
          "GET /nudr-dr/v1/subscription-data/context-data/smf-registrations",
          "GET /nudr-dr/v1/subscription-data/provisioned-data/am-data",
          "GET /nudr-dr/v1/subscription-data/provisioned-data/am-data",
          "GET /nudr-dr/v1/subscription-data/provisioned-data/sm-data",
          "GET /nudr-dr/v1/subscription-data/provisioned-data/smf-selection-subscription-data",
          "POST /namf-comm/v1/subscriptions",
          "POST /namf-comm/v1/ue-contexts/n1-n2-messages",
          "POST /nausf-auth/v1/ue-authentications",
          "POST /npcf-am-policy-control/v1/policies",
          "POST /npcf-smpolicycontrol/v1/sm-policies",
          "POST /nsmf-pdusession/v1/sm-contexts",
          "POST /nsmf-pdusession/v1/sm-contexts/urn:uuid:56763478-4032-4924-bbd5-35541af62ea0/modify",
          "POST /nudm-sdm/v1/sdm-subscriptions",
          "POST /nudm-ueau/v1/suci-0-208-93-0-0-0-00007487/auth-events",
          "POST /nudm-ueau/v1/suci-0-208-93-0-0-0-00007487/security-information/generate-auth-data",
          "POST /nudr-dr/v1/subscription-data/context-data/sdm-subscriptions",
          "PUT /nausf-auth/v1/ue-authentications/suci-0-208-93-0-0-0-00007487g-aka-confirmation",
          "PUT /nudm-uecm/v1/registrations/amf-3gpp-access",
          "PUT /nudr-dr/v1/subscription-data/context-data/amf-3gpp-access",
          "PUT /nudr-dr/v1/subscription-data/suci-0-208-93-0-0-0-00007487/authentication-data/authentication-status",
          "NAS DownlinkNASTransport (4)",
          "NAS DownlinkNASTransport (4)",
          "NAS InitialContextSetup (14)",
          "NAS InitialContextSetup (14)",
          "NAS InitialUEMessage (15)",
          "NAS NGSetup (21)",
          "NAS NGSetup (21)",
          "NAS PDUSessionResourceSetup (29)",
          "NAS PDUSessionResourceSetup (29)",
          "NAS UplinkNASTransport (46)",
          "NAS UplinkNASTransport (46)",
          "NAS UplinkNASTransport (46)",
          "PFCP Association Setup Request (5)",
          "PFCP Association Setup Response (6)",
          "PFCP Session Establishment Request (50)",
          "PFCP Session Establishment Response (51)",
          "PFCP Session Modification Request (52)",
          "PFCP Session Modification Response (53)"
         ]
        }
       ],
       "layout": {
        "shapes": [
         {
          "fillcolor": "#8cd98c",
          "line": {
           "width": 0
          },
          "opacity": 0.3,
          "type": "rect",
          "x0": 0,
          "x1": 1,
          "xref": "paper",
          "y0": "NAS DownlinkNASTransport (4)",
          "y1": "NAS UplinkNASTransport (46)",
          "yref": "y"
         },
         {
          "fillcolor": "#b3b3b3",
          "line": {
           "width": 0
          },
          "opacity": 0.3,
          "type": "rect",
          "x0": 0,
          "x1": 1,
          "xref": "paper",
          "y0": "GET /nudm-sdm/v1/am-data",
          "y1": "PUT /nudr-dr/v1/subscription-data/suci-0-208-93-0-0-0-00007487/authentication-data/authentication-status",
          "yref": "y"
         },
         {
          "fillcolor": "#80b3ff",
          "line": {
           "width": 0
          },
          "opacity": 0.3,
          "type": "rect",
          "x0": 0,
          "x1": 1,
          "xref": "paper",
          "y0": "PFCP Association Setup Request (5)",
          "y1": "PFCP Session Modification Response (53)",
          "yref": "y"
         }
        ],
        "template": {
         "data": {
          "bar": [
           {
            "error_x": {
             "color": "#2a3f5f"
            },
            "error_y": {
             "color": "#2a3f5f"
            },
            "marker": {
             "line": {
              "color": "#E5ECF6",
              "width": 0.5
             },
             "pattern": {
              "fillmode": "overlay",
              "size": 10,
              "solidity": 0.2
             }
            },
            "type": "bar"
           }
          ],
          "barpolar": [
           {
            "marker": {
             "line": {
              "color": "#E5ECF6",
              "width": 0.5
             },
             "pattern": {
              "fillmode": "overlay",
              "size": 10,
              "solidity": 0.2
             }
            },
            "type": "barpolar"
           }
          ],
          "carpet": [
           {
            "aaxis": {
             "endlinecolor": "#2a3f5f",
             "gridcolor": "white",
             "linecolor": "white",
             "minorgridcolor": "white",
             "startlinecolor": "#2a3f5f"
            },
            "baxis": {
             "endlinecolor": "#2a3f5f",
             "gridcolor": "white",
             "linecolor": "white",
             "minorgridcolor": "white",
             "startlinecolor": "#2a3f5f"
            },
            "type": "carpet"
           }
          ],
          "choropleth": [
           {
            "colorbar": {
             "outlinewidth": 0,
             "ticks": ""
            },
            "type": "choropleth"
           }
          ],
          "contour": [
           {
            "colorbar": {
             "outlinewidth": 0,
             "ticks": ""
            },
            "colorscale": [
             [
              0,
              "#0d0887"
             ],
             [
              0.1111111111111111,
              "#46039f"
             ],
             [
              0.2222222222222222,
              "#7201a8"
             ],
             [
              0.3333333333333333,
              "#9c179e"
             ],
             [
              0.4444444444444444,
              "#bd3786"
             ],
             [
              0.5555555555555556,
              "#d8576b"
             ],
             [
              0.6666666666666666,
              "#ed7953"
             ],
             [
              0.7777777777777778,
              "#fb9f3a"
             ],
             [
              0.8888888888888888,
              "#fdca26"
             ],
             [
              1,
              "#f0f921"
             ]
            ],
            "type": "contour"
           }
          ],
          "contourcarpet": [
           {
            "colorbar": {
             "outlinewidth": 0,
             "ticks": ""
            },
            "type": "contourcarpet"
           }
          ],
          "heatmap": [
           {
            "colorbar": {
             "outlinewidth": 0,
             "ticks": ""
            },
            "colorscale": [
             [
              0,
              "#0d0887"
             ],
             [
              0.1111111111111111,
              "#46039f"
             ],
             [
              0.2222222222222222,
              "#7201a8"
             ],
             [
              0.3333333333333333,
              "#9c179e"
             ],
             [
              0.4444444444444444,
              "#bd3786"
             ],
             [
              0.5555555555555556,
              "#d8576b"
             ],
             [
              0.6666666666666666,
              "#ed7953"
             ],
             [
              0.7777777777777778,
              "#fb9f3a"
             ],
             [
              0.8888888888888888,
              "#fdca26"
             ],
             [
              1,
              "#f0f921"
             ]
            ],
            "type": "heatmap"
           }
          ],
          "histogram": [
           {
            "marker": {
             "pattern": {
              "fillmode": "overlay",
              "size": 10,
              "solidity": 0.2
             }
            },
            "type": "histogram"
           }
          ],
          "histogram2d": [
           {
            "colorbar": {
             "outlinewidth": 0,
             "ticks": ""
            },
            "colorscale": [
             [
              0,
              "#0d0887"
             ],
             [
              0.1111111111111111,
              "#46039f"
             ],
             [
              0.2222222222222222,
              "#7201a8"
             ],
             [
              0.3333333333333333,
              "#9c179e"
             ],
             [
              0.4444444444444444,
              "#bd3786"
             ],
             [
              0.5555555555555556,
              "#d8576b"
             ],
             [
              0.6666666666666666,
              "#ed7953"
             ],
             [
              0.7777777777777778,
              "#fb9f3a"
             ],
             [
              0.8888888888888888,
              "#fdca26"
             ],
             [
              1,
              "#f0f921"
             ]
            ],
            "type": "histogram2d"
           }
          ],
          "histogram2dcontour": [
           {
            "colorbar": {
             "outlinewidth": 0,
             "ticks": ""
            },
            "colorscale": [
             [
              0,
              "#0d0887"
             ],
             [
              0.1111111111111111,
              "#46039f"
             ],
             [
              0.2222222222222222,
              "#7201a8"
             ],
             [
              0.3333333333333333,
              "#9c179e"
             ],
             [
              0.4444444444444444,
              "#bd3786"
             ],
             [
              0.5555555555555556,
              "#d8576b"
             ],
             [
              0.6666666666666666,
              "#ed7953"
             ],
             [
              0.7777777777777778,
              "#fb9f3a"
             ],
             [
              0.8888888888888888,
              "#fdca26"
             ],
             [
              1,
              "#f0f921"
             ]
            ],
            "type": "histogram2dcontour"
           }
          ],
          "mesh3d": [
           {
            "colorbar": {
             "outlinewidth": 0,
             "ticks": ""
            },
            "type": "mesh3d"
           }
          ],
          "parcoords": [
           {
            "line": {
             "colorbar": {
              "outlinewidth": 0,
              "ticks": ""
             }
            },
            "type": "parcoords"
           }
          ],
          "pie": [
           {
            "automargin": true,
            "type": "pie"
           }
          ],
          "scatter": [
           {
            "fillpattern": {
             "fillmode": "overlay",
             "size": 10,
             "solidity": 0.2
            },
            "type": "scatter"
           }
          ],
          "scatter3d": [
           {
            "line": {
             "colorbar": {
              "outlinewidth": 0,
              "ticks": ""
             }
            },
            "marker": {
             "colorbar": {
              "outlinewidth": 0,
              "ticks": ""
             }
            },
            "type": "scatter3d"
           }
          ],
          "scattercarpet": [
           {
            "marker": {
             "colorbar": {
              "outlinewidth": 0,
              "ticks": ""
             }
            },
            "type": "scattercarpet"
           }
          ],
          "scattergeo": [
           {
            "marker": {
             "colorbar": {
              "outlinewidth": 0,
              "ticks": ""
             }
            },
            "type": "scattergeo"
           }
          ],
          "scattergl": [
           {
            "marker": {
             "colorbar": {
              "outlinewidth": 0,
              "ticks": ""
             }
            },
            "type": "scattergl"
           }
          ],
          "scattermap": [
           {
            "marker": {
             "colorbar": {
              "outlinewidth": 0,
              "ticks": ""
             }
            },
            "type": "scattermap"
           }
          ],
          "scattermapbox": [
           {
            "marker": {
             "colorbar": {
              "outlinewidth": 0,
              "ticks": ""
             }
            },
            "type": "scattermapbox"
           }
          ],
          "scatterpolar": [
           {
            "marker": {
             "colorbar": {
              "outlinewidth": 0,
              "ticks": ""
             }
            },
            "type": "scatterpolar"
           }
          ],
          "scatterpolargl": [
           {
            "marker": {
             "colorbar": {
              "outlinewidth": 0,
              "ticks": ""
             }
            },
            "type": "scatterpolargl"
           }
          ],
          "scatterternary": [
           {
            "marker": {
             "colorbar": {
              "outlinewidth": 0,
              "ticks": ""
             }
            },
            "type": "scatterternary"
           }
          ],
          "surface": [
           {
            "colorbar": {
             "outlinewidth": 0,
             "ticks": ""
            },
            "colorscale": [
             [
              0,
              "#0d0887"
             ],
             [
              0.1111111111111111,
              "#46039f"
             ],
             [
              0.2222222222222222,
              "#7201a8"
             ],
             [
              0.3333333333333333,
              "#9c179e"
             ],
             [
              0.4444444444444444,
              "#bd3786"
             ],
             [
              0.5555555555555556,
              "#d8576b"
             ],
             [
              0.6666666666666666,
              "#ed7953"
             ],
             [
              0.7777777777777778,
              "#fb9f3a"
             ],
             [
              0.8888888888888888,
              "#fdca26"
             ],
             [
              1,
              "#f0f921"
             ]
            ],
            "type": "surface"
           }
          ],
          "table": [
           {
            "cells": {
             "fill": {
              "color": "#EBF0F8"
             },
             "line": {
              "color": "white"
             }
            },
            "header": {
             "fill": {
              "color": "#C8D4E3"
             },
             "line": {
              "color": "white"
             }
            },
            "type": "table"
           }
          ]
         },
         "layout": {
          "annotationdefaults": {
           "arrowcolor": "#2a3f5f",
           "arrowhead": 0,
           "arrowwidth": 1
          },
          "autotypenumbers": "strict",
          "coloraxis": {
           "colorbar": {
            "outlinewidth": 0,
            "ticks": ""
           }
          },
          "colorscale": {
           "diverging": [
            [
             0,
             "#8e0152"
            ],
            [
             0.1,
             "#c51b7d"
            ],
            [
             0.2,
             "#de77ae"
            ],
            [
             0.3,
             "#f1b6da"
            ],
            [
             0.4,
             "#fde0ef"
            ],
            [
             0.5,
             "#f7f7f7"
            ],
            [
             0.6,
             "#e6f5d0"
            ],
            [
             0.7,
             "#b8e186"
            ],
            [
             0.8,
             "#7fbc41"
            ],
            [
             0.9,
             "#4d9221"
            ],
            [
             1,
             "#276419"
            ]
           ],
           "sequential": [
            [
             0,
             "#0d0887"
            ],
            [
             0.1111111111111111,
             "#46039f"
            ],
            [
             0.2222222222222222,
             "#7201a8"
            ],
            [
             0.3333333333333333,
             "#9c179e"
            ],
            [
             0.4444444444444444,
             "#bd3786"
            ],
            [
             0.5555555555555556,
             "#d8576b"
            ],
            [
             0.6666666666666666,
             "#ed7953"
            ],
            [
             0.7777777777777778,
             "#fb9f3a"
            ],
            [
             0.8888888888888888,
             "#fdca26"
            ],
            [
             1,
             "#f0f921"
            ]
           ],
           "sequentialminus": [
            [
             0,
             "#0d0887"
            ],
            [
             0.1111111111111111,
             "#46039f"
            ],
            [
             0.2222222222222222,
             "#7201a8"
            ],
            [
             0.3333333333333333,
             "#9c179e"
            ],
            [
             0.4444444444444444,
             "#bd3786"
            ],
            [
             0.5555555555555556,
             "#d8576b"
            ],
            [
             0.6666666666666666,
             "#ed7953"
            ],
            [
             0.7777777777777778,
             "#fb9f3a"
            ],
            [
             0.8888888888888888,
             "#fdca26"
            ],
            [
             1,
             "#f0f921"
            ]
           ]
          },
          "colorway": [
           "#636efa",
           "#EF553B",
           "#00cc96",
           "#ab63fa",
           "#FFA15A",
           "#19d3f3",
           "#FF6692",
           "#B6E880",
           "#FF97FF",
           "#FECB52"
          ],
          "font": {
           "color": "#2a3f5f"
          },
          "geo": {
           "bgcolor": "white",
           "lakecolor": "white",
           "landcolor": "#E5ECF6",
           "showlakes": true,
           "showland": true,
           "subunitcolor": "white"
          },
          "hoverlabel": {
           "align": "left"
          },
          "hovermode": "closest",
          "mapbox": {
           "style": "light"
          },
          "paper_bgcolor": "white",
          "plot_bgcolor": "#E5ECF6",
          "polar": {
           "angularaxis": {
            "gridcolor": "white",
            "linecolor": "white",
            "ticks": ""
           },
           "bgcolor": "#E5ECF6",
           "radialaxis": {
            "gridcolor": "white",
            "linecolor": "white",
            "ticks": ""
           }
          },
          "scene": {
           "xaxis": {
            "backgroundcolor": "#E5ECF6",
            "gridcolor": "white",
            "gridwidth": 2,
            "linecolor": "white",
            "showbackground": true,
            "ticks": "",
            "zerolinecolor": "white"
           },
           "yaxis": {
            "backgroundcolor": "#E5ECF6",
            "gridcolor": "white",
            "gridwidth": 2,
            "linecolor": "white",
            "showbackground": true,
            "ticks": "",
            "zerolinecolor": "white"
           },
           "zaxis": {
            "backgroundcolor": "#E5ECF6",
            "gridcolor": "white",
            "gridwidth": 2,
            "linecolor": "white",
            "showbackground": true,
            "ticks": "",
            "zerolinecolor": "white"
           }
          },
          "shapedefaults": {
           "line": {
            "color": "#2a3f5f"
           }
          },
          "ternary": {
           "aaxis": {
            "gridcolor": "white",
            "linecolor": "white",
            "ticks": ""
           },
           "baxis": {
            "gridcolor": "white",
            "linecolor": "white",
            "ticks": ""
           },
           "bgcolor": "#E5ECF6",
           "caxis": {
            "gridcolor": "white",
            "linecolor": "white",
            "ticks": ""
           }
          },
          "title": {
           "x": 0.05
          },
          "xaxis": {
           "automargin": true,
           "gridcolor": "white",
           "linecolor": "white",
           "ticks": "",
           "title": {
            "standoff": 15
           },
           "zerolinecolor": "white",
           "zerolinewidth": 2
          },
          "yaxis": {
           "automargin": true,
           "gridcolor": "white",
           "linecolor": "white",
           "ticks": "",
           "title": {
            "standoff": 15
           },
           "zerolinecolor": "white",
           "zerolinewidth": 2
          }
         }
        }
       }
      },
      "image/png": "[encoded data removed]"
     },
     "metadata": {},
     "output_type": "display_data"
    }
   ],
   "source": [
    "fig = go.Figure(data=plot_data)\n",
    "fig.update_layout(shapes=trace_plotting.get_protocol_shapes(packets_df, y_axis='y'))\n",
    "fig.show()\n",
    "out_html = ''.join(wireshark_traces.split('.')[0:-1]) + '_pcap_plot.html'\n",
    "fig.write_html(out_html)"
   ]
  },
  {
   "cell_type": "code",
   "execution_count": null,
   "metadata": {},
   "outputs": [],
   "source": []
  },
  {
   "cell_type": "code",
   "execution_count": null,
   "metadata": {},
   "outputs": [],
   "source": []
  }
 ],
 "metadata": {
  "kernelspec": {
   "display_name": "Python 3 (ipykernel)",
   "language": "python",
   "name": "python3"
  },
  "language_info": {
   "codemirror_mode": {
    "name": "ipython",
    "version": 3
   },
   "file_extension": ".py",
   "mimetype": "text/x-python",
   "name": "python",
   "nbconvert_exporter": "python",
   "pygments_lexer": "ipython3",
   "version": "3.13.3"
  }
 },
 "nbformat": 4,
 "nbformat_minor": 4
}
