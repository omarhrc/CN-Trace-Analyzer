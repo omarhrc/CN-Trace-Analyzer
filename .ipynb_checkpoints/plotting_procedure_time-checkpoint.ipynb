{
 "cells": [
  {
   "cell_type": "code",
   "execution_count": 1,
   "metadata": {},
   "outputs": [],
   "source": [
    "# Generic imports\n",
    "import pandas as pd\n",
    "import plotly\n",
    "import plotly.graph_objects as go\n",
    "\n",
    "# 5G visualization logic\n",
    "import trace_plotting\n",
    "from utils.wireshark import import_pcap_as_dataframe\n",
    "import logging\n",
    "import re\n",
    "import platform"
   ]
  },
  {
   "cell_type": "code",
   "execution_count": 2,
   "metadata": {},
   "outputs": [],
   "source": [
    "# Wireshark trace with 5GC messages\n",
    "#wireshark_trace = 'D:\\\\Temp\\\\free5gc.pcap'\n",
    "#wireshark_trace = 'D:\\\\Temp\\\\volte_calls_2.pcapng'\n",
    "#wireshark_trace = 'D:\\\\Temp\\\\s1ap_volte.pcapng'\n",
    "#wireshark_trace = 'D:\\\\Temp\\\\SIP MT offnet.pcap'\n",
    "wireshark_trace = 'D:\\\\Temp\\\\registration_open5gs.pcapng"
   ]
  },
  {
   "cell_type": "code",
   "execution_count": 3,
   "metadata": {},
   "outputs": [
    {
     "data": {
      "text/html": [
       "<div>\n",
       "<style scoped>\n",
       "    .dataframe tbody tr th:only-of-type {\n",
       "        vertical-align: middle;\n",
       "    }\n",
       "\n",
       "    .dataframe tbody tr th {\n",
       "        vertical-align: top;\n",
       "    }\n",
       "\n",
       "    .dataframe thead th {\n",
       "        text-align: right;\n",
       "    }\n",
       "</style>\n",
       "<table border=\"1\" class=\"dataframe\">\n",
       "  <thead>\n",
       "    <tr style=\"text-align: right;\">\n",
       "      <th></th>\n",
       "      <th>ip_src</th>\n",
       "      <th>ip_dst</th>\n",
       "      <th>port_src</th>\n",
       "      <th>port_dst</th>\n",
       "      <th>transport_protocol</th>\n",
       "      <th>frame_number</th>\n",
       "      <th>protocol</th>\n",
       "      <th>msg_description</th>\n",
       "      <th>timestamp</th>\n",
       "      <th>timestamp_offset</th>\n",
       "      <th>datetime</th>\n",
       "      <th>summary_raw</th>\n",
       "      <th>summary</th>\n",
       "      <th>file</th>\n",
       "      <th>file_idx</th>\n",
       "    </tr>\n",
       "  </thead>\n",
       "  <tbody>\n",
       "    <tr>\n",
       "      <th>0</th>\n",
       "      <td>10.200.200.1</td>\n",
       "      <td>10.200.200.101</td>\n",
       "      <td>8805</td>\n",
       "      <td>8805</td>\n",
       "      <td>udp</td>\n",
       "      <td>1</td>\n",
       "      <td>PFCP</td>\n",
       "      <td>pfcp.flags:\\n-   pfcp.version: '001. .... = Ve...</td>\n",
       "      <td>1.591863e+09</td>\n",
       "      <td>0.000000</td>\n",
       "      <td>2020-06-11 08:17:39.892699957</td>\n",
       "      <td>PFCP req.\\nPFCP Association Setup Request (5)</td>\n",
       "      <td>PFCP Association Setup Request (5)</td>\n",
       "      <td>D:\\Temp\\free5gc.pcap</td>\n",
       "      <td>0</td>\n",
       "    </tr>\n",
       "    <tr>\n",
       "      <th>1</th>\n",
       "      <td>10.200.200.101</td>\n",
       "      <td>10.200.200.1</td>\n",
       "      <td>8805</td>\n",
       "      <td>8805</td>\n",
       "      <td>udp</td>\n",
       "      <td>2</td>\n",
       "      <td>PFCP</td>\n",
       "      <td>pfcp.flags:\\n-   pfcp.version: '001. .... = Ve...</td>\n",
       "      <td>1.591863e+09</td>\n",
       "      <td>0.000514</td>\n",
       "      <td>2020-06-11 08:17:39.893213987</td>\n",
       "      <td>PFCP rsp.\\nPFCP Association Setup Response (6)</td>\n",
       "      <td>PFCP Association Setup Response (6)</td>\n",
       "      <td>D:\\Temp\\free5gc.pcap</td>\n",
       "      <td>0</td>\n",
       "    </tr>\n",
       "    <tr>\n",
       "      <th>2</th>\n",
       "      <td>127.0.0.1</td>\n",
       "      <td>127.0.0.1</td>\n",
       "      <td>37824</td>\n",
       "      <td>29518</td>\n",
       "      <td>tcp</td>\n",
       "      <td>4</td>\n",
       "      <td>HTTP/2</td>\n",
       "      <td>HTTP/2 stream: 3\\n:authority: 127.0.0.1:29518\\...</td>\n",
       "      <td>1.591863e+09</td>\n",
       "      <td>0.452013</td>\n",
       "      <td>2020-06-11 08:17:40.344713211</td>\n",
       "      <td>HTTP/2 req.\\nPOST  /namf-comm/v1/subscriptions</td>\n",
       "      <td>POST /namf-comm/v1/subscriptions</td>\n",
       "      <td>D:\\Temp\\free5gc.pcap</td>\n",
       "      <td>0</td>\n",
       "    </tr>\n",
       "    <tr>\n",
       "      <th>3</th>\n",
       "      <td>127.0.0.1</td>\n",
       "      <td>127.0.0.1</td>\n",
       "      <td>37824</td>\n",
       "      <td>29518</td>\n",
       "      <td>tcp</td>\n",
       "      <td>5</td>\n",
       "      <td>HTTP/2</td>\n",
       "      <td>HTTP/2 stream 3 payload\\n{\\n  \"amfStatusUri\": ...</td>\n",
       "      <td>1.591863e+09</td>\n",
       "      <td>0.452034</td>\n",
       "      <td>2020-06-11 08:17:40.344734430</td>\n",
       "      <td>HTTP/2 req. or rsp. (no HTTP/2 headers)</td>\n",
       "      <td></td>\n",
       "      <td>D:\\Temp\\free5gc.pcap</td>\n",
       "      <td>0</td>\n",
       "    </tr>\n",
       "    <tr>\n",
       "      <th>4</th>\n",
       "      <td>127.0.0.1</td>\n",
       "      <td>127.0.0.1</td>\n",
       "      <td>29518</td>\n",
       "      <td>37824</td>\n",
       "      <td>tcp</td>\n",
       "      <td>9</td>\n",
       "      <td>HTTP/2</td>\n",
       "      <td>HTTP/2 stream: 3\\n:status: 201\\ncontent-type: ...</td>\n",
       "      <td>1.591863e+09</td>\n",
       "      <td>0.453564</td>\n",
       "      <td>2020-06-11 08:17:40.346263647</td>\n",
       "      <td>HTTP/2 201 rsp.</td>\n",
       "      <td></td>\n",
       "      <td>D:\\Temp\\free5gc.pcap</td>\n",
       "      <td>0</td>\n",
       "    </tr>\n",
       "    <tr>\n",
       "      <th>...</th>\n",
       "      <td>...</td>\n",
       "      <td>...</td>\n",
       "      <td>...</td>\n",
       "      <td>...</td>\n",
       "      <td>...</td>\n",
       "      <td>...</td>\n",
       "      <td>...</td>\n",
       "      <td>...</td>\n",
       "      <td>...</td>\n",
       "      <td>...</td>\n",
       "      <td>...</td>\n",
       "      <td>...</td>\n",
       "      <td>...</td>\n",
       "      <td>...</td>\n",
       "      <td>...</td>\n",
       "    </tr>\n",
       "    <tr>\n",
       "      <th>112</th>\n",
       "      <td>10.200.200.101</td>\n",
       "      <td>10.200.200.1</td>\n",
       "      <td>8805</td>\n",
       "      <td>8805</td>\n",
       "      <td>udp</td>\n",
       "      <td>245</td>\n",
       "      <td>PFCP</td>\n",
       "      <td>pfcp.flags:\\n-   pfcp.version: '001. .... = Ve...</td>\n",
       "      <td>1.591863e+09</td>\n",
       "      <td>1.853710</td>\n",
       "      <td>2020-06-11 08:17:41.746409655</td>\n",
       "      <td>PFCP rsp.\\nPFCP Session Modification Response ...</td>\n",
       "      <td>PFCP Session Modification Response (53)</td>\n",
       "      <td>D:\\Temp\\free5gc.pcap</td>\n",
       "      <td>0</td>\n",
       "    </tr>\n",
       "    <tr>\n",
       "      <th>113</th>\n",
       "      <td>127.0.0.1</td>\n",
       "      <td>127.0.0.1</td>\n",
       "      <td>29502</td>\n",
       "      <td>40452</td>\n",
       "      <td>tcp</td>\n",
       "      <td>246</td>\n",
       "      <td>HTTP/2</td>\n",
       "      <td>HTTP/2 stream: 3\\n:status: 200\\ncontent-type: ...</td>\n",
       "      <td>1.591863e+09</td>\n",
       "      <td>1.854294</td>\n",
       "      <td>2020-06-11 08:17:41.746993542</td>\n",
       "      <td>HTTP/2 200 rsp.</td>\n",
       "      <td></td>\n",
       "      <td>D:\\Temp\\free5gc.pcap</td>\n",
       "      <td>0</td>\n",
       "    </tr>\n",
       "    <tr>\n",
       "      <th>114</th>\n",
       "      <td>127.0.0.1</td>\n",
       "      <td>127.0.0.1</td>\n",
       "      <td>29502</td>\n",
       "      <td>40452</td>\n",
       "      <td>tcp</td>\n",
       "      <td>247</td>\n",
       "      <td>HTTP/2</td>\n",
       "      <td>HTTP/2 stream 3 payload\\n2d2d36313161353433356...</td>\n",
       "      <td>1.591863e+09</td>\n",
       "      <td>1.854331</td>\n",
       "      <td>2020-06-11 08:17:41.747030973</td>\n",
       "      <td>HTTP/2 req. or rsp. (no HTTP/2 headers)</td>\n",
       "      <td></td>\n",
       "      <td>D:\\Temp\\free5gc.pcap</td>\n",
       "      <td>0</td>\n",
       "    </tr>\n",
       "    <tr>\n",
       "      <th>115</th>\n",
       "      <td>10.200.200.1</td>\n",
       "      <td>10.200.200.102</td>\n",
       "      <td>2152</td>\n",
       "      <td>2152</td>\n",
       "      <td>udp</td>\n",
       "      <td>249</td>\n",
       "      <td>GTP&lt;ICMP&gt;</td>\n",
       "      <td>Type: 8 (Echo (ping) request) seq=1/256</td>\n",
       "      <td>1.591863e+09</td>\n",
       "      <td>2.851160</td>\n",
       "      <td>2020-06-11 08:17:42.743859529</td>\n",
       "      <td>GTP&lt;ICMP&gt;</td>\n",
       "      <td></td>\n",
       "      <td>D:\\Temp\\free5gc.pcap</td>\n",
       "      <td>0</td>\n",
       "    </tr>\n",
       "    <tr>\n",
       "      <th>116</th>\n",
       "      <td>10.200.200.102</td>\n",
       "      <td>10.200.200.1</td>\n",
       "      <td>2152</td>\n",
       "      <td>2152</td>\n",
       "      <td>udp</td>\n",
       "      <td>250</td>\n",
       "      <td>GTP&lt;ICMP&gt;</td>\n",
       "      <td>Type: 0 (Echo (ping) reply) seq=1/256</td>\n",
       "      <td>1.591863e+09</td>\n",
       "      <td>2.851188</td>\n",
       "      <td>2020-06-11 08:17:42.743887901</td>\n",
       "      <td>GTP&lt;ICMP&gt;</td>\n",
       "      <td></td>\n",
       "      <td>D:\\Temp\\free5gc.pcap</td>\n",
       "      <td>0</td>\n",
       "    </tr>\n",
       "  </tbody>\n",
       "</table>\n",
       "<p>117 rows × 15 columns</p>\n",
       "</div>"
      ],
      "text/plain": [
       "             ip_src          ip_dst port_src port_dst transport_protocol  \\\n",
       "0      10.200.200.1  10.200.200.101     8805     8805                udp   \n",
       "1    10.200.200.101    10.200.200.1     8805     8805                udp   \n",
       "2         127.0.0.1       127.0.0.1    37824    29518                tcp   \n",
       "3         127.0.0.1       127.0.0.1    37824    29518                tcp   \n",
       "4         127.0.0.1       127.0.0.1    29518    37824                tcp   \n",
       "..              ...             ...      ...      ...                ...   \n",
       "112  10.200.200.101    10.200.200.1     8805     8805                udp   \n",
       "113       127.0.0.1       127.0.0.1    29502    40452                tcp   \n",
       "114       127.0.0.1       127.0.0.1    29502    40452                tcp   \n",
       "115    10.200.200.1  10.200.200.102     2152     2152                udp   \n",
       "116  10.200.200.102    10.200.200.1     2152     2152                udp   \n",
       "\n",
       "    frame_number   protocol  \\\n",
       "0              1       PFCP   \n",
       "1              2       PFCP   \n",
       "2              4     HTTP/2   \n",
       "3              5     HTTP/2   \n",
       "4              9     HTTP/2   \n",
       "..           ...        ...   \n",
       "112          245       PFCP   \n",
       "113          246     HTTP/2   \n",
       "114          247     HTTP/2   \n",
       "115          249  GTP<ICMP>   \n",
       "116          250  GTP<ICMP>   \n",
       "\n",
       "                                       msg_description     timestamp  \\\n",
       "0    pfcp.flags:\\n-   pfcp.version: '001. .... = Ve...  1.591863e+09   \n",
       "1    pfcp.flags:\\n-   pfcp.version: '001. .... = Ve...  1.591863e+09   \n",
       "2    HTTP/2 stream: 3\\n:authority: 127.0.0.1:29518\\...  1.591863e+09   \n",
       "3    HTTP/2 stream 3 payload\\n{\\n  \"amfStatusUri\": ...  1.591863e+09   \n",
       "4    HTTP/2 stream: 3\\n:status: 201\\ncontent-type: ...  1.591863e+09   \n",
       "..                                                 ...           ...   \n",
       "112  pfcp.flags:\\n-   pfcp.version: '001. .... = Ve...  1.591863e+09   \n",
       "113  HTTP/2 stream: 3\\n:status: 200\\ncontent-type: ...  1.591863e+09   \n",
       "114  HTTP/2 stream 3 payload\\n2d2d36313161353433356...  1.591863e+09   \n",
       "115            Type: 8 (Echo (ping) request) seq=1/256  1.591863e+09   \n",
       "116              Type: 0 (Echo (ping) reply) seq=1/256  1.591863e+09   \n",
       "\n",
       "     timestamp_offset                      datetime  \\\n",
       "0            0.000000 2020-06-11 08:17:39.892699957   \n",
       "1            0.000514 2020-06-11 08:17:39.893213987   \n",
       "2            0.452013 2020-06-11 08:17:40.344713211   \n",
       "3            0.452034 2020-06-11 08:17:40.344734430   \n",
       "4            0.453564 2020-06-11 08:17:40.346263647   \n",
       "..                ...                           ...   \n",
       "112          1.853710 2020-06-11 08:17:41.746409655   \n",
       "113          1.854294 2020-06-11 08:17:41.746993542   \n",
       "114          1.854331 2020-06-11 08:17:41.747030973   \n",
       "115          2.851160 2020-06-11 08:17:42.743859529   \n",
       "116          2.851188 2020-06-11 08:17:42.743887901   \n",
       "\n",
       "                                           summary_raw  \\\n",
       "0        PFCP req.\\nPFCP Association Setup Request (5)   \n",
       "1       PFCP rsp.\\nPFCP Association Setup Response (6)   \n",
       "2       HTTP/2 req.\\nPOST  /namf-comm/v1/subscriptions   \n",
       "3              HTTP/2 req. or rsp. (no HTTP/2 headers)   \n",
       "4                                      HTTP/2 201 rsp.   \n",
       "..                                                 ...   \n",
       "112  PFCP rsp.\\nPFCP Session Modification Response ...   \n",
       "113                                    HTTP/2 200 rsp.   \n",
       "114            HTTP/2 req. or rsp. (no HTTP/2 headers)   \n",
       "115                                          GTP<ICMP>   \n",
       "116                                          GTP<ICMP>   \n",
       "\n",
       "                                     summary                  file  file_idx  \n",
       "0         PFCP Association Setup Request (5)  D:\\Temp\\free5gc.pcap         0  \n",
       "1        PFCP Association Setup Response (6)  D:\\Temp\\free5gc.pcap         0  \n",
       "2           POST /namf-comm/v1/subscriptions  D:\\Temp\\free5gc.pcap         0  \n",
       "3                                             D:\\Temp\\free5gc.pcap         0  \n",
       "4                                             D:\\Temp\\free5gc.pcap         0  \n",
       "..                                       ...                   ...       ...  \n",
       "112  PFCP Session Modification Response (53)  D:\\Temp\\free5gc.pcap         0  \n",
       "113                                           D:\\Temp\\free5gc.pcap         0  \n",
       "114                                           D:\\Temp\\free5gc.pcap         0  \n",
       "115                                           D:\\Temp\\free5gc.pcap         0  \n",
       "116                                           D:\\Temp\\free5gc.pcap         0  \n",
       "\n",
       "[117 rows x 15 columns]"
      ]
     },
     "metadata": {},
     "output_type": "display_data"
    }
   ],
   "source": [
    "if isinstance(wireshark_trace, list):\n",
    "    output_name_files = wireshark_trace[0]\n",
    "else:\n",
    "    output_name_files = wireshark_trace\n",
    "output_name_files = '.'.join(output_name_files.split('.')[0:-1])\n",
    "\n",
    "http2_ports= \"29502,29503,29504,29507,29509,29518,\"\n",
    "# DEBUG loggig level for big traces so that you can see if processing is stuck or not\n",
    "packets_df = import_pcap_as_dataframe(\n",
    "    wireshark_trace, \n",
    "    http2_ports = http2_ports+\"32445,5002,5000,32665,80,32077,5006,8080,3000,8081,29502,37904\",\n",
    "    wireshark_version = 'OS',\n",
    "    platform = platform.system(),\n",
    "    logging_level=logging.INFO,\n",
    "    remove_pdml=True)\n",
    "display(packets_df)"
   ]
  },
  {
   "cell_type": "code",
   "execution_count": 4,
   "metadata": {},
   "outputs": [
    {
     "data": {
      "text/plain": [
       "'Average procedure length (ms)'"
      ]
     },
     "metadata": {},
     "output_type": "display_data"
    },
    {
     "data": {
      "text/html": [
       "<div>\n",
       "<style scoped>\n",
       "    .dataframe tbody tr th:only-of-type {\n",
       "        vertical-align: middle;\n",
       "    }\n",
       "\n",
       "    .dataframe tbody tr th {\n",
       "        vertical-align: top;\n",
       "    }\n",
       "\n",
       "    .dataframe thead th {\n",
       "        text-align: right;\n",
       "    }\n",
       "</style>\n",
       "<table border=\"1\" class=\"dataframe\">\n",
       "  <thead>\n",
       "    <tr style=\"text-align: right;\">\n",
       "      <th></th>\n",
       "      <th>mean_procedure_time_ms</th>\n",
       "      <th>min_procedure_time_ms</th>\n",
       "      <th>max_procedure_time_ms</th>\n",
       "      <th>count</th>\n",
       "    </tr>\n",
       "    <tr>\n",
       "      <th>name</th>\n",
       "      <th></th>\n",
       "      <th></th>\n",
       "      <th></th>\n",
       "      <th></th>\n",
       "    </tr>\n",
       "  </thead>\n",
       "  <tbody>\n",
       "    <tr>\n",
       "      <th>HTTP GET /nudm-sdm/v1/smf-select-data</th>\n",
       "      <td>8.684874</td>\n",
       "      <td>8.684874</td>\n",
       "      <td>8.684874</td>\n",
       "      <td>1</td>\n",
       "    </tr>\n",
       "    <tr>\n",
       "      <th>HTTP GET /nudm-sdm/v1/ue-context-in-smf-data</th>\n",
       "      <td>11.763811</td>\n",
       "      <td>11.763811</td>\n",
       "      <td>11.763811</td>\n",
       "      <td>1</td>\n",
       "    </tr>\n",
       "    <tr>\n",
       "      <th>HTTP GET /nudr-dr/v1/policy-data/ues/am-data</th>\n",
       "      <td>4.590750</td>\n",
       "      <td>4.590750</td>\n",
       "      <td>4.590750</td>\n",
       "      <td>1</td>\n",
       "    </tr>\n",
       "    <tr>\n",
       "      <th>HTTP GET /nudr-dr/v1/policy-data/ues/sm-data</th>\n",
       "      <td>2.052784</td>\n",
       "      <td>2.052784</td>\n",
       "      <td>2.052784</td>\n",
       "      <td>1</td>\n",
       "    </tr>\n",
       "    <tr>\n",
       "      <th>HTTP GET /nudr-dr/v1/subscription-data/authentication-data/authentication-subscription</th>\n",
       "      <td>2.615213</td>\n",
       "      <td>2.615213</td>\n",
       "      <td>2.615213</td>\n",
       "      <td>1</td>\n",
       "    </tr>\n",
       "    <tr>\n",
       "      <th>HTTP GET /nudr-dr/v1/subscription-data/context-data/smf-registrations</th>\n",
       "      <td>0.842571</td>\n",
       "      <td>0.842571</td>\n",
       "      <td>0.842571</td>\n",
       "      <td>1</td>\n",
       "    </tr>\n",
       "    <tr>\n",
       "      <th>HTTP GET /nudr-dr/v1/subscription-data/provisioned-data/am-data</th>\n",
       "      <td>0.856400</td>\n",
       "      <td>0.545740</td>\n",
       "      <td>1.167059</td>\n",
       "      <td>2</td>\n",
       "    </tr>\n",
       "    <tr>\n",
       "      <th>HTTP GET /nudr-dr/v1/subscription-data/provisioned-data/sm-data</th>\n",
       "      <td>1.064777</td>\n",
       "      <td>1.064777</td>\n",
       "      <td>1.064777</td>\n",
       "      <td>1</td>\n",
       "    </tr>\n",
       "    <tr>\n",
       "      <th>HTTP GET /nudr-dr/v1/subscription-data/provisioned-data/smf-selection-subscription-data</th>\n",
       "      <td>0.962496</td>\n",
       "      <td>0.962496</td>\n",
       "      <td>0.962496</td>\n",
       "      <td>1</td>\n",
       "    </tr>\n",
       "    <tr>\n",
       "      <th>HTTP POST /namf-comm/v1/subscriptions</th>\n",
       "      <td>1.550436</td>\n",
       "      <td>1.550436</td>\n",
       "      <td>1.550436</td>\n",
       "      <td>1</td>\n",
       "    </tr>\n",
       "    <tr>\n",
       "      <th>HTTP POST /namf-comm/v1/ue-contexts/n1-n2-messages</th>\n",
       "      <td>1.645565</td>\n",
       "      <td>1.645565</td>\n",
       "      <td>1.645565</td>\n",
       "      <td>1</td>\n",
       "    </tr>\n",
       "    <tr>\n",
       "      <th>HTTP POST /nsmf-pdusession/v1/sm-contexts/urn:uuid:56763478-4032-4924-bbd5-35541af62ea0/modify</th>\n",
       "      <td>2.180576</td>\n",
       "      <td>2.180576</td>\n",
       "      <td>2.180576</td>\n",
       "      <td>1</td>\n",
       "    </tr>\n",
       "    <tr>\n",
       "      <th>HTTP POST /nudm-sdm/v1/sdm-subscriptions</th>\n",
       "      <td>8.040190</td>\n",
       "      <td>8.040190</td>\n",
       "      <td>8.040190</td>\n",
       "      <td>1</td>\n",
       "    </tr>\n",
       "    <tr>\n",
       "      <th>HTTP POST /nudr-dr/v1/subscription-data/context-data/sdm-subscriptions</th>\n",
       "      <td>0.385046</td>\n",
       "      <td>0.385046</td>\n",
       "      <td>0.385046</td>\n",
       "      <td>1</td>\n",
       "    </tr>\n",
       "    <tr>\n",
       "      <th>HTTP PUT /nudr-dr/v1/subscription-data/context-data/amf-3gpp-access</th>\n",
       "      <td>1.298666</td>\n",
       "      <td>1.298666</td>\n",
       "      <td>1.298666</td>\n",
       "      <td>1</td>\n",
       "    </tr>\n",
       "    <tr>\n",
       "      <th>HTTP PUT /nudr-dr/v1/subscription-data/suci-0-208-93-0-0-0-00007487/authentication-data/authentication-status</th>\n",
       "      <td>1.636744</td>\n",
       "      <td>1.636744</td>\n",
       "      <td>1.636744</td>\n",
       "      <td>1</td>\n",
       "    </tr>\n",
       "    <tr>\n",
       "      <th>NAS PDU Session Establishment</th>\n",
       "      <td>115.979671</td>\n",
       "      <td>115.979671</td>\n",
       "      <td>115.979671</td>\n",
       "      <td>1</td>\n",
       "    </tr>\n",
       "    <tr>\n",
       "      <th>NAS UE Registration</th>\n",
       "      <td>296.704531</td>\n",
       "      <td>296.704531</td>\n",
       "      <td>296.704531</td>\n",
       "      <td>1</td>\n",
       "    </tr>\n",
       "  </tbody>\n",
       "</table>\n",
       "</div>"
      ],
      "text/plain": [
       "                                                    mean_procedure_time_ms  \\\n",
       "name                                                                         \n",
       "HTTP GET /nudm-sdm/v1/smf-select-data                             8.684874   \n",
       "HTTP GET /nudm-sdm/v1/ue-context-in-smf-data                     11.763811   \n",
       "HTTP GET /nudr-dr/v1/policy-data/ues/am-data                      4.590750   \n",
       "HTTP GET /nudr-dr/v1/policy-data/ues/sm-data                      2.052784   \n",
       "HTTP GET /nudr-dr/v1/subscription-data/authenti...                2.615213   \n",
       "HTTP GET /nudr-dr/v1/subscription-data/context-...                0.842571   \n",
       "HTTP GET /nudr-dr/v1/subscription-data/provisio...                0.856400   \n",
       "HTTP GET /nudr-dr/v1/subscription-data/provisio...                1.064777   \n",
       "HTTP GET /nudr-dr/v1/subscription-data/provisio...                0.962496   \n",
       "HTTP POST /namf-comm/v1/subscriptions                             1.550436   \n",
       "HTTP POST /namf-comm/v1/ue-contexts/n1-n2-messages                1.645565   \n",
       "HTTP POST /nsmf-pdusession/v1/sm-contexts/urn:u...                2.180576   \n",
       "HTTP POST /nudm-sdm/v1/sdm-subscriptions                          8.040190   \n",
       "HTTP POST /nudr-dr/v1/subscription-data/context...                0.385046   \n",
       "HTTP PUT /nudr-dr/v1/subscription-data/context-...                1.298666   \n",
       "HTTP PUT /nudr-dr/v1/subscription-data/suci-0-2...                1.636744   \n",
       "NAS PDU Session Establishment                                   115.979671   \n",
       "NAS UE Registration                                             296.704531   \n",
       "\n",
       "                                                    min_procedure_time_ms  \\\n",
       "name                                                                        \n",
       "HTTP GET /nudm-sdm/v1/smf-select-data                            8.684874   \n",
       "HTTP GET /nudm-sdm/v1/ue-context-in-smf-data                    11.763811   \n",
       "HTTP GET /nudr-dr/v1/policy-data/ues/am-data                     4.590750   \n",
       "HTTP GET /nudr-dr/v1/policy-data/ues/sm-data                     2.052784   \n",
       "HTTP GET /nudr-dr/v1/subscription-data/authenti...               2.615213   \n",
       "HTTP GET /nudr-dr/v1/subscription-data/context-...               0.842571   \n",
       "HTTP GET /nudr-dr/v1/subscription-data/provisio...               0.545740   \n",
       "HTTP GET /nudr-dr/v1/subscription-data/provisio...               1.064777   \n",
       "HTTP GET /nudr-dr/v1/subscription-data/provisio...               0.962496   \n",
       "HTTP POST /namf-comm/v1/subscriptions                            1.550436   \n",
       "HTTP POST /namf-comm/v1/ue-contexts/n1-n2-messages               1.645565   \n",
       "HTTP POST /nsmf-pdusession/v1/sm-contexts/urn:u...               2.180576   \n",
       "HTTP POST /nudm-sdm/v1/sdm-subscriptions                         8.040190   \n",
       "HTTP POST /nudr-dr/v1/subscription-data/context...               0.385046   \n",
       "HTTP PUT /nudr-dr/v1/subscription-data/context-...               1.298666   \n",
       "HTTP PUT /nudr-dr/v1/subscription-data/suci-0-2...               1.636744   \n",
       "NAS PDU Session Establishment                                  115.979671   \n",
       "NAS UE Registration                                            296.704531   \n",
       "\n",
       "                                                    max_procedure_time_ms  \\\n",
       "name                                                                        \n",
       "HTTP GET /nudm-sdm/v1/smf-select-data                            8.684874   \n",
       "HTTP GET /nudm-sdm/v1/ue-context-in-smf-data                    11.763811   \n",
       "HTTP GET /nudr-dr/v1/policy-data/ues/am-data                     4.590750   \n",
       "HTTP GET /nudr-dr/v1/policy-data/ues/sm-data                     2.052784   \n",
       "HTTP GET /nudr-dr/v1/subscription-data/authenti...               2.615213   \n",
       "HTTP GET /nudr-dr/v1/subscription-data/context-...               0.842571   \n",
       "HTTP GET /nudr-dr/v1/subscription-data/provisio...               1.167059   \n",
       "HTTP GET /nudr-dr/v1/subscription-data/provisio...               1.064777   \n",
       "HTTP GET /nudr-dr/v1/subscription-data/provisio...               0.962496   \n",
       "HTTP POST /namf-comm/v1/subscriptions                            1.550436   \n",
       "HTTP POST /namf-comm/v1/ue-contexts/n1-n2-messages               1.645565   \n",
       "HTTP POST /nsmf-pdusession/v1/sm-contexts/urn:u...               2.180576   \n",
       "HTTP POST /nudm-sdm/v1/sdm-subscriptions                         8.040190   \n",
       "HTTP POST /nudr-dr/v1/subscription-data/context...               0.385046   \n",
       "HTTP PUT /nudr-dr/v1/subscription-data/context-...               1.298666   \n",
       "HTTP PUT /nudr-dr/v1/subscription-data/suci-0-2...               1.636744   \n",
       "NAS PDU Session Establishment                                  115.979671   \n",
       "NAS UE Registration                                            296.704531   \n",
       "\n",
       "                                                    count  \n",
       "name                                                       \n",
       "HTTP GET /nudm-sdm/v1/smf-select-data                   1  \n",
       "HTTP GET /nudm-sdm/v1/ue-context-in-smf-data            1  \n",
       "HTTP GET /nudr-dr/v1/policy-data/ues/am-data            1  \n",
       "HTTP GET /nudr-dr/v1/policy-data/ues/sm-data            1  \n",
       "HTTP GET /nudr-dr/v1/subscription-data/authenti...      1  \n",
       "HTTP GET /nudr-dr/v1/subscription-data/context-...      1  \n",
       "HTTP GET /nudr-dr/v1/subscription-data/provisio...      2  \n",
       "HTTP GET /nudr-dr/v1/subscription-data/provisio...      1  \n",
       "HTTP GET /nudr-dr/v1/subscription-data/provisio...      1  \n",
       "HTTP POST /namf-comm/v1/subscriptions                   1  \n",
       "HTTP POST /namf-comm/v1/ue-contexts/n1-n2-messages      1  \n",
       "HTTP POST /nsmf-pdusession/v1/sm-contexts/urn:u...      1  \n",
       "HTTP POST /nudm-sdm/v1/sdm-subscriptions                1  \n",
       "HTTP POST /nudr-dr/v1/subscription-data/context...      1  \n",
       "HTTP PUT /nudr-dr/v1/subscription-data/context-...      1  \n",
       "HTTP PUT /nudr-dr/v1/subscription-data/suci-0-2...      1  \n",
       "NAS PDU Session Establishment                           1  \n",
       "NAS UE Registration                                     1  "
      ]
     },
     "metadata": {},
     "output_type": "display_data"
    }
   ],
   "source": [
    "procedure_df, procedure_frames_df = trace_plotting.calculate_procedure_length(packets_df)\n",
    "#pd.set_option('display.max_rows', 10)\n",
    "#display(procedure_df)\n",
    "\n",
    "display('Average procedure length (ms)')\n",
    "mean_values = procedure_df.groupby('name')['length_ms'].mean()\n",
    "min_values = procedure_df.groupby('name')['length_ms'].min()\n",
    "max_values = procedure_df.groupby('name')['length_ms'].max()\n",
    "count_values = procedure_df.groupby('name')['length_ms'].count()\n",
    "summary_values = mean_values.reset_index()\n",
    "summary_values = summary_values.rename(columns={'length_ms':'mean_procedure_time_ms'})\n",
    "summary_values['min_procedure_time_ms'] = min_values.reset_index()['length_ms']\n",
    "summary_values['max_procedure_time_ms'] = max_values.reset_index()['length_ms']\n",
    "summary_values['count'] = count_values.reset_index()['length_ms']\n",
    "summary_values = summary_values.set_index('name')\n",
    "display(summary_values)\n",
    "with open(output_name_files + '_summary.txt', 'w') as f:\n",
    "    f.write(summary_values.to_string())\n",
    "#display(procedure_df)\n",
    "#display(procedure_frames_df)"
   ]
  },
  {
   "cell_type": "code",
   "execution_count": 5,
   "metadata": {},
   "outputs": [
    {
     "data": {
      "text/html": [
       "<div>\n",
       "<style scoped>\n",
       "    .dataframe tbody tr th:only-of-type {\n",
       "        vertical-align: middle;\n",
       "    }\n",
       "\n",
       "    .dataframe tbody tr th {\n",
       "        vertical-align: top;\n",
       "    }\n",
       "\n",
       "    .dataframe thead th {\n",
       "        text-align: right;\n",
       "    }\n",
       "</style>\n",
       "<table border=\"1\" class=\"dataframe\">\n",
       "  <thead>\n",
       "    <tr style=\"text-align: right;\">\n",
       "      <th></th>\n",
       "      <th>name</th>\n",
       "      <th>RAN_UE_NGAP_ID</th>\n",
       "      <th>length_ms</th>\n",
       "      <th>start_frame</th>\n",
       "      <th>end_frame</th>\n",
       "      <th>start_timestamp</th>\n",
       "      <th>end_timestamp</th>\n",
       "      <th>start_datetime</th>\n",
       "      <th>end_datetime</th>\n",
       "    </tr>\n",
       "  </thead>\n",
       "  <tbody>\n",
       "    <tr>\n",
       "      <th>0</th>\n",
       "      <td>HTTP POST /namf-comm/v1/subscriptions</td>\n",
       "      <td></td>\n",
       "      <td>1.550436</td>\n",
       "      <td>4</td>\n",
       "      <td>9</td>\n",
       "      <td>1.591863e+09</td>\n",
       "      <td>1.591863e+09</td>\n",
       "      <td>2020-06-11 08:17:40.344713211</td>\n",
       "      <td>2020-06-11 08:17:40.346263647</td>\n",
       "    </tr>\n",
       "    <tr>\n",
       "      <th>1</th>\n",
       "      <td>HTTP GET /nudr-dr/v1/subscription-data/authent...</td>\n",
       "      <td></td>\n",
       "      <td>2.615213</td>\n",
       "      <td>31</td>\n",
       "      <td>35</td>\n",
       "      <td>1.591863e+09</td>\n",
       "      <td>1.591863e+09</td>\n",
       "      <td>2020-06-11 08:17:41.238330603</td>\n",
       "      <td>2020-06-11 08:17:41.240945816</td>\n",
       "    </tr>\n",
       "    <tr>\n",
       "      <th>2</th>\n",
       "      <td>HTTP PUT /nudr-dr/v1/subscription-data/suci-0-...</td>\n",
       "      <td></td>\n",
       "      <td>1.636744</td>\n",
       "      <td>60</td>\n",
       "      <td>67</td>\n",
       "      <td>1.591863e+09</td>\n",
       "      <td>1.591863e+09</td>\n",
       "      <td>2020-06-11 08:17:41.265542746</td>\n",
       "      <td>2020-06-11 08:17:41.267179489</td>\n",
       "    </tr>\n",
       "    <tr>\n",
       "      <th>3</th>\n",
       "      <td>HTTP GET /nudr-dr/v1/subscription-data/provisi...</td>\n",
       "      <td></td>\n",
       "      <td>1.167059</td>\n",
       "      <td>82</td>\n",
       "      <td>87</td>\n",
       "      <td>1.591863e+09</td>\n",
       "      <td>1.591863e+09</td>\n",
       "      <td>2020-06-11 08:17:41.296955824</td>\n",
       "      <td>2020-06-11 08:17:41.298122883</td>\n",
       "    </tr>\n",
       "    <tr>\n",
       "      <th>4</th>\n",
       "      <td>HTTP PUT /nudr-dr/v1/subscription-data/context...</td>\n",
       "      <td></td>\n",
       "      <td>1.298666</td>\n",
       "      <td>101</td>\n",
       "      <td>107</td>\n",
       "      <td>1.591863e+09</td>\n",
       "      <td>1.591863e+09</td>\n",
       "      <td>2020-06-11 08:17:41.333893538</td>\n",
       "      <td>2020-06-11 08:17:41.335192204</td>\n",
       "    </tr>\n",
       "    <tr>\n",
       "      <th>5</th>\n",
       "      <td>HTTP GET /nudr-dr/v1/subscription-data/provisi...</td>\n",
       "      <td></td>\n",
       "      <td>0.545740</td>\n",
       "      <td>111</td>\n",
       "      <td>112</td>\n",
       "      <td>1.591863e+09</td>\n",
       "      <td>1.591863e+09</td>\n",
       "      <td>2020-06-11 08:17:41.335479021</td>\n",
       "      <td>2020-06-11 08:17:41.336024761</td>\n",
       "    </tr>\n",
       "    <tr>\n",
       "      <th>6</th>\n",
       "      <td>HTTP GET /nudr-dr/v1/subscription-data/provisi...</td>\n",
       "      <td></td>\n",
       "      <td>0.962496</td>\n",
       "      <td>119</td>\n",
       "      <td>123</td>\n",
       "      <td>1.591863e+09</td>\n",
       "      <td>1.591863e+09</td>\n",
       "      <td>2020-06-11 08:17:41.343847990</td>\n",
       "      <td>2020-06-11 08:17:41.344810486</td>\n",
       "    </tr>\n",
       "    <tr>\n",
       "      <th>7</th>\n",
       "      <td>HTTP GET /nudm-sdm/v1/smf-select-data</td>\n",
       "      <td></td>\n",
       "      <td>8.684874</td>\n",
       "      <td>116</td>\n",
       "      <td>125</td>\n",
       "      <td>1.591863e+09</td>\n",
       "      <td>1.591863e+09</td>\n",
       "      <td>2020-06-11 08:17:41.336300373</td>\n",
       "      <td>2020-06-11 08:17:41.344985247</td>\n",
       "    </tr>\n",
       "    <tr>\n",
       "      <th>8</th>\n",
       "      <td>HTTP GET /nudr-dr/v1/subscription-data/context...</td>\n",
       "      <td></td>\n",
       "      <td>0.842571</td>\n",
       "      <td>130</td>\n",
       "      <td>134</td>\n",
       "      <td>1.591863e+09</td>\n",
       "      <td>1.591863e+09</td>\n",
       "      <td>2020-06-11 08:17:41.355693579</td>\n",
       "      <td>2020-06-11 08:17:41.356536150</td>\n",
       "    </tr>\n",
       "    <tr>\n",
       "      <th>9</th>\n",
       "      <td>HTTP GET /nudm-sdm/v1/ue-context-in-smf-data</td>\n",
       "      <td></td>\n",
       "      <td>11.763811</td>\n",
       "      <td>127</td>\n",
       "      <td>136</td>\n",
       "      <td>1.591863e+09</td>\n",
       "      <td>1.591863e+09</td>\n",
       "      <td>2020-06-11 08:17:41.345069885</td>\n",
       "      <td>2020-06-11 08:17:41.356833696</td>\n",
       "    </tr>\n",
       "    <tr>\n",
       "      <th>10</th>\n",
       "      <td>HTTP POST /nudr-dr/v1/subscription-data/contex...</td>\n",
       "      <td></td>\n",
       "      <td>0.385046</td>\n",
       "      <td>143</td>\n",
       "      <td>148</td>\n",
       "      <td>1.591863e+09</td>\n",
       "      <td>1.591863e+09</td>\n",
       "      <td>2020-06-11 08:17:41.364491940</td>\n",
       "      <td>2020-06-11 08:17:41.364876986</td>\n",
       "    </tr>\n",
       "    <tr>\n",
       "      <th>11</th>\n",
       "      <td>HTTP POST /nudm-sdm/v1/sdm-subscriptions</td>\n",
       "      <td></td>\n",
       "      <td>8.040190</td>\n",
       "      <td>138</td>\n",
       "      <td>151</td>\n",
       "      <td>1.591863e+09</td>\n",
       "      <td>1.591863e+09</td>\n",
       "      <td>2020-06-11 08:17:41.356973886</td>\n",
       "      <td>2020-06-11 08:17:41.365014076</td>\n",
       "    </tr>\n",
       "    <tr>\n",
       "      <th>12</th>\n",
       "      <td>HTTP GET /nudr-dr/v1/policy-data/ues/am-data</td>\n",
       "      <td></td>\n",
       "      <td>4.590750</td>\n",
       "      <td>163</td>\n",
       "      <td>167</td>\n",
       "      <td>1.591863e+09</td>\n",
       "      <td>1.591863e+09</td>\n",
       "      <td>2020-06-11 08:17:41.405894756</td>\n",
       "      <td>2020-06-11 08:17:41.410485506</td>\n",
       "    </tr>\n",
       "    <tr>\n",
       "      <th>13</th>\n",
       "      <td>HTTP GET /nudr-dr/v1/subscription-data/provisi...</td>\n",
       "      <td></td>\n",
       "      <td>1.064777</td>\n",
       "      <td>193</td>\n",
       "      <td>194</td>\n",
       "      <td>1.591863e+09</td>\n",
       "      <td>1.591863e+09</td>\n",
       "      <td>2020-06-11 08:17:41.701599121</td>\n",
       "      <td>2020-06-11 08:17:41.702663898</td>\n",
       "    </tr>\n",
       "    <tr>\n",
       "      <th>14</th>\n",
       "      <td>HTTP GET /nudr-dr/v1/policy-data/ues/sm-data</td>\n",
       "      <td></td>\n",
       "      <td>2.052784</td>\n",
       "      <td>207</td>\n",
       "      <td>212</td>\n",
       "      <td>1.591863e+09</td>\n",
       "      <td>1.591863e+09</td>\n",
       "      <td>2020-06-11 08:17:41.726393938</td>\n",
       "      <td>2020-06-11 08:17:41.728446722</td>\n",
       "    </tr>\n",
       "    <tr>\n",
       "      <th>15</th>\n",
       "      <td>HTTP POST /namf-comm/v1/ue-contexts/n1-n2-mess...</td>\n",
       "      <td></td>\n",
       "      <td>1.645565</td>\n",
       "      <td>224</td>\n",
       "      <td>230</td>\n",
       "      <td>1.591863e+09</td>\n",
       "      <td>1.591863e+09</td>\n",
       "      <td>2020-06-11 08:17:41.740371466</td>\n",
       "      <td>2020-06-11 08:17:41.742017031</td>\n",
       "    </tr>\n",
       "    <tr>\n",
       "      <th>16</th>\n",
       "      <td>HTTP POST /nsmf-pdusession/v1/sm-contexts/urn:...</td>\n",
       "      <td></td>\n",
       "      <td>2.180576</td>\n",
       "      <td>236</td>\n",
       "      <td>246</td>\n",
       "      <td>1.591863e+09</td>\n",
       "      <td>1.591863e+09</td>\n",
       "      <td>2020-06-11 08:17:41.744812965</td>\n",
       "      <td>2020-06-11 08:17:41.746993542</td>\n",
       "    </tr>\n",
       "    <tr>\n",
       "      <th>17</th>\n",
       "      <td>NAS UE Registration</td>\n",
       "      <td>1</td>\n",
       "      <td>296.704531</td>\n",
       "      <td>15</td>\n",
       "      <td>171</td>\n",
       "      <td>1.591863e+09</td>\n",
       "      <td>1.591863e+09</td>\n",
       "      <td>2020-06-11 08:17:41.116638899</td>\n",
       "      <td>2020-06-11 08:17:41.413343430</td>\n",
       "    </tr>\n",
       "    <tr>\n",
       "      <th>18</th>\n",
       "      <td>NAS PDU Session Establishment</td>\n",
       "      <td>1</td>\n",
       "      <td>115.979671</td>\n",
       "      <td>175</td>\n",
       "      <td>228</td>\n",
       "      <td>1.591863e+09</td>\n",
       "      <td>1.591863e+09</td>\n",
       "      <td>2020-06-11 08:17:41.625842810</td>\n",
       "      <td>2020-06-11 08:17:41.741822481</td>\n",
       "    </tr>\n",
       "  </tbody>\n",
       "</table>\n",
       "</div>"
      ],
      "text/plain": [
       "                                                 name RAN_UE_NGAP_ID  \\\n",
       "0               HTTP POST /namf-comm/v1/subscriptions                  \n",
       "1   HTTP GET /nudr-dr/v1/subscription-data/authent...                  \n",
       "2   HTTP PUT /nudr-dr/v1/subscription-data/suci-0-...                  \n",
       "3   HTTP GET /nudr-dr/v1/subscription-data/provisi...                  \n",
       "4   HTTP PUT /nudr-dr/v1/subscription-data/context...                  \n",
       "5   HTTP GET /nudr-dr/v1/subscription-data/provisi...                  \n",
       "6   HTTP GET /nudr-dr/v1/subscription-data/provisi...                  \n",
       "7               HTTP GET /nudm-sdm/v1/smf-select-data                  \n",
       "8   HTTP GET /nudr-dr/v1/subscription-data/context...                  \n",
       "9        HTTP GET /nudm-sdm/v1/ue-context-in-smf-data                  \n",
       "10  HTTP POST /nudr-dr/v1/subscription-data/contex...                  \n",
       "11           HTTP POST /nudm-sdm/v1/sdm-subscriptions                  \n",
       "12       HTTP GET /nudr-dr/v1/policy-data/ues/am-data                  \n",
       "13  HTTP GET /nudr-dr/v1/subscription-data/provisi...                  \n",
       "14       HTTP GET /nudr-dr/v1/policy-data/ues/sm-data                  \n",
       "15  HTTP POST /namf-comm/v1/ue-contexts/n1-n2-mess...                  \n",
       "16  HTTP POST /nsmf-pdusession/v1/sm-contexts/urn:...                  \n",
       "17                                NAS UE Registration              1   \n",
       "18                      NAS PDU Session Establishment              1   \n",
       "\n",
       "     length_ms start_frame end_frame  start_timestamp  end_timestamp  \\\n",
       "0     1.550436           4         9     1.591863e+09   1.591863e+09   \n",
       "1     2.615213          31        35     1.591863e+09   1.591863e+09   \n",
       "2     1.636744          60        67     1.591863e+09   1.591863e+09   \n",
       "3     1.167059          82        87     1.591863e+09   1.591863e+09   \n",
       "4     1.298666         101       107     1.591863e+09   1.591863e+09   \n",
       "5     0.545740         111       112     1.591863e+09   1.591863e+09   \n",
       "6     0.962496         119       123     1.591863e+09   1.591863e+09   \n",
       "7     8.684874         116       125     1.591863e+09   1.591863e+09   \n",
       "8     0.842571         130       134     1.591863e+09   1.591863e+09   \n",
       "9    11.763811         127       136     1.591863e+09   1.591863e+09   \n",
       "10    0.385046         143       148     1.591863e+09   1.591863e+09   \n",
       "11    8.040190         138       151     1.591863e+09   1.591863e+09   \n",
       "12    4.590750         163       167     1.591863e+09   1.591863e+09   \n",
       "13    1.064777         193       194     1.591863e+09   1.591863e+09   \n",
       "14    2.052784         207       212     1.591863e+09   1.591863e+09   \n",
       "15    1.645565         224       230     1.591863e+09   1.591863e+09   \n",
       "16    2.180576         236       246     1.591863e+09   1.591863e+09   \n",
       "17  296.704531          15       171     1.591863e+09   1.591863e+09   \n",
       "18  115.979671         175       228     1.591863e+09   1.591863e+09   \n",
       "\n",
       "                  start_datetime                  end_datetime  \n",
       "0  2020-06-11 08:17:40.344713211 2020-06-11 08:17:40.346263647  \n",
       "1  2020-06-11 08:17:41.238330603 2020-06-11 08:17:41.240945816  \n",
       "2  2020-06-11 08:17:41.265542746 2020-06-11 08:17:41.267179489  \n",
       "3  2020-06-11 08:17:41.296955824 2020-06-11 08:17:41.298122883  \n",
       "4  2020-06-11 08:17:41.333893538 2020-06-11 08:17:41.335192204  \n",
       "5  2020-06-11 08:17:41.335479021 2020-06-11 08:17:41.336024761  \n",
       "6  2020-06-11 08:17:41.343847990 2020-06-11 08:17:41.344810486  \n",
       "7  2020-06-11 08:17:41.336300373 2020-06-11 08:17:41.344985247  \n",
       "8  2020-06-11 08:17:41.355693579 2020-06-11 08:17:41.356536150  \n",
       "9  2020-06-11 08:17:41.345069885 2020-06-11 08:17:41.356833696  \n",
       "10 2020-06-11 08:17:41.364491940 2020-06-11 08:17:41.364876986  \n",
       "11 2020-06-11 08:17:41.356973886 2020-06-11 08:17:41.365014076  \n",
       "12 2020-06-11 08:17:41.405894756 2020-06-11 08:17:41.410485506  \n",
       "13 2020-06-11 08:17:41.701599121 2020-06-11 08:17:41.702663898  \n",
       "14 2020-06-11 08:17:41.726393938 2020-06-11 08:17:41.728446722  \n",
       "15 2020-06-11 08:17:41.740371466 2020-06-11 08:17:41.742017031  \n",
       "16 2020-06-11 08:17:41.744812965 2020-06-11 08:17:41.746993542  \n",
       "17 2020-06-11 08:17:41.116638899 2020-06-11 08:17:41.413343430  \n",
       "18 2020-06-11 08:17:41.625842810 2020-06-11 08:17:41.741822481  "
      ]
     },
     "execution_count": 5,
     "metadata": {},
     "output_type": "execute_result"
    }
   ],
   "source": [
    "procedure_df"
   ]
  },
  {
   "cell_type": "code",
   "execution_count": 6,
   "metadata": {},
   "outputs": [
    {
     "data": {
      "text/html": [
       "<div>\n",
       "<style scoped>\n",
       "    .dataframe tbody tr th:only-of-type {\n",
       "        vertical-align: middle;\n",
       "    }\n",
       "\n",
       "    .dataframe tbody tr th {\n",
       "        vertical-align: top;\n",
       "    }\n",
       "\n",
       "    .dataframe thead th {\n",
       "        text-align: right;\n",
       "    }\n",
       "</style>\n",
       "<table border=\"1\" class=\"dataframe\">\n",
       "  <thead>\n",
       "    <tr style=\"text-align: right;\">\n",
       "      <th></th>\n",
       "      <th>ip_src</th>\n",
       "      <th>ip_dst</th>\n",
       "      <th>port_src</th>\n",
       "      <th>port_dst</th>\n",
       "      <th>transport_protocol</th>\n",
       "      <th>frame_number</th>\n",
       "      <th>protocol</th>\n",
       "      <th>msg_description</th>\n",
       "      <th>timestamp</th>\n",
       "      <th>timestamp_offset</th>\n",
       "      <th>datetime</th>\n",
       "      <th>summary_raw</th>\n",
       "      <th>summary</th>\n",
       "      <th>file</th>\n",
       "      <th>file_idx</th>\n",
       "      <th>AMF-UE-NGAP-ID</th>\n",
       "      <th>RAN-UE-NGAP-ID</th>\n",
       "      <th>HTTP_STREAM</th>\n",
       "      <th>HTTP_PROCEDURE</th>\n",
       "      <th>HTTP_TYPE</th>\n",
       "    </tr>\n",
       "  </thead>\n",
       "  <tbody>\n",
       "    <tr>\n",
       "      <th>2</th>\n",
       "      <td>127.0.0.1</td>\n",
       "      <td>127.0.0.1</td>\n",
       "      <td>37824</td>\n",
       "      <td>29518</td>\n",
       "      <td>tcp</td>\n",
       "      <td>4</td>\n",
       "      <td>HTTP/2</td>\n",
       "      <td>HTTP/2 stream: 3\\n:authority: 127.0.0.1:29518\\...</td>\n",
       "      <td>1.591863e+09</td>\n",
       "      <td>0.452013</td>\n",
       "      <td>2020-06-11 08:17:40.344713211</td>\n",
       "      <td>HTTP/2 req.\\nPOST  /namf-comm/v1/subscriptions</td>\n",
       "      <td>POST /namf-comm/v1/subscriptions</td>\n",
       "      <td>D:\\Temp\\free5gc.pcap</td>\n",
       "      <td>0</td>\n",
       "      <td></td>\n",
       "      <td></td>\n",
       "      <td>3</td>\n",
       "      <td>/namf-comm/v1/subscriptions</td>\n",
       "      <td>req</td>\n",
       "    </tr>\n",
       "    <tr>\n",
       "      <th>3</th>\n",
       "      <td>127.0.0.1</td>\n",
       "      <td>127.0.0.1</td>\n",
       "      <td>37824</td>\n",
       "      <td>29518</td>\n",
       "      <td>tcp</td>\n",
       "      <td>5</td>\n",
       "      <td>HTTP/2</td>\n",
       "      <td>HTTP/2 stream 3 payload\\n{\\n  \"amfStatusUri\": ...</td>\n",
       "      <td>1.591863e+09</td>\n",
       "      <td>0.452034</td>\n",
       "      <td>2020-06-11 08:17:40.344734430</td>\n",
       "      <td>HTTP/2 req. or rsp. (no HTTP/2 headers)</td>\n",
       "      <td></td>\n",
       "      <td>D:\\Temp\\free5gc.pcap</td>\n",
       "      <td>0</td>\n",
       "      <td></td>\n",
       "      <td></td>\n",
       "      <td></td>\n",
       "      <td></td>\n",
       "      <td>rsp</td>\n",
       "    </tr>\n",
       "    <tr>\n",
       "      <th>4</th>\n",
       "      <td>127.0.0.1</td>\n",
       "      <td>127.0.0.1</td>\n",
       "      <td>29518</td>\n",
       "      <td>37824</td>\n",
       "      <td>tcp</td>\n",
       "      <td>9</td>\n",
       "      <td>HTTP/2</td>\n",
       "      <td>HTTP/2 stream: 3\\n:status: 201\\ncontent-type: ...</td>\n",
       "      <td>1.591863e+09</td>\n",
       "      <td>0.453564</td>\n",
       "      <td>2020-06-11 08:17:40.346263647</td>\n",
       "      <td>HTTP/2 201 rsp.</td>\n",
       "      <td></td>\n",
       "      <td>D:\\Temp\\free5gc.pcap</td>\n",
       "      <td>0</td>\n",
       "      <td></td>\n",
       "      <td></td>\n",
       "      <td>3</td>\n",
       "      <td></td>\n",
       "      <td>rsp</td>\n",
       "    </tr>\n",
       "    <tr>\n",
       "      <th>5</th>\n",
       "      <td>127.0.0.1</td>\n",
       "      <td>127.0.0.1</td>\n",
       "      <td>29518</td>\n",
       "      <td>37824</td>\n",
       "      <td>tcp</td>\n",
       "      <td>10</td>\n",
       "      <td>HTTP/2</td>\n",
       "      <td>HTTP/2 stream 3 payload\\n{\\n  \"amfStatusUri\": ...</td>\n",
       "      <td>1.591863e+09</td>\n",
       "      <td>0.453606</td>\n",
       "      <td>2020-06-11 08:17:40.346306086</td>\n",
       "      <td>HTTP/2 req. or rsp. (no HTTP/2 headers)</td>\n",
       "      <td></td>\n",
       "      <td>D:\\Temp\\free5gc.pcap</td>\n",
       "      <td>0</td>\n",
       "      <td></td>\n",
       "      <td></td>\n",
       "      <td></td>\n",
       "      <td></td>\n",
       "      <td>rsp</td>\n",
       "    </tr>\n",
       "    <tr>\n",
       "      <th>8</th>\n",
       "      <td>127.0.0.1</td>\n",
       "      <td>127.0.0.1</td>\n",
       "      <td>9487</td>\n",
       "      <td>38412</td>\n",
       "      <td>sctp</td>\n",
       "      <td>15</td>\n",
       "      <td>NGAP</td>\n",
       "      <td>NGAP-PDU: 000f404a000005005500020001002600201f...</td>\n",
       "      <td>1.591863e+09</td>\n",
       "      <td>1.223939</td>\n",
       "      <td>2020-06-11 08:17:41.116638899</td>\n",
       "      <td>NGAP InitialUEMessage (15),\\nNAS Registration ...</td>\n",
       "      <td>NAS Registration request (0x41)</td>\n",
       "      <td>D:\\Temp\\free5gc.pcap</td>\n",
       "      <td>0</td>\n",
       "      <td></td>\n",
       "      <td>1</td>\n",
       "      <td></td>\n",
       "      <td></td>\n",
       "      <td></td>\n",
       "    </tr>\n",
       "    <tr>\n",
       "      <th>...</th>\n",
       "      <td>...</td>\n",
       "      <td>...</td>\n",
       "      <td>...</td>\n",
       "      <td>...</td>\n",
       "      <td>...</td>\n",
       "      <td>...</td>\n",
       "      <td>...</td>\n",
       "      <td>...</td>\n",
       "      <td>...</td>\n",
       "      <td>...</td>\n",
       "      <td>...</td>\n",
       "      <td>...</td>\n",
       "      <td>...</td>\n",
       "      <td>...</td>\n",
       "      <td>...</td>\n",
       "      <td>...</td>\n",
       "      <td>...</td>\n",
       "      <td>...</td>\n",
       "      <td>...</td>\n",
       "      <td>...</td>\n",
       "    </tr>\n",
       "    <tr>\n",
       "      <th>107</th>\n",
       "      <td>127.0.0.1</td>\n",
       "      <td>127.0.0.1</td>\n",
       "      <td>29518</td>\n",
       "      <td>37904</td>\n",
       "      <td>tcp</td>\n",
       "      <td>231</td>\n",
       "      <td>HTTP/2</td>\n",
       "      <td>HTTP/2 stream 3 payload\\n{\\n  \"cause\": \"N1_N2_...</td>\n",
       "      <td>1.591863e+09</td>\n",
       "      <td>1.849335</td>\n",
       "      <td>2020-06-11 08:17:41.742035151</td>\n",
       "      <td>HTTP/2 req. or rsp. (no HTTP/2 headers)</td>\n",
       "      <td></td>\n",
       "      <td>D:\\Temp\\free5gc.pcap</td>\n",
       "      <td>0</td>\n",
       "      <td></td>\n",
       "      <td></td>\n",
       "      <td></td>\n",
       "      <td></td>\n",
       "      <td>rsp</td>\n",
       "    </tr>\n",
       "    <tr>\n",
       "      <th>109</th>\n",
       "      <td>127.0.0.1</td>\n",
       "      <td>127.0.0.1</td>\n",
       "      <td>40452</td>\n",
       "      <td>29502</td>\n",
       "      <td>tcp</td>\n",
       "      <td>236</td>\n",
       "      <td>HTTP/2</td>\n",
       "      <td>HTTP/2 stream: 3\\n:authority: 127.0.0.1:29502\\...</td>\n",
       "      <td>1.591863e+09</td>\n",
       "      <td>1.852113</td>\n",
       "      <td>2020-06-11 08:17:41.744812965</td>\n",
       "      <td>HTTP/2 req.\\nPOST  /nsmf-pdusession/v1/sm-cont...</td>\n",
       "      <td>POST /nsmf-pdusession/v1/sm-contexts/urn:uuid:...</td>\n",
       "      <td>D:\\Temp\\free5gc.pcap</td>\n",
       "      <td>0</td>\n",
       "      <td></td>\n",
       "      <td></td>\n",
       "      <td>3</td>\n",
       "      <td>/nsmf-pdusession/v1/sm-contexts/urn:uuid:56763...</td>\n",
       "      <td>req</td>\n",
       "    </tr>\n",
       "    <tr>\n",
       "      <th>110</th>\n",
       "      <td>127.0.0.1</td>\n",
       "      <td>127.0.0.1</td>\n",
       "      <td>40452</td>\n",
       "      <td>29502</td>\n",
       "      <td>tcp</td>\n",
       "      <td>237</td>\n",
       "      <td>HTTP/2</td>\n",
       "      <td>HTTP/2 stream 3 payload\\n2d2d66353264363537393...</td>\n",
       "      <td>1.591863e+09</td>\n",
       "      <td>1.852167</td>\n",
       "      <td>2020-06-11 08:17:41.744867325</td>\n",
       "      <td>HTTP/2 req. or rsp. (no HTTP/2 headers)</td>\n",
       "      <td></td>\n",
       "      <td>D:\\Temp\\free5gc.pcap</td>\n",
       "      <td>0</td>\n",
       "      <td></td>\n",
       "      <td></td>\n",
       "      <td></td>\n",
       "      <td></td>\n",
       "      <td>rsp</td>\n",
       "    </tr>\n",
       "    <tr>\n",
       "      <th>113</th>\n",
       "      <td>127.0.0.1</td>\n",
       "      <td>127.0.0.1</td>\n",
       "      <td>29502</td>\n",
       "      <td>40452</td>\n",
       "      <td>tcp</td>\n",
       "      <td>246</td>\n",
       "      <td>HTTP/2</td>\n",
       "      <td>HTTP/2 stream: 3\\n:status: 200\\ncontent-type: ...</td>\n",
       "      <td>1.591863e+09</td>\n",
       "      <td>1.854294</td>\n",
       "      <td>2020-06-11 08:17:41.746993542</td>\n",
       "      <td>HTTP/2 200 rsp.</td>\n",
       "      <td></td>\n",
       "      <td>D:\\Temp\\free5gc.pcap</td>\n",
       "      <td>0</td>\n",
       "      <td></td>\n",
       "      <td></td>\n",
       "      <td>3</td>\n",
       "      <td></td>\n",
       "      <td>rsp</td>\n",
       "    </tr>\n",
       "    <tr>\n",
       "      <th>114</th>\n",
       "      <td>127.0.0.1</td>\n",
       "      <td>127.0.0.1</td>\n",
       "      <td>29502</td>\n",
       "      <td>40452</td>\n",
       "      <td>tcp</td>\n",
       "      <td>247</td>\n",
       "      <td>HTTP/2</td>\n",
       "      <td>HTTP/2 stream 3 payload\\n2d2d36313161353433356...</td>\n",
       "      <td>1.591863e+09</td>\n",
       "      <td>1.854331</td>\n",
       "      <td>2020-06-11 08:17:41.747030973</td>\n",
       "      <td>HTTP/2 req. or rsp. (no HTTP/2 headers)</td>\n",
       "      <td></td>\n",
       "      <td>D:\\Temp\\free5gc.pcap</td>\n",
       "      <td>0</td>\n",
       "      <td></td>\n",
       "      <td></td>\n",
       "      <td></td>\n",
       "      <td></td>\n",
       "      <td>rsp</td>\n",
       "    </tr>\n",
       "  </tbody>\n",
       "</table>\n",
       "<p>101 rows × 20 columns</p>\n",
       "</div>"
      ],
      "text/plain": [
       "        ip_src     ip_dst port_src port_dst transport_protocol frame_number  \\\n",
       "2    127.0.0.1  127.0.0.1    37824    29518                tcp            4   \n",
       "3    127.0.0.1  127.0.0.1    37824    29518                tcp            5   \n",
       "4    127.0.0.1  127.0.0.1    29518    37824                tcp            9   \n",
       "5    127.0.0.1  127.0.0.1    29518    37824                tcp           10   \n",
       "8    127.0.0.1  127.0.0.1     9487    38412               sctp           15   \n",
       "..         ...        ...      ...      ...                ...          ...   \n",
       "107  127.0.0.1  127.0.0.1    29518    37904                tcp          231   \n",
       "109  127.0.0.1  127.0.0.1    40452    29502                tcp          236   \n",
       "110  127.0.0.1  127.0.0.1    40452    29502                tcp          237   \n",
       "113  127.0.0.1  127.0.0.1    29502    40452                tcp          246   \n",
       "114  127.0.0.1  127.0.0.1    29502    40452                tcp          247   \n",
       "\n",
       "    protocol                                    msg_description     timestamp  \\\n",
       "2     HTTP/2  HTTP/2 stream: 3\\n:authority: 127.0.0.1:29518\\...  1.591863e+09   \n",
       "3     HTTP/2  HTTP/2 stream 3 payload\\n{\\n  \"amfStatusUri\": ...  1.591863e+09   \n",
       "4     HTTP/2  HTTP/2 stream: 3\\n:status: 201\\ncontent-type: ...  1.591863e+09   \n",
       "5     HTTP/2  HTTP/2 stream 3 payload\\n{\\n  \"amfStatusUri\": ...  1.591863e+09   \n",
       "8       NGAP  NGAP-PDU: 000f404a000005005500020001002600201f...  1.591863e+09   \n",
       "..       ...                                                ...           ...   \n",
       "107   HTTP/2  HTTP/2 stream 3 payload\\n{\\n  \"cause\": \"N1_N2_...  1.591863e+09   \n",
       "109   HTTP/2  HTTP/2 stream: 3\\n:authority: 127.0.0.1:29502\\...  1.591863e+09   \n",
       "110   HTTP/2  HTTP/2 stream 3 payload\\n2d2d66353264363537393...  1.591863e+09   \n",
       "113   HTTP/2  HTTP/2 stream: 3\\n:status: 200\\ncontent-type: ...  1.591863e+09   \n",
       "114   HTTP/2  HTTP/2 stream 3 payload\\n2d2d36313161353433356...  1.591863e+09   \n",
       "\n",
       "     timestamp_offset                      datetime  \\\n",
       "2            0.452013 2020-06-11 08:17:40.344713211   \n",
       "3            0.452034 2020-06-11 08:17:40.344734430   \n",
       "4            0.453564 2020-06-11 08:17:40.346263647   \n",
       "5            0.453606 2020-06-11 08:17:40.346306086   \n",
       "8            1.223939 2020-06-11 08:17:41.116638899   \n",
       "..                ...                           ...   \n",
       "107          1.849335 2020-06-11 08:17:41.742035151   \n",
       "109          1.852113 2020-06-11 08:17:41.744812965   \n",
       "110          1.852167 2020-06-11 08:17:41.744867325   \n",
       "113          1.854294 2020-06-11 08:17:41.746993542   \n",
       "114          1.854331 2020-06-11 08:17:41.747030973   \n",
       "\n",
       "                                           summary_raw  \\\n",
       "2       HTTP/2 req.\\nPOST  /namf-comm/v1/subscriptions   \n",
       "3              HTTP/2 req. or rsp. (no HTTP/2 headers)   \n",
       "4                                      HTTP/2 201 rsp.   \n",
       "5              HTTP/2 req. or rsp. (no HTTP/2 headers)   \n",
       "8    NGAP InitialUEMessage (15),\\nNAS Registration ...   \n",
       "..                                                 ...   \n",
       "107            HTTP/2 req. or rsp. (no HTTP/2 headers)   \n",
       "109  HTTP/2 req.\\nPOST  /nsmf-pdusession/v1/sm-cont...   \n",
       "110            HTTP/2 req. or rsp. (no HTTP/2 headers)   \n",
       "113                                    HTTP/2 200 rsp.   \n",
       "114            HTTP/2 req. or rsp. (no HTTP/2 headers)   \n",
       "\n",
       "                                               summary                  file  \\\n",
       "2                     POST /namf-comm/v1/subscriptions  D:\\Temp\\free5gc.pcap   \n",
       "3                                                       D:\\Temp\\free5gc.pcap   \n",
       "4                                                       D:\\Temp\\free5gc.pcap   \n",
       "5                                                       D:\\Temp\\free5gc.pcap   \n",
       "8                      NAS Registration request (0x41)  D:\\Temp\\free5gc.pcap   \n",
       "..                                                 ...                   ...   \n",
       "107                                                     D:\\Temp\\free5gc.pcap   \n",
       "109  POST /nsmf-pdusession/v1/sm-contexts/urn:uuid:...  D:\\Temp\\free5gc.pcap   \n",
       "110                                                     D:\\Temp\\free5gc.pcap   \n",
       "113                                                     D:\\Temp\\free5gc.pcap   \n",
       "114                                                     D:\\Temp\\free5gc.pcap   \n",
       "\n",
       "     file_idx AMF-UE-NGAP-ID RAN-UE-NGAP-ID HTTP_STREAM  \\\n",
       "2           0                                         3   \n",
       "3           0                                             \n",
       "4           0                                         3   \n",
       "5           0                                             \n",
       "8           0                             1               \n",
       "..        ...            ...            ...         ...   \n",
       "107         0                                             \n",
       "109         0                                         3   \n",
       "110         0                                             \n",
       "113         0                                         3   \n",
       "114         0                                             \n",
       "\n",
       "                                        HTTP_PROCEDURE HTTP_TYPE  \n",
       "2                          /namf-comm/v1/subscriptions       req  \n",
       "3                                                            rsp  \n",
       "4                                                            rsp  \n",
       "5                                                            rsp  \n",
       "8                                                                 \n",
       "..                                                 ...       ...  \n",
       "107                                                          rsp  \n",
       "109  /nsmf-pdusession/v1/sm-contexts/urn:uuid:56763...       req  \n",
       "110                                                          rsp  \n",
       "113                                                          rsp  \n",
       "114                                                          rsp  \n",
       "\n",
       "[101 rows x 20 columns]"
      ]
     },
     "execution_count": 6,
     "metadata": {},
     "output_type": "execute_result"
    }
   ],
   "source": [
    "procedure_frames_df"
   ]
  },
  {
   "cell_type": "code",
   "execution_count": 7,
   "metadata": {},
   "outputs": [
    {
     "data": {
      "application/vnd.plotly.v1+json": {
       "config": {
        "plotlyServerURL": "https://plot.ly"
       },
       "data": [
        {
         "hovertemplate": "duration: %{text}<br>occurrences: %{y}",
         "name": "HTTP GET /nudm-sdm/v1/smf-select-data",
         "opacity": 0.65,
         "showlegend": true,
         "text": [
          "8 to 1ms",
          "8 to 4ms",
          "8 to 7ms",
          "8 to 10ms",
          "10 to 13ms",
          "13 to 16ms",
          "16 to 19ms",
          "19 to 22ms"
         ],
         "type": "bar",
         "x": {
          "bdata": "AAMGCQwPEhU=",
          "dtype": "i1"
         },
         "y": {
          "bdata": "AAABAAAAAA==",
          "dtype": "i1"
         }
        },
        {
         "hovertemplate": "duration: %{text}<br>occurrences: %{y}",
         "name": "HTTP GET /nudm-sdm/v1/ue-context-in-smf-data",
         "opacity": 0.65,
         "showlegend": true,
         "text": [
          "11 to 1ms",
          "11 to 4ms",
          "11 to 7ms",
          "11 to 10ms",
          "11 to 13ms",
          "13 to 16ms",
          "16 to 19ms",
          "19 to 22ms",
          "22 to 25ms"
         ],
         "type": "bar",
         "x": {
          "bdata": "AAMGCQwPEhUY",
          "dtype": "i1"
         },
         "y": {
          "bdata": "AAAAAQAAAAA=",
          "dtype": "i1"
         }
        },
        {
         "hovertemplate": "duration: %{text}<br>occurrences: %{y}",
         "name": "HTTP GET /nudr-dr/v1/policy-data/ues/am-data",
         "opacity": 0.65,
         "showlegend": true,
         "text": [
          "4 to 1ms",
          "4 to 4ms",
          "4 to 7ms",
          "7 to 10ms",
          "10 to 13ms",
          "13 to 16ms",
          "16 to 19ms"
         ],
         "type": "bar",
         "x": {
          "bdata": "AAMGCQwPEg==",
          "dtype": "i1"
         },
         "y": {
          "bdata": "AAEAAAAA",
          "dtype": "i1"
         }
        },
        {
         "hovertemplate": "duration: %{text}<br>occurrences: %{y}",
         "name": "HTTP GET /nudr-dr/v1/policy-data/ues/sm-data",
         "opacity": 0.65,
         "showlegend": true,
         "text": [
          "2 to 1ms",
          "2 to 4ms",
          "4 to 7ms",
          "7 to 10ms",
          "10 to 13ms",
          "13 to 16ms"
         ],
         "type": "bar",
         "x": {
          "bdata": "AAMGCQwP",
          "dtype": "i1"
         },
         "y": {
          "bdata": "AQAAAAA=",
          "dtype": "i1"
         }
        },
        {
         "hovertemplate": "duration: %{text}<br>occurrences: %{y}",
         "name": "HTTP GET /nudr-dr/v1/subscription-data/authentication-data/authentication-subscription",
         "opacity": 0.65,
         "showlegend": true,
         "text": [
          "2 to 1ms",
          "2 to 4ms",
          "4 to 7ms",
          "7 to 10ms",
          "10 to 13ms",
          "13 to 16ms"
         ],
         "type": "bar",
         "x": {
          "bdata": "AAMGCQwP",
          "dtype": "i1"
         },
         "y": {
          "bdata": "AQAAAAA=",
          "dtype": "i1"
         }
        },
        {
         "hovertemplate": "duration: %{text}<br>occurrences: %{y}",
         "name": "HTTP GET /nudr-dr/v1/subscription-data/context-data/smf-registrations",
         "opacity": 0.65,
         "showlegend": true,
         "text": [
          "0 to 1ms",
          "1 to 4ms",
          "4 to 7ms",
          "7 to 10ms",
          "10 to 13ms"
         ],
         "type": "bar",
         "x": {
          "bdata": "AAMGCQw=",
          "dtype": "i1"
         },
         "y": {
          "bdata": "AQAAAA==",
          "dtype": "i1"
         }
        },
        {
         "hovertemplate": "duration: %{text}<br>occurrences: %{y}",
         "name": "HTTP GET /nudr-dr/v1/subscription-data/provisioned-data/am-data",
         "opacity": 0.65,
         "showlegend": true,
         "text": [
          "0 to 1ms",
          "1 to 4ms",
          "4 to 7ms",
          "7 to 10ms",
          "10 to 13ms",
          "13 to 16ms"
         ],
         "type": "bar",
         "x": {
          "bdata": "AAMGCQwP",
          "dtype": "i1"
         },
         "y": {
          "bdata": "AgAAAAA=",
          "dtype": "i1"
         }
        },
        {
         "hovertemplate": "duration: %{text}<br>occurrences: %{y}",
         "name": "HTTP GET /nudr-dr/v1/subscription-data/provisioned-data/sm-data",
         "opacity": 0.65,
         "showlegend": true,
         "text": [
          "1 to 1ms",
          "1 to 4ms",
          "4 to 7ms",
          "7 to 10ms",
          "10 to 13ms",
          "13 to 16ms"
         ],
         "type": "bar",
         "x": {
          "bdata": "AAMGCQwP",
          "dtype": "i1"
         },
         "y": {
          "bdata": "AQAAAAA=",
          "dtype": "i1"
         }
        },
        {
         "hovertemplate": "duration: %{text}<br>occurrences: %{y}",
         "name": "HTTP GET /nudr-dr/v1/subscription-data/provisioned-data/smf-selection-subscription-data",
         "opacity": 0.65,
         "showlegend": true,
         "text": [
          "0 to 1ms",
          "1 to 4ms",
          "4 to 7ms",
          "7 to 10ms",
          "10 to 13ms"
         ],
         "type": "bar",
         "x": {
          "bdata": "AAMGCQw=",
          "dtype": "i1"
         },
         "y": {
          "bdata": "AQAAAA==",
          "dtype": "i1"
         }
        },
        {
         "hovertemplate": "duration: %{text}<br>occurrences: %{y}",
         "name": "HTTP POST /namf-comm/v1/subscriptions",
         "opacity": 0.65,
         "showlegend": true,
         "text": [
          "1 to 1ms",
          "1 to 4ms",
          "4 to 7ms",
          "7 to 10ms",
          "10 to 13ms",
          "13 to 16ms"
         ],
         "type": "bar",
         "x": {
          "bdata": "AAMGCQwP",
          "dtype": "i1"
         },
         "y": {
          "bdata": "AQAAAAA=",
          "dtype": "i1"
         }
        },
        {
         "hovertemplate": "duration: %{text}<br>occurrences: %{y}",
         "name": "HTTP POST /namf-comm/v1/ue-contexts/n1-n2-messages",
         "opacity": 0.65,
         "showlegend": true,
         "text": [
          "1 to 1ms",
          "1 to 4ms",
          "4 to 7ms",
          "7 to 10ms",
          "10 to 13ms",
          "13 to 16ms"
         ],
         "type": "bar",
         "x": {
          "bdata": "AAMGCQwP",
          "dtype": "i1"
         },
         "y": {
          "bdata": "AQAAAAA=",
          "dtype": "i1"
         }
        },
        {
         "hovertemplate": "duration: %{text}<br>occurrences: %{y}",
         "name": "HTTP POST /nsmf-pdusession/v1/sm-contexts/urn:uuid:56763478-4032-4924-bbd5-35541af62ea0/modify",
         "opacity": 0.65,
         "showlegend": true,
         "text": [
          "2 to 1ms",
          "2 to 4ms",
          "4 to 7ms",
          "7 to 10ms",
          "10 to 13ms",
          "13 to 16ms"
         ],
         "type": "bar",
         "x": {
          "bdata": "AAMGCQwP",
          "dtype": "i1"
         },
         "y": {
          "bdata": "AQAAAAA=",
          "dtype": "i1"
         }
        },
        {
         "hovertemplate": "duration: %{text}<br>occurrences: %{y}",
         "name": "HTTP POST /nudm-sdm/v1/sdm-subscriptions",
         "opacity": 0.65,
         "showlegend": true,
         "text": [
          "8 to 1ms",
          "8 to 4ms",
          "8 to 7ms",
          "8 to 10ms",
          "10 to 13ms",
          "13 to 16ms",
          "16 to 19ms",
          "19 to 22ms"
         ],
         "type": "bar",
         "x": {
          "bdata": "AAMGCQwPEhU=",
          "dtype": "i1"
         },
         "y": {
          "bdata": "AAABAAAAAA==",
          "dtype": "i1"
         }
        },
        {
         "hovertemplate": "duration: %{text}<br>occurrences: %{y}",
         "name": "HTTP POST /nudr-dr/v1/subscription-data/context-data/sdm-subscriptions",
         "opacity": 0.65,
         "showlegend": true,
         "text": [
          "0 to 1ms",
          "1 to 4ms",
          "4 to 7ms",
          "7 to 10ms",
          "10 to 13ms"
         ],
         "type": "bar",
         "x": {
          "bdata": "AAMGCQw=",
          "dtype": "i1"
         },
         "y": {
          "bdata": "AQAAAA==",
          "dtype": "i1"
         }
        },
        {
         "hovertemplate": "duration: %{text}<br>occurrences: %{y}",
         "name": "HTTP PUT /nudr-dr/v1/subscription-data/context-data/amf-3gpp-access",
         "opacity": 0.65,
         "showlegend": true,
         "text": [
          "1 to 1ms",
          "1 to 4ms",
          "4 to 7ms",
          "7 to 10ms",
          "10 to 13ms",
          "13 to 16ms"
         ],
         "type": "bar",
         "x": {
          "bdata": "AAMGCQwP",
          "dtype": "i1"
         },
         "y": {
          "bdata": "AQAAAAA=",
          "dtype": "i1"
         }
        },
        {
         "hovertemplate": "duration: %{text}<br>occurrences: %{y}",
         "name": "HTTP PUT /nudr-dr/v1/subscription-data/suci-0-208-93-0-0-0-00007487/authentication-data/authentication-status",
         "opacity": 0.65,
         "showlegend": true,
         "text": [
          "1 to 1ms",
          "1 to 4ms",
          "4 to 7ms",
          "7 to 10ms",
          "10 to 13ms",
          "13 to 16ms"
         ],
         "type": "bar",
         "x": {
          "bdata": "AAMGCQwP",
          "dtype": "i1"
         },
         "y": {
          "bdata": "AQAAAAA=",
          "dtype": "i1"
         }
        },
        {
         "hovertemplate": "duration: %{text}<br>occurrences: %{y}",
         "name": "NAS PDU Session Establishment",
         "opacity": 0.65,
         "showlegend": true,
         "text": [
          "115 to 1ms",
          "115 to 4ms",
          "115 to 7ms",
          "115 to 10ms",
          "115 to 13ms",
          "115 to 16ms",
          "115 to 19ms",
          "115 to 22ms",
          "115 to 25ms",
          "115 to 28ms",
          "115 to 31ms",
          "115 to 34ms",
          "115 to 37ms",
          "115 to 40ms",
          "115 to 43ms",
          "115 to 46ms",
          "115 to 49ms",
          "115 to 52ms",
          "115 to 55ms",
          "115 to 58ms",
          "115 to 61ms",
          "115 to 64ms",
          "115 to 67ms",
          "115 to 70ms",
          "115 to 73ms",
          "115 to 76ms",
          "115 to 79ms",
          "115 to 82ms",
          "115 to 85ms",
          "115 to 88ms",
          "115 to 91ms",
          "115 to 94ms",
          "115 to 97ms",
          "115 to 100ms",
          "115 to 103ms",
          "115 to 106ms",
          "115 to 109ms",
          "115 to 112ms",
          "115 to 115ms",
          "115 to 118ms",
          "118 to 121ms",
          "121 to 124ms",
          "124 to 127ms",
          "127 to 130ms"
         ],
         "type": "bar",
         "x": {
          "bdata": "AAADAAYACQAMAA8AEgAVABgAGwAeACEAJAAnACoALQAwADMANgA5ADwAPwBCAEUASABLAE4AUQBUAFcAWgBdAGAAYwBmAGkAbABvAHIAdQB4AHsAfgCBAA==",
          "dtype": "i2"
         },
         "y": {
          "bdata": "AAAAAAAAAAAAAAAAAAAAAAAAAAAAAAAAAAAAAAAAAAAAAAAAAAABAAAAAA==",
          "dtype": "i1"
         }
        },
        {
         "hovertemplate": "duration: %{text}<br>occurrences: %{y}",
         "name": "NAS UE Registration",
         "opacity": 0.65,
         "showlegend": true,
         "text": [
          "296 to 1ms",
          "296 to 4ms",
          "296 to 7ms",
          "296 to 10ms",
          "296 to 13ms",
          "296 to 16ms",
          "296 to 19ms",
          "296 to 22ms",
          "296 to 25ms",
          "296 to 28ms",
          "296 to 31ms",
          "296 to 34ms",
          "296 to 37ms",
          "296 to 40ms",
          "296 to 43ms",
          "296 to 46ms",
          "296 to 49ms",
          "296 to 52ms",
          "296 to 55ms",
          "296 to 58ms",
          "296 to 61ms",
          "296 to 64ms",
          "296 to 67ms",
          "296 to 70ms",
          "296 to 73ms",
          "296 to 76ms",
          "296 to 79ms",
          "296 to 82ms",
          "296 to 85ms",
          "296 to 88ms",
          "296 to 91ms",
          "296 to 94ms",
          "296 to 97ms",
          "296 to 100ms",
          "296 to 103ms",
          "296 to 106ms",
          "296 to 109ms",
          "296 to 112ms",
          "296 to 115ms",
          "296 to 118ms",
          "296 to 121ms",
          "296 to 124ms",
          "296 to 127ms",
          "296 to 130ms",
          "296 to 133ms",
          "296 to 136ms",
          "296 to 139ms",
          "296 to 142ms",
          "296 to 145ms",
          "296 to 148ms",
          "296 to 151ms",
          "296 to 154ms",
          "296 to 157ms",
          "296 to 160ms",
          "296 to 163ms",
          "296 to 166ms",
          "296 to 169ms",
          "296 to 172ms",
          "296 to 175ms",
          "296 to 178ms",
          "296 to 181ms",
          "296 to 184ms",
          "296 to 187ms",
          "296 to 190ms",
          "296 to 193ms",
          "296 to 196ms",
          "296 to 199ms",
          "296 to 202ms",
          "296 to 205ms",
          "296 to 208ms",
          "296 to 211ms",
          "296 to 214ms",
          "296 to 217ms",
          "296 to 220ms",
          "296 to 223ms",
          "296 to 226ms",
          "296 to 229ms",
          "296 to 232ms",
          "296 to 235ms",
          "296 to 238ms",
          "296 to 241ms",
          "296 to 244ms",
          "296 to 247ms",
          "296 to 250ms",
          "296 to 253ms",
          "296 to 256ms",
          "296 to 259ms",
          "296 to 262ms",
          "296 to 265ms",
          "296 to 268ms",
          "296 to 271ms",
          "296 to 274ms",
          "296 to 277ms",
          "296 to 280ms",
          "296 to 283ms",
          "296 to 286ms",
          "296 to 289ms",
          "296 to 292ms",
          "296 to 295ms",
          "296 to 298ms",
          "298 to 301ms",
          "301 to 304ms",
          "304 to 307ms",
          "307 to 310ms"
         ],
         "type": "bar",
         "x": {
          "bdata": "AAADAAYACQAMAA8AEgAVABgAGwAeACEAJAAnACoALQAwADMANgA5ADwAPwBCAEUASABLAE4AUQBUAFcAWgBdAGAAYwBmAGkAbABvAHIAdQB4AHsAfgCBAIQAhwCKAI0AkACTAJYAmQCcAJ8AogClAKgAqwCuALEAtAC3ALoAvQDAAMMAxgDJAMwAzwDSANUA2ADbAN4A4QDkAOcA6gDtAPAA8wD2APkA/AD/AAIBBQEIAQsBDgERARQBFwEaAR0BIAEjASYBKQEsAS8BMgE1AQ==",
          "dtype": "i2"
         },
         "y": {
          "bdata": "AAAAAAAAAAAAAAAAAAAAAAAAAAAAAAAAAAAAAAAAAAAAAAAAAAAAAAAAAAAAAAAAAAAAAAAAAAAAAAAAAAAAAAAAAAAAAAAAAAAAAAAAAAAAAAAAAAAAAAAAAAAAAAAAAAABAAAAAA==",
          "dtype": "i1"
         }
        }
       ],
       "layout": {
        "bargap": 0,
        "barmode": "overlay",
        "template": {
         "data": {
          "bar": [
           {
            "error_x": {
             "color": "#2a3f5f"
            },
            "error_y": {
             "color": "#2a3f5f"
            },
            "marker": {
             "line": {
              "color": "#E5ECF6",
              "width": 0.5
             },
             "pattern": {
              "fillmode": "overlay",
              "size": 10,
              "solidity": 0.2
             }
            },
            "type": "bar"
           }
          ],
          "barpolar": [
           {
            "marker": {
             "line": {
              "color": "#E5ECF6",
              "width": 0.5
             },
             "pattern": {
              "fillmode": "overlay",
              "size": 10,
              "solidity": 0.2
             }
            },
            "type": "barpolar"
           }
          ],
          "carpet": [
           {
            "aaxis": {
             "endlinecolor": "#2a3f5f",
             "gridcolor": "white",
             "linecolor": "white",
             "minorgridcolor": "white",
             "startlinecolor": "#2a3f5f"
            },
            "baxis": {
             "endlinecolor": "#2a3f5f",
             "gridcolor": "white",
             "linecolor": "white",
             "minorgridcolor": "white",
             "startlinecolor": "#2a3f5f"
            },
            "type": "carpet"
           }
          ],
          "choropleth": [
           {
            "colorbar": {
             "outlinewidth": 0,
             "ticks": ""
            },
            "type": "choropleth"
           }
          ],
          "contour": [
           {
            "colorbar": {
             "outlinewidth": 0,
             "ticks": ""
            },
            "colorscale": [
             [
              0,
              "#0d0887"
             ],
             [
              0.1111111111111111,
              "#46039f"
             ],
             [
              0.2222222222222222,
              "#7201a8"
             ],
             [
              0.3333333333333333,
              "#9c179e"
             ],
             [
              0.4444444444444444,
              "#bd3786"
             ],
             [
              0.5555555555555556,
              "#d8576b"
             ],
             [
              0.6666666666666666,
              "#ed7953"
             ],
             [
              0.7777777777777778,
              "#fb9f3a"
             ],
             [
              0.8888888888888888,
              "#fdca26"
             ],
             [
              1,
              "#f0f921"
             ]
            ],
            "type": "contour"
           }
          ],
          "contourcarpet": [
           {
            "colorbar": {
             "outlinewidth": 0,
             "ticks": ""
            },
            "type": "contourcarpet"
           }
          ],
          "heatmap": [
           {
            "colorbar": {
             "outlinewidth": 0,
             "ticks": ""
            },
            "colorscale": [
             [
              0,
              "#0d0887"
             ],
             [
              0.1111111111111111,
              "#46039f"
             ],
             [
              0.2222222222222222,
              "#7201a8"
             ],
             [
              0.3333333333333333,
              "#9c179e"
             ],
             [
              0.4444444444444444,
              "#bd3786"
             ],
             [
              0.5555555555555556,
              "#d8576b"
             ],
             [
              0.6666666666666666,
              "#ed7953"
             ],
             [
              0.7777777777777778,
              "#fb9f3a"
             ],
             [
              0.8888888888888888,
              "#fdca26"
             ],
             [
              1,
              "#f0f921"
             ]
            ],
            "type": "heatmap"
           }
          ],
          "histogram": [
           {
            "marker": {
             "pattern": {
              "fillmode": "overlay",
              "size": 10,
              "solidity": 0.2
             }
            },
            "type": "histogram"
           }
          ],
          "histogram2d": [
           {
            "colorbar": {
             "outlinewidth": 0,
             "ticks": ""
            },
            "colorscale": [
             [
              0,
              "#0d0887"
             ],
             [
              0.1111111111111111,
              "#46039f"
             ],
             [
              0.2222222222222222,
              "#7201a8"
             ],
             [
              0.3333333333333333,
              "#9c179e"
             ],
             [
              0.4444444444444444,
              "#bd3786"
             ],
             [
              0.5555555555555556,
              "#d8576b"
             ],
             [
              0.6666666666666666,
              "#ed7953"
             ],
             [
              0.7777777777777778,
              "#fb9f3a"
             ],
             [
              0.8888888888888888,
              "#fdca26"
             ],
             [
              1,
              "#f0f921"
             ]
            ],
            "type": "histogram2d"
           }
          ],
          "histogram2dcontour": [
           {
            "colorbar": {
             "outlinewidth": 0,
             "ticks": ""
            },
            "colorscale": [
             [
              0,
              "#0d0887"
             ],
             [
              0.1111111111111111,
              "#46039f"
             ],
             [
              0.2222222222222222,
              "#7201a8"
             ],
             [
              0.3333333333333333,
              "#9c179e"
             ],
             [
              0.4444444444444444,
              "#bd3786"
             ],
             [
              0.5555555555555556,
              "#d8576b"
             ],
             [
              0.6666666666666666,
              "#ed7953"
             ],
             [
              0.7777777777777778,
              "#fb9f3a"
             ],
             [
              0.8888888888888888,
              "#fdca26"
             ],
             [
              1,
              "#f0f921"
             ]
            ],
            "type": "histogram2dcontour"
           }
          ],
          "mesh3d": [
           {
            "colorbar": {
             "outlinewidth": 0,
             "ticks": ""
            },
            "type": "mesh3d"
           }
          ],
          "parcoords": [
           {
            "line": {
             "colorbar": {
              "outlinewidth": 0,
              "ticks": ""
             }
            },
            "type": "parcoords"
           }
          ],
          "pie": [
           {
            "automargin": true,
            "type": "pie"
           }
          ],
          "scatter": [
           {
            "fillpattern": {
             "fillmode": "overlay",
             "size": 10,
             "solidity": 0.2
            },
            "type": "scatter"
           }
          ],
          "scatter3d": [
           {
            "line": {
             "colorbar": {
              "outlinewidth": 0,
              "ticks": ""
             }
            },
            "marker": {
             "colorbar": {
              "outlinewidth": 0,
              "ticks": ""
             }
            },
            "type": "scatter3d"
           }
          ],
          "scattercarpet": [
           {
            "marker": {
             "colorbar": {
              "outlinewidth": 0,
              "ticks": ""
             }
            },
            "type": "scattercarpet"
           }
          ],
          "scattergeo": [
           {
            "marker": {
             "colorbar": {
              "outlinewidth": 0,
              "ticks": ""
             }
            },
            "type": "scattergeo"
           }
          ],
          "scattergl": [
           {
            "marker": {
             "colorbar": {
              "outlinewidth": 0,
              "ticks": ""
             }
            },
            "type": "scattergl"
           }
          ],
          "scattermap": [
           {
            "marker": {
             "colorbar": {
              "outlinewidth": 0,
              "ticks": ""
             }
            },
            "type": "scattermap"
           }
          ],
          "scattermapbox": [
           {
            "marker": {
             "colorbar": {
              "outlinewidth": 0,
              "ticks": ""
             }
            },
            "type": "scattermapbox"
           }
          ],
          "scatterpolar": [
           {
            "marker": {
             "colorbar": {
              "outlinewidth": 0,
              "ticks": ""
             }
            },
            "type": "scatterpolar"
           }
          ],
          "scatterpolargl": [
           {
            "marker": {
             "colorbar": {
              "outlinewidth": 0,
              "ticks": ""
             }
            },
            "type": "scatterpolargl"
           }
          ],
          "scatterternary": [
           {
            "marker": {
             "colorbar": {
              "outlinewidth": 0,
              "ticks": ""
             }
            },
            "type": "scatterternary"
           }
          ],
          "surface": [
           {
            "colorbar": {
             "outlinewidth": 0,
             "ticks": ""
            },
            "colorscale": [
             [
              0,
              "#0d0887"
             ],
             [
              0.1111111111111111,
              "#46039f"
             ],
             [
              0.2222222222222222,
              "#7201a8"
             ],
             [
              0.3333333333333333,
              "#9c179e"
             ],
             [
              0.4444444444444444,
              "#bd3786"
             ],
             [
              0.5555555555555556,
              "#d8576b"
             ],
             [
              0.6666666666666666,
              "#ed7953"
             ],
             [
              0.7777777777777778,
              "#fb9f3a"
             ],
             [
              0.8888888888888888,
              "#fdca26"
             ],
             [
              1,
              "#f0f921"
             ]
            ],
            "type": "surface"
           }
          ],
          "table": [
           {
            "cells": {
             "fill": {
              "color": "#EBF0F8"
             },
             "line": {
              "color": "white"
             }
            },
            "header": {
             "fill": {
              "color": "#C8D4E3"
             },
             "line": {
              "color": "white"
             }
            },
            "type": "table"
           }
          ]
         },
         "layout": {
          "annotationdefaults": {
           "arrowcolor": "#2a3f5f",
           "arrowhead": 0,
           "arrowwidth": 1
          },
          "autotypenumbers": "strict",
          "coloraxis": {
           "colorbar": {
            "outlinewidth": 0,
            "ticks": ""
           }
          },
          "colorscale": {
           "diverging": [
            [
             0,
             "#8e0152"
            ],
            [
             0.1,
             "#c51b7d"
            ],
            [
             0.2,
             "#de77ae"
            ],
            [
             0.3,
             "#f1b6da"
            ],
            [
             0.4,
             "#fde0ef"
            ],
            [
             0.5,
             "#f7f7f7"
            ],
            [
             0.6,
             "#e6f5d0"
            ],
            [
             0.7,
             "#b8e186"
            ],
            [
             0.8,
             "#7fbc41"
            ],
            [
             0.9,
             "#4d9221"
            ],
            [
             1,
             "#276419"
            ]
           ],
           "sequential": [
            [
             0,
             "#0d0887"
            ],
            [
             0.1111111111111111,
             "#46039f"
            ],
            [
             0.2222222222222222,
             "#7201a8"
            ],
            [
             0.3333333333333333,
             "#9c179e"
            ],
            [
             0.4444444444444444,
             "#bd3786"
            ],
            [
             0.5555555555555556,
             "#d8576b"
            ],
            [
             0.6666666666666666,
             "#ed7953"
            ],
            [
             0.7777777777777778,
             "#fb9f3a"
            ],
            [
             0.8888888888888888,
             "#fdca26"
            ],
            [
             1,
             "#f0f921"
            ]
           ],
           "sequentialminus": [
            [
             0,
             "#0d0887"
            ],
            [
             0.1111111111111111,
             "#46039f"
            ],
            [
             0.2222222222222222,
             "#7201a8"
            ],
            [
             0.3333333333333333,
             "#9c179e"
            ],
            [
             0.4444444444444444,
             "#bd3786"
            ],
            [
             0.5555555555555556,
             "#d8576b"
            ],
            [
             0.6666666666666666,
             "#ed7953"
            ],
            [
             0.7777777777777778,
             "#fb9f3a"
            ],
            [
             0.8888888888888888,
             "#fdca26"
            ],
            [
             1,
             "#f0f921"
            ]
           ]
          },
          "colorway": [
           "#636efa",
           "#EF553B",
           "#00cc96",
           "#ab63fa",
           "#FFA15A",
           "#19d3f3",
           "#FF6692",
           "#B6E880",
           "#FF97FF",
           "#FECB52"
          ],
          "font": {
           "color": "#2a3f5f"
          },
          "geo": {
           "bgcolor": "white",
           "lakecolor": "white",
           "landcolor": "#E5ECF6",
           "showlakes": true,
           "showland": true,
           "subunitcolor": "white"
          },
          "hoverlabel": {
           "align": "left"
          },
          "hovermode": "closest",
          "mapbox": {
           "style": "light"
          },
          "paper_bgcolor": "white",
          "plot_bgcolor": "#E5ECF6",
          "polar": {
           "angularaxis": {
            "gridcolor": "white",
            "linecolor": "white",
            "ticks": ""
           },
           "bgcolor": "#E5ECF6",
           "radialaxis": {
            "gridcolor": "white",
            "linecolor": "white",
            "ticks": ""
           }
          },
          "scene": {
           "xaxis": {
            "backgroundcolor": "#E5ECF6",
            "gridcolor": "white",
            "gridwidth": 2,
            "linecolor": "white",
            "showbackground": true,
            "ticks": "",
            "zerolinecolor": "white"
           },
           "yaxis": {
            "backgroundcolor": "#E5ECF6",
            "gridcolor": "white",
            "gridwidth": 2,
            "linecolor": "white",
            "showbackground": true,
            "ticks": "",
            "zerolinecolor": "white"
           },
           "zaxis": {
            "backgroundcolor": "#E5ECF6",
            "gridcolor": "white",
            "gridwidth": 2,
            "linecolor": "white",
            "showbackground": true,
            "ticks": "",
            "zerolinecolor": "white"
           }
          },
          "shapedefaults": {
           "line": {
            "color": "#2a3f5f"
           }
          },
          "ternary": {
           "aaxis": {
            "gridcolor": "white",
            "linecolor": "white",
            "ticks": ""
           },
           "baxis": {
            "gridcolor": "white",
            "linecolor": "white",
            "ticks": ""
           },
           "bgcolor": "#E5ECF6",
           "caxis": {
            "gridcolor": "white",
            "linecolor": "white",
            "ticks": ""
           }
          },
          "title": {
           "x": 0.05
          },
          "xaxis": {
           "automargin": true,
           "gridcolor": "white",
           "linecolor": "white",
           "ticks": "",
           "title": {
            "standoff": 15
           },
           "zerolinecolor": "white",
           "zerolinewidth": 2
          },
          "yaxis": {
           "automargin": true,
           "gridcolor": "white",
           "linecolor": "white",
           "ticks": "",
           "title": {
            "standoff": 15
           },
           "zerolinecolor": "white",
           "zerolinewidth": 2
          }
         }
        },
        "xaxis": {
         "title": {
          "text": "Procedure length (ms)"
         }
        },
        "yaxis": {
         "title": {
          "text": "Occurrence"
         }
        }
       }
      }
     },
     "metadata": {},
     "output_type": "display_data"
    }
   ],
   "source": [
    "import plotly.graph_objects as go\n",
    "\n",
    "bin_size = 3\n",
    "\n",
    "procedure_names = list(procedure_df['name'].unique())\n",
    "procedure_names.sort()\n",
    "histogram_traces = []\n",
    "\n",
    "for procedure_name in procedure_names:\n",
    "    proc_data = procedure_df[procedure_df['name']==procedure_name]\n",
    "    hist_array, hist_bins, hist_labels = trace_plotting.get_histogram_data(\n",
    "        proc_data.loc[:,'length_ms'], \n",
    "        bin_size, \n",
    "        density=False, \n",
    "        remove_trailing_zeros=False, \n",
    "        output_labels=True,\n",
    "        label_unit='ms')\n",
    "    histogram_line = go.Bar(\n",
    "        x=hist_bins,\n",
    "        y=hist_array,\n",
    "        name=procedure_name,\n",
    "        text=hist_labels,\n",
    "        opacity=0.65,\n",
    "        showlegend=True,\n",
    "        #marker={'line':{'width':0}},\n",
    "        hovertemplate=\"<br>\".join([\n",
    "            \"duration: %{text}\",\n",
    "            \"occurrences: %{y}\"])\n",
    "    )\n",
    "    histogram_traces.append(histogram_line)\n",
    "\n",
    "fig = go.Figure(data=histogram_traces, layout = { 'bargap': 0 })\n",
    "\n",
    "fig.update_layout(barmode='overlay')\n",
    "fig.update_xaxes(title_text='Procedure length (ms)')\n",
    "fig.update_yaxes(title_text='Occurrence')\n",
    "fig.show()\n",
    "\n",
    "fig.write_html(output_name_files + '_procedure_length.html')"
   ]
  },
  {
   "cell_type": "code",
   "execution_count": 8,
   "metadata": {},
   "outputs": [
    {
     "data": {
      "application/vnd.plotly.v1+json": {
       "config": {
        "plotlyServerURL": "https://plot.ly"
       },
       "data": [
        {
         "hovertemplate": "%{text}, %{y}ms",
         "mode": "markers",
         "name": "HTTP GET /nudm-sdm/v1/smf-select-data",
         "opacity": 0.65,
         "showlegend": true,
         "text": [
          "Frame 116, 08:17:41.336"
         ],
         "type": "scatter",
         "x": [
          "2020-06-11T08:17:41.336300373"
         ],
         "y": {
          "bdata": "AAAAwKdeIUA=",
          "dtype": "f8"
         }
        },
        {
         "hovertemplate": "%{text}, %{y}ms",
         "mode": "markers",
         "name": "HTTP GET /nudm-sdm/v1/ue-context-in-smf-data",
         "opacity": 0.65,
         "showlegend": true,
         "text": [
          "Frame 127, 08:17:41.345"
         ],
         "type": "scatter",
         "x": [
          "2020-06-11T08:17:41.345069885"
         ],
         "y": {
          "bdata": "AAAAQBKHJ0A=",
          "dtype": "f8"
         }
        },
        {
         "hovertemplate": "%{text}, %{y}ms",
         "mode": "markers",
         "name": "HTTP GET /nudr-dr/v1/policy-data/ues/am-data",
         "opacity": 0.65,
         "showlegend": true,
         "text": [
          "Frame 163, 08:17:41.405"
         ],
         "type": "scatter",
         "x": [
          "2020-06-11T08:17:41.405894756"
         ],
         "y": {
          "bdata": "AAAAgO1cEkA=",
          "dtype": "f8"
         }
        },
        {
         "hovertemplate": "%{text}, %{y}ms",
         "mode": "markers",
         "name": "HTTP GET /nudr-dr/v1/policy-data/ues/sm-data",
         "opacity": 0.65,
         "showlegend": true,
         "text": [
          "Frame 207, 08:17:41.726"
         ],
         "type": "scatter",
         "x": [
          "2020-06-11T08:17:41.726393938"
         ],
         "y": {
          "bdata": "AAAAABpsAEA=",
          "dtype": "f8"
         }
        },
        {
         "hovertemplate": "%{text}, %{y}ms",
         "mode": "markers",
         "name": "HTTP GET /nudr-dr/v1/subscription-data/authentication-data/authentication-subscription",
         "opacity": 0.65,
         "showlegend": true,
         "text": [
          "Frame 31, 08:17:41.238"
         ],
         "type": "scatter",
         "x": [
          "2020-06-11T08:17:41.238330603"
         ],
         "y": {
          "bdata": "AAAAAPXrBEA=",
          "dtype": "f8"
         }
        },
        {
         "hovertemplate": "%{text}, %{y}ms",
         "mode": "markers",
         "name": "HTTP GET /nudr-dr/v1/subscription-data/context-data/smf-registrations",
         "opacity": 0.65,
         "showlegend": true,
         "text": [
          "Frame 130, 08:17:41.355"
         ],
         "type": "scatter",
         "x": [
          "2020-06-11T08:17:41.355693579"
         ],
         "y": {
          "bdata": "AAAAAFj26j8=",
          "dtype": "f8"
         }
        },
        {
         "hovertemplate": "%{text}, %{y}ms",
         "mode": "markers",
         "name": "HTTP GET /nudr-dr/v1/subscription-data/provisioned-data/am-data",
         "opacity": 0.65,
         "showlegend": true,
         "text": [
          "Frame 111, 08:17:41.335",
          "Frame 82, 08:17:41.296"
         ],
         "type": "scatter",
         "x": [
          "2020-06-11T08:17:41.335479021",
          "2020-06-11T08:17:41.296955824"
         ],
         "y": {
          "bdata": "AAAAALR24T8AAAAARqzyPw==",
          "dtype": "f8"
         }
        },
        {
         "hovertemplate": "%{text}, %{y}ms",
         "mode": "markers",
         "name": "HTTP GET /nudr-dr/v1/subscription-data/provisioned-data/sm-data",
         "opacity": 0.65,
         "showlegend": true,
         "text": [
          "Frame 193, 08:17:41.701"
         ],
         "type": "scatter",
         "x": [
          "2020-06-11T08:17:41.701599121"
         ],
         "y": {
          "bdata": "AAAAAFQJ8T8=",
          "dtype": "f8"
         }
        },
        {
         "hovertemplate": "%{text}, %{y}ms",
         "mode": "markers",
         "name": "HTTP GET /nudr-dr/v1/subscription-data/provisioned-data/smf-selection-subscription-data",
         "opacity": 0.65,
         "showlegend": true,
         "text": [
          "Frame 119, 08:17:41.343"
         ],
         "type": "scatter",
         "x": [
          "2020-06-11T08:17:41.343847990"
         ],
         "y": {
          "bdata": "AAAAAMTM7j8=",
          "dtype": "f8"
         }
        },
        {
         "hovertemplate": "%{text}, %{y}ms",
         "mode": "markers",
         "name": "HTTP POST /namf-comm/v1/subscriptions",
         "opacity": 0.65,
         "showlegend": true,
         "text": [
          "Frame 4, 08:17:40.344"
         ],
         "type": "scatter",
         "x": [
          "2020-06-11T08:17:40.344713211"
         ],
         "y": {
          "bdata": "AAAAAJbO+D8=",
          "dtype": "f8"
         }
        },
        {
         "hovertemplate": "%{text}, %{y}ms",
         "mode": "markers",
         "name": "HTTP POST /namf-comm/v1/ue-contexts/n1-n2-messages",
         "opacity": 0.65,
         "showlegend": true,
         "text": [
          "Frame 224, 08:17:41.740"
         ],
         "type": "scatter",
         "x": [
          "2020-06-11T08:17:41.740371466"
         ],
         "y": {
          "bdata": "AAAAADxU+j8=",
          "dtype": "f8"
         }
        },
        {
         "hovertemplate": "%{text}, %{y}ms",
         "mode": "markers",
         "name": "HTTP POST /nsmf-pdusession/v1/sm-contexts/urn:uuid:56763478-4032-4924-bbd5-35541af62ea0/modify",
         "opacity": 0.65,
         "showlegend": true,
         "text": [
          "Frame 236, 08:17:41.744"
         ],
         "type": "scatter",
         "x": [
          "2020-06-11T08:17:41.744812965"
         ],
         "y": {
          "bdata": "AAAAANJxAUA=",
          "dtype": "f8"
         }
        },
        {
         "hovertemplate": "%{text}, %{y}ms",
         "mode": "markers",
         "name": "HTTP POST /nudm-sdm/v1/sdm-subscriptions",
         "opacity": 0.65,
         "showlegend": true,
         "text": [
          "Frame 138, 08:17:41.356"
         ],
         "type": "scatter",
         "x": [
          "2020-06-11T08:17:41.356973886"
         ],
         "y": {
          "bdata": "AAAAwJMUIEA=",
          "dtype": "f8"
         }
        },
        {
         "hovertemplate": "%{text}, %{y}ms",
         "mode": "markers",
         "name": "HTTP POST /nudr-dr/v1/subscription-data/context-data/sdm-subscriptions",
         "opacity": 0.65,
         "showlegend": true,
         "text": [
          "Frame 143, 08:17:41.364"
         ],
         "type": "scatter",
         "x": [
          "2020-06-11T08:17:41.364491940"
         ],
         "y": {
          "bdata": "AAAAAJik2D8=",
          "dtype": "f8"
         }
        },
        {
         "hovertemplate": "%{text}, %{y}ms",
         "mode": "markers",
         "name": "HTTP PUT /nudr-dr/v1/subscription-data/context-data/amf-3gpp-access",
         "opacity": 0.65,
         "showlegend": true,
         "text": [
          "Frame 101, 08:17:41.333"
         ],
         "type": "scatter",
         "x": [
          "2020-06-11T08:17:41.333893538"
         ],
         "y": {
          "bdata": "AAAAAFbH9D8=",
          "dtype": "f8"
         }
        },
        {
         "hovertemplate": "%{text}, %{y}ms",
         "mode": "markers",
         "name": "HTTP PUT /nudr-dr/v1/subscription-data/suci-0-208-93-0-0-0-00007487/authentication-data/authentication-status",
         "opacity": 0.65,
         "showlegend": true,
         "text": [
          "Frame 60, 08:17:41.265"
         ],
         "type": "scatter",
         "x": [
          "2020-06-11T08:17:41.265542746"
         ],
         "y": {
          "bdata": "AAAAABow+j8=",
          "dtype": "f8"
         }
        },
        {
         "hovertemplate": "%{text}, %{y}ms",
         "mode": "markers",
         "name": "NAS PDU Session Establishment",
         "opacity": 0.65,
         "showlegend": true,
         "text": [
          "Frame 175, 08:17:41.625"
         ],
         "type": "scatter",
         "x": [
          "2020-06-11T08:17:41.625842810"
         ],
         "y": {
          "bdata": "AAAA8LL+XEA=",
          "dtype": "f8"
         }
        },
        {
         "hovertemplate": "%{text}, %{y}ms",
         "mode": "markers",
         "name": "NAS UE Registration",
         "opacity": 0.65,
         "showlegend": true,
         "text": [
          "Frame 15, 08:17:41.116"
         ],
         "type": "scatter",
         "x": [
          "2020-06-11T08:17:41.116638899"
         ],
         "y": {
          "bdata": "AAAAwkWLckA=",
          "dtype": "f8"
         }
        }
       ],
       "layout": {
        "template": {
         "data": {
          "bar": [
           {
            "error_x": {
             "color": "#2a3f5f"
            },
            "error_y": {
             "color": "#2a3f5f"
            },
            "marker": {
             "line": {
              "color": "#E5ECF6",
              "width": 0.5
             },
             "pattern": {
              "fillmode": "overlay",
              "size": 10,
              "solidity": 0.2
             }
            },
            "type": "bar"
           }
          ],
          "barpolar": [
           {
            "marker": {
             "line": {
              "color": "#E5ECF6",
              "width": 0.5
             },
             "pattern": {
              "fillmode": "overlay",
              "size": 10,
              "solidity": 0.2
             }
            },
            "type": "barpolar"
           }
          ],
          "carpet": [
           {
            "aaxis": {
             "endlinecolor": "#2a3f5f",
             "gridcolor": "white",
             "linecolor": "white",
             "minorgridcolor": "white",
             "startlinecolor": "#2a3f5f"
            },
            "baxis": {
             "endlinecolor": "#2a3f5f",
             "gridcolor": "white",
             "linecolor": "white",
             "minorgridcolor": "white",
             "startlinecolor": "#2a3f5f"
            },
            "type": "carpet"
           }
          ],
          "choropleth": [
           {
            "colorbar": {
             "outlinewidth": 0,
             "ticks": ""
            },
            "type": "choropleth"
           }
          ],
          "contour": [
           {
            "colorbar": {
             "outlinewidth": 0,
             "ticks": ""
            },
            "colorscale": [
             [
              0,
              "#0d0887"
             ],
             [
              0.1111111111111111,
              "#46039f"
             ],
             [
              0.2222222222222222,
              "#7201a8"
             ],
             [
              0.3333333333333333,
              "#9c179e"
             ],
             [
              0.4444444444444444,
              "#bd3786"
             ],
             [
              0.5555555555555556,
              "#d8576b"
             ],
             [
              0.6666666666666666,
              "#ed7953"
             ],
             [
              0.7777777777777778,
              "#fb9f3a"
             ],
             [
              0.8888888888888888,
              "#fdca26"
             ],
             [
              1,
              "#f0f921"
             ]
            ],
            "type": "contour"
           }
          ],
          "contourcarpet": [
           {
            "colorbar": {
             "outlinewidth": 0,
             "ticks": ""
            },
            "type": "contourcarpet"
           }
          ],
          "heatmap": [
           {
            "colorbar": {
             "outlinewidth": 0,
             "ticks": ""
            },
            "colorscale": [
             [
              0,
              "#0d0887"
             ],
             [
              0.1111111111111111,
              "#46039f"
             ],
             [
              0.2222222222222222,
              "#7201a8"
             ],
             [
              0.3333333333333333,
              "#9c179e"
             ],
             [
              0.4444444444444444,
              "#bd3786"
             ],
             [
              0.5555555555555556,
              "#d8576b"
             ],
             [
              0.6666666666666666,
              "#ed7953"
             ],
             [
              0.7777777777777778,
              "#fb9f3a"
             ],
             [
              0.8888888888888888,
              "#fdca26"
             ],
             [
              1,
              "#f0f921"
             ]
            ],
            "type": "heatmap"
           }
          ],
          "histogram": [
           {
            "marker": {
             "pattern": {
              "fillmode": "overlay",
              "size": 10,
              "solidity": 0.2
             }
            },
            "type": "histogram"
           }
          ],
          "histogram2d": [
           {
            "colorbar": {
             "outlinewidth": 0,
             "ticks": ""
            },
            "colorscale": [
             [
              0,
              "#0d0887"
             ],
             [
              0.1111111111111111,
              "#46039f"
             ],
             [
              0.2222222222222222,
              "#7201a8"
             ],
             [
              0.3333333333333333,
              "#9c179e"
             ],
             [
              0.4444444444444444,
              "#bd3786"
             ],
             [
              0.5555555555555556,
              "#d8576b"
             ],
             [
              0.6666666666666666,
              "#ed7953"
             ],
             [
              0.7777777777777778,
              "#fb9f3a"
             ],
             [
              0.8888888888888888,
              "#fdca26"
             ],
             [
              1,
              "#f0f921"
             ]
            ],
            "type": "histogram2d"
           }
          ],
          "histogram2dcontour": [
           {
            "colorbar": {
             "outlinewidth": 0,
             "ticks": ""
            },
            "colorscale": [
             [
              0,
              "#0d0887"
             ],
             [
              0.1111111111111111,
              "#46039f"
             ],
             [
              0.2222222222222222,
              "#7201a8"
             ],
             [
              0.3333333333333333,
              "#9c179e"
             ],
             [
              0.4444444444444444,
              "#bd3786"
             ],
             [
              0.5555555555555556,
              "#d8576b"
             ],
             [
              0.6666666666666666,
              "#ed7953"
             ],
             [
              0.7777777777777778,
              "#fb9f3a"
             ],
             [
              0.8888888888888888,
              "#fdca26"
             ],
             [
              1,
              "#f0f921"
             ]
            ],
            "type": "histogram2dcontour"
           }
          ],
          "mesh3d": [
           {
            "colorbar": {
             "outlinewidth": 0,
             "ticks": ""
            },
            "type": "mesh3d"
           }
          ],
          "parcoords": [
           {
            "line": {
             "colorbar": {
              "outlinewidth": 0,
              "ticks": ""
             }
            },
            "type": "parcoords"
           }
          ],
          "pie": [
           {
            "automargin": true,
            "type": "pie"
           }
          ],
          "scatter": [
           {
            "fillpattern": {
             "fillmode": "overlay",
             "size": 10,
             "solidity": 0.2
            },
            "type": "scatter"
           }
          ],
          "scatter3d": [
           {
            "line": {
             "colorbar": {
              "outlinewidth": 0,
              "ticks": ""
             }
            },
            "marker": {
             "colorbar": {
              "outlinewidth": 0,
              "ticks": ""
             }
            },
            "type": "scatter3d"
           }
          ],
          "scattercarpet": [
           {
            "marker": {
             "colorbar": {
              "outlinewidth": 0,
              "ticks": ""
             }
            },
            "type": "scattercarpet"
           }
          ],
          "scattergeo": [
           {
            "marker": {
             "colorbar": {
              "outlinewidth": 0,
              "ticks": ""
             }
            },
            "type": "scattergeo"
           }
          ],
          "scattergl": [
           {
            "marker": {
             "colorbar": {
              "outlinewidth": 0,
              "ticks": ""
             }
            },
            "type": "scattergl"
           }
          ],
          "scattermap": [
           {
            "marker": {
             "colorbar": {
              "outlinewidth": 0,
              "ticks": ""
             }
            },
            "type": "scattermap"
           }
          ],
          "scattermapbox": [
           {
            "marker": {
             "colorbar": {
              "outlinewidth": 0,
              "ticks": ""
             }
            },
            "type": "scattermapbox"
           }
          ],
          "scatterpolar": [
           {
            "marker": {
             "colorbar": {
              "outlinewidth": 0,
              "ticks": ""
             }
            },
            "type": "scatterpolar"
           }
          ],
          "scatterpolargl": [
           {
            "marker": {
             "colorbar": {
              "outlinewidth": 0,
              "ticks": ""
             }
            },
            "type": "scatterpolargl"
           }
          ],
          "scatterternary": [
           {
            "marker": {
             "colorbar": {
              "outlinewidth": 0,
              "ticks": ""
             }
            },
            "type": "scatterternary"
           }
          ],
          "surface": [
           {
            "colorbar": {
             "outlinewidth": 0,
             "ticks": ""
            },
            "colorscale": [
             [
              0,
              "#0d0887"
             ],
             [
              0.1111111111111111,
              "#46039f"
             ],
             [
              0.2222222222222222,
              "#7201a8"
             ],
             [
              0.3333333333333333,
              "#9c179e"
             ],
             [
              0.4444444444444444,
              "#bd3786"
             ],
             [
              0.5555555555555556,
              "#d8576b"
             ],
             [
              0.6666666666666666,
              "#ed7953"
             ],
             [
              0.7777777777777778,
              "#fb9f3a"
             ],
             [
              0.8888888888888888,
              "#fdca26"
             ],
             [
              1,
              "#f0f921"
             ]
            ],
            "type": "surface"
           }
          ],
          "table": [
           {
            "cells": {
             "fill": {
              "color": "#EBF0F8"
             },
             "line": {
              "color": "white"
             }
            },
            "header": {
             "fill": {
              "color": "#C8D4E3"
             },
             "line": {
              "color": "white"
             }
            },
            "type": "table"
           }
          ]
         },
         "layout": {
          "annotationdefaults": {
           "arrowcolor": "#2a3f5f",
           "arrowhead": 0,
           "arrowwidth": 1
          },
          "autotypenumbers": "strict",
          "coloraxis": {
           "colorbar": {
            "outlinewidth": 0,
            "ticks": ""
           }
          },
          "colorscale": {
           "diverging": [
            [
             0,
             "#8e0152"
            ],
            [
             0.1,
             "#c51b7d"
            ],
            [
             0.2,
             "#de77ae"
            ],
            [
             0.3,
             "#f1b6da"
            ],
            [
             0.4,
             "#fde0ef"
            ],
            [
             0.5,
             "#f7f7f7"
            ],
            [
             0.6,
             "#e6f5d0"
            ],
            [
             0.7,
             "#b8e186"
            ],
            [
             0.8,
             "#7fbc41"
            ],
            [
             0.9,
             "#4d9221"
            ],
            [
             1,
             "#276419"
            ]
           ],
           "sequential": [
            [
             0,
             "#0d0887"
            ],
            [
             0.1111111111111111,
             "#46039f"
            ],
            [
             0.2222222222222222,
             "#7201a8"
            ],
            [
             0.3333333333333333,
             "#9c179e"
            ],
            [
             0.4444444444444444,
             "#bd3786"
            ],
            [
             0.5555555555555556,
             "#d8576b"
            ],
            [
             0.6666666666666666,
             "#ed7953"
            ],
            [
             0.7777777777777778,
             "#fb9f3a"
            ],
            [
             0.8888888888888888,
             "#fdca26"
            ],
            [
             1,
             "#f0f921"
            ]
           ],
           "sequentialminus": [
            [
             0,
             "#0d0887"
            ],
            [
             0.1111111111111111,
             "#46039f"
            ],
            [
             0.2222222222222222,
             "#7201a8"
            ],
            [
             0.3333333333333333,
             "#9c179e"
            ],
            [
             0.4444444444444444,
             "#bd3786"
            ],
            [
             0.5555555555555556,
             "#d8576b"
            ],
            [
             0.6666666666666666,
             "#ed7953"
            ],
            [
             0.7777777777777778,
             "#fb9f3a"
            ],
            [
             0.8888888888888888,
             "#fdca26"
            ],
            [
             1,
             "#f0f921"
            ]
           ]
          },
          "colorway": [
           "#636efa",
           "#EF553B",
           "#00cc96",
           "#ab63fa",
           "#FFA15A",
           "#19d3f3",
           "#FF6692",
           "#B6E880",
           "#FF97FF",
           "#FECB52"
          ],
          "font": {
           "color": "#2a3f5f"
          },
          "geo": {
           "bgcolor": "white",
           "lakecolor": "white",
           "landcolor": "#E5ECF6",
           "showlakes": true,
           "showland": true,
           "subunitcolor": "white"
          },
          "hoverlabel": {
           "align": "left"
          },
          "hovermode": "closest",
          "mapbox": {
           "style": "light"
          },
          "paper_bgcolor": "white",
          "plot_bgcolor": "#E5ECF6",
          "polar": {
           "angularaxis": {
            "gridcolor": "white",
            "linecolor": "white",
            "ticks": ""
           },
           "bgcolor": "#E5ECF6",
           "radialaxis": {
            "gridcolor": "white",
            "linecolor": "white",
            "ticks": ""
           }
          },
          "scene": {
           "xaxis": {
            "backgroundcolor": "#E5ECF6",
            "gridcolor": "white",
            "gridwidth": 2,
            "linecolor": "white",
            "showbackground": true,
            "ticks": "",
            "zerolinecolor": "white"
           },
           "yaxis": {
            "backgroundcolor": "#E5ECF6",
            "gridcolor": "white",
            "gridwidth": 2,
            "linecolor": "white",
            "showbackground": true,
            "ticks": "",
            "zerolinecolor": "white"
           },
           "zaxis": {
            "backgroundcolor": "#E5ECF6",
            "gridcolor": "white",
            "gridwidth": 2,
            "linecolor": "white",
            "showbackground": true,
            "ticks": "",
            "zerolinecolor": "white"
           }
          },
          "shapedefaults": {
           "line": {
            "color": "#2a3f5f"
           }
          },
          "ternary": {
           "aaxis": {
            "gridcolor": "white",
            "linecolor": "white",
            "ticks": ""
           },
           "baxis": {
            "gridcolor": "white",
            "linecolor": "white",
            "ticks": ""
           },
           "bgcolor": "#E5ECF6",
           "caxis": {
            "gridcolor": "white",
            "linecolor": "white",
            "ticks": ""
           }
          },
          "title": {
           "x": 0.05
          },
          "xaxis": {
           "automargin": true,
           "gridcolor": "white",
           "linecolor": "white",
           "ticks": "",
           "title": {
            "standoff": 15
           },
           "zerolinecolor": "white",
           "zerolinewidth": 2
          },
          "yaxis": {
           "automargin": true,
           "gridcolor": "white",
           "linecolor": "white",
           "ticks": "",
           "title": {
            "standoff": 15
           },
           "zerolinecolor": "white",
           "zerolinewidth": 2
          }
         }
        },
        "yaxis": {
         "title": {
          "text": "Procedure length (ms)"
         }
        }
       }
      },
      "image/png": "[encoded data removed]"
     },
     "metadata": {},
     "output_type": "display_data"
    }
   ],
   "source": [
    "plot_data = trace_plotting.generate_scatterplots_for_wireshark_traces(\n",
    "    procedure_df, \n",
    "    filter_column='name', \n",
    "    datetime_column='start_datetime', \n",
    "    summary_column='length_ms', \n",
    "    protocol_column='name', \n",
    "    frame_number_column='start_frame', \n",
    "    auto_color=True,\n",
    "    y_unit='ms',\n",
    "    hide_series=False,\n",
    "    opacity=0.65)\n",
    "fig = go.Figure(data=plot_data)\n",
    "fig.update_yaxes(title_text='Procedure length (ms)')\n",
    "fig.show()\n",
    "\n",
    "fig.write_html(output_name_files + '_procedure_timeline.html')"
   ]
  },
  {
   "cell_type": "code",
   "execution_count": null,
   "metadata": {},
   "outputs": [],
   "source": []
  }
 ],
 "metadata": {
  "kernelspec": {
   "display_name": "Python 3 (ipykernel)",
   "language": "python",
   "name": "python3"
  },
  "language_info": {
   "codemirror_mode": {
    "name": "ipython",
    "version": 3
   },
   "file_extension": ".py",
   "mimetype": "text/x-python",
   "name": "python",
   "nbconvert_exporter": "python",
   "pygments_lexer": "ipython3",
   "version": "3.13.3"
  }
 },
 "nbformat": 4,
 "nbformat_minor": 4
}
