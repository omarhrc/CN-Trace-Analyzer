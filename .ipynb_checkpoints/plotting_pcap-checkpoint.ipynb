{
 "cells": [
  {
   "cell_type": "code",
   "execution_count": 1,
   "metadata": {},
   "outputs": [],
   "source": [
    "# Generic imports\n",
    "import pandas as pd\n",
    "import plotly\n",
    "import plotly.graph_objects as go\n",
    "\n",
    "# 5G visualization logic\n",
    "import trace_plotting\n",
    "from utils.wireshark import import_pcap_as_dataframe\n",
    "import logging\n",
    "import platform"
   ]
  },
  {
   "cell_type": "code",
   "execution_count": 2,
   "metadata": {},
   "outputs": [],
   "source": [
    "# Wireshark trace with 5GC messages\n",
    "#wireshark_traces = 'traces/Spirent RID-942 50UEs UDP 350Mbps/21-03-16_15.47.45__RID-942__ts0_eth3_capture.pcap'\n",
    "#wireshark_traces = 'D:\\\\Temp\\\\free5gc.pcap'\n",
    "#wireshark_traces = 'D:\\\\Temp\\\\volte_calls_2.pcapng'\n",
    "#wireshark_traces = 'D:\\\\Temp\\\\s1ap_volte.pcapng'\n",
    "wireshark_traces = 'D:\\\\Temp\\\\SIP MT offnet.pcap'\n"
   ]
  },
  {
   "cell_type": "code",
   "execution_count": 3,
   "metadata": {},
   "outputs": [
    {
     "data": {
      "text/html": [
       "<div>\n",
       "<style scoped>\n",
       "    .dataframe tbody tr th:only-of-type {\n",
       "        vertical-align: middle;\n",
       "    }\n",
       "\n",
       "    .dataframe tbody tr th {\n",
       "        vertical-align: top;\n",
       "    }\n",
       "\n",
       "    .dataframe thead th {\n",
       "        text-align: right;\n",
       "    }\n",
       "</style>\n",
       "<table border=\"1\" class=\"dataframe\">\n",
       "  <thead>\n",
       "    <tr style=\"text-align: right;\">\n",
       "      <th></th>\n",
       "      <th>ip_src</th>\n",
       "      <th>ip_dst</th>\n",
       "      <th>port_src</th>\n",
       "      <th>port_dst</th>\n",
       "      <th>transport_protocol</th>\n",
       "      <th>frame_number</th>\n",
       "      <th>protocol</th>\n",
       "      <th>msg_description</th>\n",
       "      <th>timestamp</th>\n",
       "      <th>timestamp_offset</th>\n",
       "      <th>datetime</th>\n",
       "      <th>summary_raw</th>\n",
       "      <th>summary</th>\n",
       "      <th>file</th>\n",
       "      <th>file_idx</th>\n",
       "    </tr>\n",
       "  </thead>\n",
       "  <tbody>\n",
       "    <tr>\n",
       "      <th>0</th>\n",
       "      <td>89.204.196.15</td>\n",
       "      <td>213.46.249.4</td>\n",
       "      <td>5060</td>\n",
       "      <td>5060</td>\n",
       "      <td>udp</td>\n",
       "      <td>1</td>\n",
       "      <td>SIP</td>\n",
       "      <td>\\nINVITE sip:174100353872899314;phone-context=...</td>\n",
       "      <td>1.748326e+09</td>\n",
       "      <td>0.000000</td>\n",
       "      <td>2025-05-27 06:00:08.612586975</td>\n",
       "      <td>SIP req.\\nINVITE sip:174100353872899314;phone-...</td>\n",
       "      <td>SIP INVITE</td>\n",
       "      <td>D:\\Temp\\SIP MT offnet.pcap</td>\n",
       "      <td>0</td>\n",
       "    </tr>\n",
       "    <tr>\n",
       "      <th>1</th>\n",
       "      <td>10.8.34.164</td>\n",
       "      <td>10.0.4.43</td>\n",
       "      <td>2944</td>\n",
       "      <td>2944</td>\n",
       "      <td>sctp</td>\n",
       "      <td>2</td>\n",
       "      <td></td>\n",
       "      <td></td>\n",
       "      <td>1.748326e+09</td>\n",
       "      <td>0.007567</td>\n",
       "      <td>2025-05-27 06:00:08.620153904</td>\n",
       "      <td></td>\n",
       "      <td></td>\n",
       "      <td>D:\\Temp\\SIP MT offnet.pcap</td>\n",
       "      <td>0</td>\n",
       "    </tr>\n",
       "    <tr>\n",
       "      <th>2</th>\n",
       "      <td>10.0.4.51</td>\n",
       "      <td>10.8.34.164</td>\n",
       "      <td>2944</td>\n",
       "      <td>2944</td>\n",
       "      <td>sctp</td>\n",
       "      <td>3</td>\n",
       "      <td></td>\n",
       "      <td></td>\n",
       "      <td>1.748326e+09</td>\n",
       "      <td>0.040929</td>\n",
       "      <td>2025-05-27 06:00:08.653516054</td>\n",
       "      <td></td>\n",
       "      <td></td>\n",
       "      <td>D:\\Temp\\SIP MT offnet.pcap</td>\n",
       "      <td>0</td>\n",
       "    </tr>\n",
       "    <tr>\n",
       "      <th>3</th>\n",
       "      <td>10.8.34.164</td>\n",
       "      <td>10.0.1.84</td>\n",
       "      <td>5060</td>\n",
       "      <td>5060</td>\n",
       "      <td>udp</td>\n",
       "      <td>4</td>\n",
       "      <td>SIP</td>\n",
       "      <td>\\nINVITE sip:174100353872899314;phone-context=...</td>\n",
       "      <td>1.748326e+09</td>\n",
       "      <td>0.044991</td>\n",
       "      <td>2025-05-27 06:00:08.657577991</td>\n",
       "      <td>SIP req.\\nINVITE sip:174100353872899314;phone-...</td>\n",
       "      <td>SIP INVITE</td>\n",
       "      <td>D:\\Temp\\SIP MT offnet.pcap</td>\n",
       "      <td>0</td>\n",
       "    </tr>\n",
       "    <tr>\n",
       "      <th>4</th>\n",
       "      <td>10.8.34.164</td>\n",
       "      <td>10.0.1.84</td>\n",
       "      <td>5060</td>\n",
       "      <td>5060</td>\n",
       "      <td>udp</td>\n",
       "      <td>5</td>\n",
       "      <td>SIP</td>\n",
       "      <td>\\nINVITE sip:174100353872899314;phone-context=...</td>\n",
       "      <td>1.748326e+09</td>\n",
       "      <td>0.045065</td>\n",
       "      <td>2025-05-27 06:00:08.657651901</td>\n",
       "      <td>SIP req.\\nINVITE sip:174100353872899314;phone-...</td>\n",
       "      <td>SIP INVITE</td>\n",
       "      <td>D:\\Temp\\SIP MT offnet.pcap</td>\n",
       "      <td>0</td>\n",
       "    </tr>\n",
       "    <tr>\n",
       "      <th>...</th>\n",
       "      <td>...</td>\n",
       "      <td>...</td>\n",
       "      <td>...</td>\n",
       "      <td>...</td>\n",
       "      <td>...</td>\n",
       "      <td>...</td>\n",
       "      <td>...</td>\n",
       "      <td>...</td>\n",
       "      <td>...</td>\n",
       "      <td>...</td>\n",
       "      <td>...</td>\n",
       "      <td>...</td>\n",
       "      <td>...</td>\n",
       "      <td>...</td>\n",
       "      <td>...</td>\n",
       "    </tr>\n",
       "    <tr>\n",
       "      <th>75</th>\n",
       "      <td>213.46.249.12</td>\n",
       "      <td>100.126.81.178</td>\n",
       "      <td>5060</td>\n",
       "      <td>5060</td>\n",
       "      <td>udp</td>\n",
       "      <td>104</td>\n",
       "      <td>SIP</td>\n",
       "      <td>\\nBYE sip:17687872899314@100.126.81.178:5060 S...</td>\n",
       "      <td>1.748326e+09</td>\n",
       "      <td>16.609255</td>\n",
       "      <td>2025-05-27 06:00:25.221842051</td>\n",
       "      <td>SIP req.\\nBYE sip:17687872899314@100.126.81.17...</td>\n",
       "      <td>SIP BYE</td>\n",
       "      <td>D:\\Temp\\SIP MT offnet.pcap</td>\n",
       "      <td>0</td>\n",
       "    </tr>\n",
       "    <tr>\n",
       "      <th>76</th>\n",
       "      <td>213.46.249.4</td>\n",
       "      <td>89.204.196.15</td>\n",
       "      <td>5060</td>\n",
       "      <td>5060</td>\n",
       "      <td>udp</td>\n",
       "      <td>105</td>\n",
       "      <td>SIP</td>\n",
       "      <td>\\nSIP/2.0 200 OK\\n\\nVia: SIP/2.0/UDP 89.204.19...</td>\n",
       "      <td>1.748326e+09</td>\n",
       "      <td>16.612165</td>\n",
       "      <td>2025-05-27 06:00:25.224751949</td>\n",
       "      <td>SIP 200 rsp.</td>\n",
       "      <td>SIP 200 rsp.</td>\n",
       "      <td>D:\\Temp\\SIP MT offnet.pcap</td>\n",
       "      <td>0</td>\n",
       "    </tr>\n",
       "    <tr>\n",
       "      <th>77</th>\n",
       "      <td>100.126.81.178</td>\n",
       "      <td>213.46.249.12</td>\n",
       "      <td>5060</td>\n",
       "      <td>5060</td>\n",
       "      <td>udp</td>\n",
       "      <td>107</td>\n",
       "      <td>SIP</td>\n",
       "      <td>\\nSIP/2.0 200 OK\\n\\nVia: SIP/2.0/UDP 213.46.24...</td>\n",
       "      <td>1.748326e+09</td>\n",
       "      <td>16.628458</td>\n",
       "      <td>2025-05-27 06:00:25.241044998</td>\n",
       "      <td>SIP 200 rsp.</td>\n",
       "      <td>SIP 200 rsp.</td>\n",
       "      <td>D:\\Temp\\SIP MT offnet.pcap</td>\n",
       "      <td>0</td>\n",
       "    </tr>\n",
       "    <tr>\n",
       "      <th>78</th>\n",
       "      <td>10.8.34.167</td>\n",
       "      <td>10.0.1.84</td>\n",
       "      <td>5060</td>\n",
       "      <td>5060</td>\n",
       "      <td>udp</td>\n",
       "      <td>108</td>\n",
       "      <td>SIP</td>\n",
       "      <td>\\nSIP/2.0 200 OK\\n\\nVia: SIP/2.0/UDP NL1MSC1.C...</td>\n",
       "      <td>1.748326e+09</td>\n",
       "      <td>16.632285</td>\n",
       "      <td>2025-05-27 06:00:25.244872093</td>\n",
       "      <td>SIP 200 rsp.</td>\n",
       "      <td>SIP 200 rsp.</td>\n",
       "      <td>D:\\Temp\\SIP MT offnet.pcap</td>\n",
       "      <td>0</td>\n",
       "    </tr>\n",
       "    <tr>\n",
       "      <th>79</th>\n",
       "      <td>10.8.34.167</td>\n",
       "      <td>10.0.1.84</td>\n",
       "      <td>5060</td>\n",
       "      <td>5060</td>\n",
       "      <td>udp</td>\n",
       "      <td>109</td>\n",
       "      <td>SIP</td>\n",
       "      <td>\\nSIP/2.0 200 OK\\n\\nVia: SIP/2.0/UDP NL1MSC1.C...</td>\n",
       "      <td>1.748326e+09</td>\n",
       "      <td>16.632294</td>\n",
       "      <td>2025-05-27 06:00:25.244880915</td>\n",
       "      <td>SIP 200 rsp.</td>\n",
       "      <td>SIP 200 rsp.</td>\n",
       "      <td>D:\\Temp\\SIP MT offnet.pcap</td>\n",
       "      <td>0</td>\n",
       "    </tr>\n",
       "  </tbody>\n",
       "</table>\n",
       "<p>80 rows × 15 columns</p>\n",
       "</div>"
      ],
      "text/plain": [
       "            ip_src          ip_dst port_src port_dst transport_protocol  \\\n",
       "0    89.204.196.15    213.46.249.4     5060     5060                udp   \n",
       "1      10.8.34.164       10.0.4.43     2944     2944               sctp   \n",
       "2        10.0.4.51     10.8.34.164     2944     2944               sctp   \n",
       "3      10.8.34.164       10.0.1.84     5060     5060                udp   \n",
       "4      10.8.34.164       10.0.1.84     5060     5060                udp   \n",
       "..             ...             ...      ...      ...                ...   \n",
       "75   213.46.249.12  100.126.81.178     5060     5060                udp   \n",
       "76    213.46.249.4   89.204.196.15     5060     5060                udp   \n",
       "77  100.126.81.178   213.46.249.12     5060     5060                udp   \n",
       "78     10.8.34.167       10.0.1.84     5060     5060                udp   \n",
       "79     10.8.34.167       10.0.1.84     5060     5060                udp   \n",
       "\n",
       "   frame_number protocol                                    msg_description  \\\n",
       "0             1      SIP  \\nINVITE sip:174100353872899314;phone-context=...   \n",
       "1             2                                                               \n",
       "2             3                                                               \n",
       "3             4      SIP  \\nINVITE sip:174100353872899314;phone-context=...   \n",
       "4             5      SIP  \\nINVITE sip:174100353872899314;phone-context=...   \n",
       "..          ...      ...                                                ...   \n",
       "75          104      SIP  \\nBYE sip:17687872899314@100.126.81.178:5060 S...   \n",
       "76          105      SIP  \\nSIP/2.0 200 OK\\n\\nVia: SIP/2.0/UDP 89.204.19...   \n",
       "77          107      SIP  \\nSIP/2.0 200 OK\\n\\nVia: SIP/2.0/UDP 213.46.24...   \n",
       "78          108      SIP  \\nSIP/2.0 200 OK\\n\\nVia: SIP/2.0/UDP NL1MSC1.C...   \n",
       "79          109      SIP  \\nSIP/2.0 200 OK\\n\\nVia: SIP/2.0/UDP NL1MSC1.C...   \n",
       "\n",
       "       timestamp  timestamp_offset                      datetime  \\\n",
       "0   1.748326e+09          0.000000 2025-05-27 06:00:08.612586975   \n",
       "1   1.748326e+09          0.007567 2025-05-27 06:00:08.620153904   \n",
       "2   1.748326e+09          0.040929 2025-05-27 06:00:08.653516054   \n",
       "3   1.748326e+09          0.044991 2025-05-27 06:00:08.657577991   \n",
       "4   1.748326e+09          0.045065 2025-05-27 06:00:08.657651901   \n",
       "..           ...               ...                           ...   \n",
       "75  1.748326e+09         16.609255 2025-05-27 06:00:25.221842051   \n",
       "76  1.748326e+09         16.612165 2025-05-27 06:00:25.224751949   \n",
       "77  1.748326e+09         16.628458 2025-05-27 06:00:25.241044998   \n",
       "78  1.748326e+09         16.632285 2025-05-27 06:00:25.244872093   \n",
       "79  1.748326e+09         16.632294 2025-05-27 06:00:25.244880915   \n",
       "\n",
       "                                          summary_raw       summary  \\\n",
       "0   SIP req.\\nINVITE sip:174100353872899314;phone-...    SIP INVITE   \n",
       "1                                                                     \n",
       "2                                                                     \n",
       "3   SIP req.\\nINVITE sip:174100353872899314;phone-...    SIP INVITE   \n",
       "4   SIP req.\\nINVITE sip:174100353872899314;phone-...    SIP INVITE   \n",
       "..                                                ...           ...   \n",
       "75  SIP req.\\nBYE sip:17687872899314@100.126.81.17...       SIP BYE   \n",
       "76                                       SIP 200 rsp.  SIP 200 rsp.   \n",
       "77                                       SIP 200 rsp.  SIP 200 rsp.   \n",
       "78                                       SIP 200 rsp.  SIP 200 rsp.   \n",
       "79                                       SIP 200 rsp.  SIP 200 rsp.   \n",
       "\n",
       "                          file  file_idx  \n",
       "0   D:\\Temp\\SIP MT offnet.pcap         0  \n",
       "1   D:\\Temp\\SIP MT offnet.pcap         0  \n",
       "2   D:\\Temp\\SIP MT offnet.pcap         0  \n",
       "3   D:\\Temp\\SIP MT offnet.pcap         0  \n",
       "4   D:\\Temp\\SIP MT offnet.pcap         0  \n",
       "..                         ...       ...  \n",
       "75  D:\\Temp\\SIP MT offnet.pcap         0  \n",
       "76  D:\\Temp\\SIP MT offnet.pcap         0  \n",
       "77  D:\\Temp\\SIP MT offnet.pcap         0  \n",
       "78  D:\\Temp\\SIP MT offnet.pcap         0  \n",
       "79  D:\\Temp\\SIP MT offnet.pcap         0  \n",
       "\n",
       "[80 rows x 15 columns]"
      ]
     },
     "metadata": {},
     "output_type": "display_data"
    }
   ],
   "source": [
    "# DEBUG loggig level for big traces so that you can see if processing is stuck or not\n",
    "packets_df = import_pcap_as_dataframe(\n",
    "    wireshark_traces, \n",
    "    http2_ports = \"32445,5002,5000,32665,80,32077,5006,8080,3000,8081\",\n",
    "    wireshark_version = 'OS',\n",
    "    platform = platform.system(),\n",
    "    logging_level=logging.INFO)\n",
    "#display(packets_df)"
   ]
  },
  {
   "cell_type": "code",
   "execution_count": 4,
   "metadata": {},
   "outputs": [],
   "source": [
    "plot_data = trace_plotting.generate_scatterplots_for_wireshark_traces(packets_df, filter_column='file')[0]\n",
    "#display(plot_data)"
   ]
  },
  {
   "cell_type": "code",
   "execution_count": 5,
   "metadata": {
    "scrolled": true
   },
   "outputs": [
    {
     "data": {
      "application/vnd.plotly.v1+json": {
       "config": {
        "plotlyServerURL": "https://plot.ly"
       },
       "data": [
        {
         "hovertemplate": "%{text}, %{y}<extra></extra>",
         "line": {
          "color": "gray"
         },
         "mode": "markers",
         "name": "D:\\Temp\\SIP MT offnet.pcap",
         "opacity": 1,
         "showlegend": true,
         "text": [
          "Frame 6, 06:00:08.663434",
          "Frame 7, 06:00:08.663434",
          "Frame 18, 06:00:08.755258",
          "Frame 19, 06:00:08.817503",
          "Frame 62, 06:00:14.407964",
          "Frame 66, 06:00:14.414706",
          "Frame 67, 06:00:14.414764",
          "Frame 68, 06:00:14.416910",
          "Frame 21, 06:00:13.786052",
          "Frame 30, 06:00:13.855829",
          "Frame 38, 06:00:13.885330",
          "Frame 39, 06:00:13.885332",
          "Frame 41, 06:00:13.887881",
          "Frame 51, 06:00:13.920778",
          "Frame 29, 06:00:13.855753",
          "Frame 31, 06:00:13.860980",
          "Frame 32, 06:00:13.860989",
          "Frame 40, 06:00:13.887806",
          "Frame 43, 06:00:13.892889",
          "Frame 44, 06:00:13.892895",
          "Frame 50, 06:00:13.919487",
          "Frame 52, 06:00:13.924792",
          "Frame 53, 06:00:13.924803",
          "Frame 57, 06:00:13.985771",
          "Frame 58, 06:00:13.985778",
          "Frame 60, 06:00:13.992690",
          "Frame 70, 06:00:14.440165",
          "Frame 72, 06:00:14.445070",
          "Frame 73, 06:00:14.445075",
          "Frame 76, 06:00:14.449434",
          "Frame 77, 06:00:14.449469",
          "Frame 78, 06:00:14.456779",
          "Frame 79, 06:00:23.070749",
          "Frame 88, 06:00:23.145631",
          "Frame 89, 06:00:23.145632",
          "Frame 92, 06:00:23.185338",
          "Frame 99, 06:00:25.217902",
          "Frame 100, 06:00:25.217952",
          "Frame 105, 06:00:25.224751",
          "Frame 107, 06:00:25.241044",
          "Frame 108, 06:00:25.244872",
          "Frame 109, 06:00:25.244880",
          "Frame 81, 06:00:23.078938",
          "Frame 82, 06:00:23.078946",
          "Frame 84, 06:00:23.085581",
          "Frame 93, 06:00:23.212573",
          "Frame 94, 06:00:23.217186",
          "Frame 95, 06:00:23.217259",
          "Frame 96, 06:00:25.209554",
          "Frame 97, 06:00:25.217489",
          "Frame 98, 06:00:25.217561",
          "Frame 101, 06:00:25.218147",
          "Frame 102, 06:00:25.218220",
          "Frame 104, 06:00:25.221842",
          "Frame 1, 06:00:08.612586",
          "Frame 4, 06:00:08.657577",
          "Frame 5, 06:00:08.657651",
          "Frame 17, 06:00:08.736681",
          "Frame 25, 06:00:13.834209",
          "Frame 26, 06:00:13.834211",
          "Frame 28, 06:00:13.837486",
          "Frame 34, 06:00:13.861833",
          "Frame 35, 06:00:13.861834",
          "Frame 36, 06:00:13.869241",
          "Frame 46, 06:00:13.893821",
          "Frame 47, 06:00:13.893821",
          "Frame 48, 06:00:13.901228",
          "Frame 54, 06:00:13.983553",
          "Frame 55, 06:00:13.985171",
          "Frame 56, 06:00:13.985244",
          "Frame 64, 06:00:14.414556",
          "Frame 65, 06:00:14.414560",
          "Frame 69, 06:00:14.421355",
          "Frame 71, 06:00:14.440552",
          "Frame 74, 06:00:14.449171",
          "Frame 75, 06:00:14.449177"
         ],
         "type": "scatter",
         "x": [
          "2025-05-27T06:00:08.663434029",
          "2025-05-27T06:00:08.663434029",
          "2025-05-27T06:00:08.755258083",
          "2025-05-27T06:00:08.817503929",
          "2025-05-27T06:00:14.407964945",
          "2025-05-27T06:00:14.414706945",
          "2025-05-27T06:00:14.414764881",
          "2025-05-27T06:00:14.416910887",
          "2025-05-27T06:00:13.786052942",
          "2025-05-27T06:00:13.855829954",
          "2025-05-27T06:00:13.885330915",
          "2025-05-27T06:00:13.885332108",
          "2025-05-27T06:00:13.887881994",
          "2025-05-27T06:00:13.920778990",
          "2025-05-27T06:00:13.855753899",
          "2025-05-27T06:00:13.860980988",
          "2025-05-27T06:00:13.860989094",
          "2025-05-27T06:00:13.887806892",
          "2025-05-27T06:00:13.892889977",
          "2025-05-27T06:00:13.892895937",
          "2025-05-27T06:00:13.919487000",
          "2025-05-27T06:00:13.924792051",
          "2025-05-27T06:00:13.924803019",
          "2025-05-27T06:00:13.985771894",
          "2025-05-27T06:00:13.985778093",
          "2025-05-27T06:00:13.992690086",
          "2025-05-27T06:00:14.440165043",
          "2025-05-27T06:00:14.445070028",
          "2025-05-27T06:00:14.445075989",
          "2025-05-27T06:00:14.449434042",
          "2025-05-27T06:00:14.449469090",
          "2025-05-27T06:00:14.456779957",
          "2025-05-27T06:00:23.070749044",
          "2025-05-27T06:00:23.145631075",
          "2025-05-27T06:00:23.145632982",
          "2025-05-27T06:00:23.185338020",
          "2025-05-27T06:00:25.217902899",
          "2025-05-27T06:00:25.217952967",
          "2025-05-27T06:00:25.224751949",
          "2025-05-27T06:00:25.241044998",
          "2025-05-27T06:00:25.244872093",
          "2025-05-27T06:00:25.244880915",
          "2025-05-27T06:00:23.078938007",
          "2025-05-27T06:00:23.078946114",
          "2025-05-27T06:00:23.085581064",
          "2025-05-27T06:00:23.212573051",
          "2025-05-27T06:00:23.217186928",
          "2025-05-27T06:00:23.217259884",
          "2025-05-27T06:00:25.209554911",
          "2025-05-27T06:00:25.217489004",
          "2025-05-27T06:00:25.217561007",
          "2025-05-27T06:00:25.218147039",
          "2025-05-27T06:00:25.218220949",
          "2025-05-27T06:00:25.221842051",
          "2025-05-27T06:00:08.612586975",
          "2025-05-27T06:00:08.657577991",
          "2025-05-27T06:00:08.657651901",
          "2025-05-27T06:00:08.736681938",
          "2025-05-27T06:00:13.834209919",
          "2025-05-27T06:00:13.834211111",
          "2025-05-27T06:00:13.837486982",
          "2025-05-27T06:00:13.861833096",
          "2025-05-27T06:00:13.861834049",
          "2025-05-27T06:00:13.869241953",
          "2025-05-27T06:00:13.893821001",
          "2025-05-27T06:00:13.893821001",
          "2025-05-27T06:00:13.901228905",
          "2025-05-27T06:00:13.983553886",
          "2025-05-27T06:00:13.985171080",
          "2025-05-27T06:00:13.985244036",
          "2025-05-27T06:00:14.414556980",
          "2025-05-27T06:00:14.414560080",
          "2025-05-27T06:00:14.421355963",
          "2025-05-27T06:00:14.440552950",
          "2025-05-27T06:00:14.449171066",
          "2025-05-27T06:00:14.449177027"
         ],
         "y": [
          "SIP 100 rsp.",
          "SIP 100 rsp.",
          "SIP 100 rsp.",
          "SIP 100 rsp.",
          "SIP 180 rsp.",
          "SIP 180 rsp.",
          "SIP 180 rsp.",
          "SIP 180 rsp.",
          "SIP 183 rsp.",
          "SIP 183 rsp.",
          "SIP 183 rsp.",
          "SIP 183 rsp.",
          "SIP 183 rsp.",
          "SIP 183 rsp.",
          "SIP 200 rsp.",
          "SIP 200 rsp.",
          "SIP 200 rsp.",
          "SIP 200 rsp.",
          "SIP 200 rsp.",
          "SIP 200 rsp.",
          "SIP 200 rsp.",
          "SIP 200 rsp.",
          "SIP 200 rsp.",
          "SIP 200 rsp.",
          "SIP 200 rsp.",
          "SIP 200 rsp.",
          "SIP 200 rsp.",
          "SIP 200 rsp.",
          "SIP 200 rsp.",
          "SIP 200 rsp.",
          "SIP 200 rsp.",
          "SIP 200 rsp.",
          "SIP 200 rsp.",
          "SIP 200 rsp.",
          "SIP 200 rsp.",
          "SIP 200 rsp.",
          "SIP 200 rsp.",
          "SIP 200 rsp.",
          "SIP 200 rsp.",
          "SIP 200 rsp.",
          "SIP 200 rsp.",
          "SIP 200 rsp.",
          "SIP ACK",
          "SIP ACK",
          "SIP ACK",
          "SIP ACK",
          "SIP ACK",
          "SIP ACK",
          "SIP BYE",
          "SIP BYE",
          "SIP BYE",
          "SIP BYE",
          "SIP BYE",
          "SIP BYE",
          "SIP INVITE",
          "SIP INVITE",
          "SIP INVITE",
          "SIP INVITE",
          "SIP PRACK",
          "SIP PRACK",
          "SIP PRACK",
          "SIP PRACK",
          "SIP PRACK",
          "SIP PRACK",
          "SIP PRACK",
          "SIP PRACK",
          "SIP PRACK",
          "SIP PRACK",
          "SIP PRACK",
          "SIP PRACK",
          "SIP PRACK",
          "SIP PRACK",
          "SIP PRACK",
          "SIP PRACK",
          "SIP PRACK",
          "SIP PRACK"
         ]
        }
       ],
       "layout": {
        "shapes": [
         {
          "fillcolor": "#a3a3a3",
          "line": {
           "width": 0
          },
          "opacity": 0.3,
          "type": "rect",
          "x0": 0,
          "x1": 1,
          "xref": "paper",
          "y0": "SIP 100 rsp.",
          "y1": "SIP PRACK",
          "yref": "y"
         }
        ],
        "template": {
         "data": {
          "bar": [
           {
            "error_x": {
             "color": "#2a3f5f"
            },
            "error_y": {
             "color": "#2a3f5f"
            },
            "marker": {
             "line": {
              "color": "#E5ECF6",
              "width": 0.5
             },
             "pattern": {
              "fillmode": "overlay",
              "size": 10,
              "solidity": 0.2
             }
            },
            "type": "bar"
           }
          ],
          "barpolar": [
           {
            "marker": {
             "line": {
              "color": "#E5ECF6",
              "width": 0.5
             },
             "pattern": {
              "fillmode": "overlay",
              "size": 10,
              "solidity": 0.2
             }
            },
            "type": "barpolar"
           }
          ],
          "carpet": [
           {
            "aaxis": {
             "endlinecolor": "#2a3f5f",
             "gridcolor": "white",
             "linecolor": "white",
             "minorgridcolor": "white",
             "startlinecolor": "#2a3f5f"
            },
            "baxis": {
             "endlinecolor": "#2a3f5f",
             "gridcolor": "white",
             "linecolor": "white",
             "minorgridcolor": "white",
             "startlinecolor": "#2a3f5f"
            },
            "type": "carpet"
           }
          ],
          "choropleth": [
           {
            "colorbar": {
             "outlinewidth": 0,
             "ticks": ""
            },
            "type": "choropleth"
           }
          ],
          "contour": [
           {
            "colorbar": {
             "outlinewidth": 0,
             "ticks": ""
            },
            "colorscale": [
             [
              0,
              "#0d0887"
             ],
             [
              0.1111111111111111,
              "#46039f"
             ],
             [
              0.2222222222222222,
              "#7201a8"
             ],
             [
              0.3333333333333333,
              "#9c179e"
             ],
             [
              0.4444444444444444,
              "#bd3786"
             ],
             [
              0.5555555555555556,
              "#d8576b"
             ],
             [
              0.6666666666666666,
              "#ed7953"
             ],
             [
              0.7777777777777778,
              "#fb9f3a"
             ],
             [
              0.8888888888888888,
              "#fdca26"
             ],
             [
              1,
              "#f0f921"
             ]
            ],
            "type": "contour"
           }
          ],
          "contourcarpet": [
           {
            "colorbar": {
             "outlinewidth": 0,
             "ticks": ""
            },
            "type": "contourcarpet"
           }
          ],
          "heatmap": [
           {
            "colorbar": {
             "outlinewidth": 0,
             "ticks": ""
            },
            "colorscale": [
             [
              0,
              "#0d0887"
             ],
             [
              0.1111111111111111,
              "#46039f"
             ],
             [
              0.2222222222222222,
              "#7201a8"
             ],
             [
              0.3333333333333333,
              "#9c179e"
             ],
             [
              0.4444444444444444,
              "#bd3786"
             ],
             [
              0.5555555555555556,
              "#d8576b"
             ],
             [
              0.6666666666666666,
              "#ed7953"
             ],
             [
              0.7777777777777778,
              "#fb9f3a"
             ],
             [
              0.8888888888888888,
              "#fdca26"
             ],
             [
              1,
              "#f0f921"
             ]
            ],
            "type": "heatmap"
           }
          ],
          "histogram": [
           {
            "marker": {
             "pattern": {
              "fillmode": "overlay",
              "size": 10,
              "solidity": 0.2
             }
            },
            "type": "histogram"
           }
          ],
          "histogram2d": [
           {
            "colorbar": {
             "outlinewidth": 0,
             "ticks": ""
            },
            "colorscale": [
             [
              0,
              "#0d0887"
             ],
             [
              0.1111111111111111,
              "#46039f"
             ],
             [
              0.2222222222222222,
              "#7201a8"
             ],
             [
              0.3333333333333333,
              "#9c179e"
             ],
             [
              0.4444444444444444,
              "#bd3786"
             ],
             [
              0.5555555555555556,
              "#d8576b"
             ],
             [
              0.6666666666666666,
              "#ed7953"
             ],
             [
              0.7777777777777778,
              "#fb9f3a"
             ],
             [
              0.8888888888888888,
              "#fdca26"
             ],
             [
              1,
              "#f0f921"
             ]
            ],
            "type": "histogram2d"
           }
          ],
          "histogram2dcontour": [
           {
            "colorbar": {
             "outlinewidth": 0,
             "ticks": ""
            },
            "colorscale": [
             [
              0,
              "#0d0887"
             ],
             [
              0.1111111111111111,
              "#46039f"
             ],
             [
              0.2222222222222222,
              "#7201a8"
             ],
             [
              0.3333333333333333,
              "#9c179e"
             ],
             [
              0.4444444444444444,
              "#bd3786"
             ],
             [
              0.5555555555555556,
              "#d8576b"
             ],
             [
              0.6666666666666666,
              "#ed7953"
             ],
             [
              0.7777777777777778,
              "#fb9f3a"
             ],
             [
              0.8888888888888888,
              "#fdca26"
             ],
             [
              1,
              "#f0f921"
             ]
            ],
            "type": "histogram2dcontour"
           }
          ],
          "mesh3d": [
           {
            "colorbar": {
             "outlinewidth": 0,
             "ticks": ""
            },
            "type": "mesh3d"
           }
          ],
          "parcoords": [
           {
            "line": {
             "colorbar": {
              "outlinewidth": 0,
              "ticks": ""
             }
            },
            "type": "parcoords"
           }
          ],
          "pie": [
           {
            "automargin": true,
            "type": "pie"
           }
          ],
          "scatter": [
           {
            "fillpattern": {
             "fillmode": "overlay",
             "size": 10,
             "solidity": 0.2
            },
            "type": "scatter"
           }
          ],
          "scatter3d": [
           {
            "line": {
             "colorbar": {
              "outlinewidth": 0,
              "ticks": ""
             }
            },
            "marker": {
             "colorbar": {
              "outlinewidth": 0,
              "ticks": ""
             }
            },
            "type": "scatter3d"
           }
          ],
          "scattercarpet": [
           {
            "marker": {
             "colorbar": {
              "outlinewidth": 0,
              "ticks": ""
             }
            },
            "type": "scattercarpet"
           }
          ],
          "scattergeo": [
           {
            "marker": {
             "colorbar": {
              "outlinewidth": 0,
              "ticks": ""
             }
            },
            "type": "scattergeo"
           }
          ],
          "scattergl": [
           {
            "marker": {
             "colorbar": {
              "outlinewidth": 0,
              "ticks": ""
             }
            },
            "type": "scattergl"
           }
          ],
          "scattermap": [
           {
            "marker": {
             "colorbar": {
              "outlinewidth": 0,
              "ticks": ""
             }
            },
            "type": "scattermap"
           }
          ],
          "scattermapbox": [
           {
            "marker": {
             "colorbar": {
              "outlinewidth": 0,
              "ticks": ""
             }
            },
            "type": "scattermapbox"
           }
          ],
          "scatterpolar": [
           {
            "marker": {
             "colorbar": {
              "outlinewidth": 0,
              "ticks": ""
             }
            },
            "type": "scatterpolar"
           }
          ],
          "scatterpolargl": [
           {
            "marker": {
             "colorbar": {
              "outlinewidth": 0,
              "ticks": ""
             }
            },
            "type": "scatterpolargl"
           }
          ],
          "scatterternary": [
           {
            "marker": {
             "colorbar": {
              "outlinewidth": 0,
              "ticks": ""
             }
            },
            "type": "scatterternary"
           }
          ],
          "surface": [
           {
            "colorbar": {
             "outlinewidth": 0,
             "ticks": ""
            },
            "colorscale": [
             [
              0,
              "#0d0887"
             ],
             [
              0.1111111111111111,
              "#46039f"
             ],
             [
              0.2222222222222222,
              "#7201a8"
             ],
             [
              0.3333333333333333,
              "#9c179e"
             ],
             [
              0.4444444444444444,
              "#bd3786"
             ],
             [
              0.5555555555555556,
              "#d8576b"
             ],
             [
              0.6666666666666666,
              "#ed7953"
             ],
             [
              0.7777777777777778,
              "#fb9f3a"
             ],
             [
              0.8888888888888888,
              "#fdca26"
             ],
             [
              1,
              "#f0f921"
             ]
            ],
            "type": "surface"
           }
          ],
          "table": [
           {
            "cells": {
             "fill": {
              "color": "#EBF0F8"
             },
             "line": {
              "color": "white"
             }
            },
            "header": {
             "fill": {
              "color": "#C8D4E3"
             },
             "line": {
              "color": "white"
             }
            },
            "type": "table"
           }
          ]
         },
         "layout": {
          "annotationdefaults": {
           "arrowcolor": "#2a3f5f",
           "arrowhead": 0,
           "arrowwidth": 1
          },
          "autotypenumbers": "strict",
          "coloraxis": {
           "colorbar": {
            "outlinewidth": 0,
            "ticks": ""
           }
          },
          "colorscale": {
           "diverging": [
            [
             0,
             "#8e0152"
            ],
            [
             0.1,
             "#c51b7d"
            ],
            [
             0.2,
             "#de77ae"
            ],
            [
             0.3,
             "#f1b6da"
            ],
            [
             0.4,
             "#fde0ef"
            ],
            [
             0.5,
             "#f7f7f7"
            ],
            [
             0.6,
             "#e6f5d0"
            ],
            [
             0.7,
             "#b8e186"
            ],
            [
             0.8,
             "#7fbc41"
            ],
            [
             0.9,
             "#4d9221"
            ],
            [
             1,
             "#276419"
            ]
           ],
           "sequential": [
            [
             0,
             "#0d0887"
            ],
            [
             0.1111111111111111,
             "#46039f"
            ],
            [
             0.2222222222222222,
             "#7201a8"
            ],
            [
             0.3333333333333333,
             "#9c179e"
            ],
            [
             0.4444444444444444,
             "#bd3786"
            ],
            [
             0.5555555555555556,
             "#d8576b"
            ],
            [
             0.6666666666666666,
             "#ed7953"
            ],
            [
             0.7777777777777778,
             "#fb9f3a"
            ],
            [
             0.8888888888888888,
             "#fdca26"
            ],
            [
             1,
             "#f0f921"
            ]
           ],
           "sequentialminus": [
            [
             0,
             "#0d0887"
            ],
            [
             0.1111111111111111,
             "#46039f"
            ],
            [
             0.2222222222222222,
             "#7201a8"
            ],
            [
             0.3333333333333333,
             "#9c179e"
            ],
            [
             0.4444444444444444,
             "#bd3786"
            ],
            [
             0.5555555555555556,
             "#d8576b"
            ],
            [
             0.6666666666666666,
             "#ed7953"
            ],
            [
             0.7777777777777778,
             "#fb9f3a"
            ],
            [
             0.8888888888888888,
             "#fdca26"
            ],
            [
             1,
             "#f0f921"
            ]
           ]
          },
          "colorway": [
           "#636efa",
           "#EF553B",
           "#00cc96",
           "#ab63fa",
           "#FFA15A",
           "#19d3f3",
           "#FF6692",
           "#B6E880",
           "#FF97FF",
           "#FECB52"
          ],
          "font": {
           "color": "#2a3f5f"
          },
          "geo": {
           "bgcolor": "white",
           "lakecolor": "white",
           "landcolor": "#E5ECF6",
           "showlakes": true,
           "showland": true,
           "subunitcolor": "white"
          },
          "hoverlabel": {
           "align": "left"
          },
          "hovermode": "closest",
          "mapbox": {
           "style": "light"
          },
          "paper_bgcolor": "white",
          "plot_bgcolor": "#E5ECF6",
          "polar": {
           "angularaxis": {
            "gridcolor": "white",
            "linecolor": "white",
            "ticks": ""
           },
           "bgcolor": "#E5ECF6",
           "radialaxis": {
            "gridcolor": "white",
            "linecolor": "white",
            "ticks": ""
           }
          },
          "scene": {
           "xaxis": {
            "backgroundcolor": "#E5ECF6",
            "gridcolor": "white",
            "gridwidth": 2,
            "linecolor": "white",
            "showbackground": true,
            "ticks": "",
            "zerolinecolor": "white"
           },
           "yaxis": {
            "backgroundcolor": "#E5ECF6",
            "gridcolor": "white",
            "gridwidth": 2,
            "linecolor": "white",
            "showbackground": true,
            "ticks": "",
            "zerolinecolor": "white"
           },
           "zaxis": {
            "backgroundcolor": "#E5ECF6",
            "gridcolor": "white",
            "gridwidth": 2,
            "linecolor": "white",
            "showbackground": true,
            "ticks": "",
            "zerolinecolor": "white"
           }
          },
          "shapedefaults": {
           "line": {
            "color": "#2a3f5f"
           }
          },
          "ternary": {
           "aaxis": {
            "gridcolor": "white",
            "linecolor": "white",
            "ticks": ""
           },
           "baxis": {
            "gridcolor": "white",
            "linecolor": "white",
            "ticks": ""
           },
           "bgcolor": "#E5ECF6",
           "caxis": {
            "gridcolor": "white",
            "linecolor": "white",
            "ticks": ""
           }
          },
          "title": {
           "x": 0.05
          },
          "xaxis": {
           "automargin": true,
           "gridcolor": "white",
           "linecolor": "white",
           "ticks": "",
           "title": {
            "standoff": 15
           },
           "zerolinecolor": "white",
           "zerolinewidth": 2
          },
          "yaxis": {
           "automargin": true,
           "gridcolor": "white",
           "linecolor": "white",
           "ticks": "",
           "title": {
            "standoff": 15
           },
           "zerolinecolor": "white",
           "zerolinewidth": 2
          }
         }
        }
       }
      }
     },
     "metadata": {},
     "output_type": "display_data"
    }
   ],
   "source": [
    "fig = go.Figure(data=plot_data)\n",
    "fig.update_layout(shapes=trace_plotting.get_protocol_shapes(packets_df, y_axis='y'))\n",
    "fig.show()\n",
    "out_html = ''.join(wireshark_traces.split('.')[0:-1]) + '_pcap_plot.html'\n",
    "fig.write_html(out_html)"
   ]
  },
  {
   "cell_type": "code",
   "execution_count": null,
   "metadata": {},
   "outputs": [],
   "source": []
  },
  {
   "cell_type": "code",
   "execution_count": null,
   "metadata": {},
   "outputs": [],
   "source": []
  }
 ],
 "metadata": {
  "kernelspec": {
   "display_name": "Python 3 (ipykernel)",
   "language": "python",
   "name": "python3"
  },
  "language_info": {
   "codemirror_mode": {
    "name": "ipython",
    "version": 3
   },
   "file_extension": ".py",
   "mimetype": "text/x-python",
   "name": "python",
   "nbconvert_exporter": "python",
   "pygments_lexer": "ipython3",
   "version": "3.13.3"
  }
 },
 "nbformat": 4,
 "nbformat_minor": 4
}
