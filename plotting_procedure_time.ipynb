{
 "cells": [
  {
   "cell_type": "code",
   "execution_count": 1,
   "metadata": {},
   "outputs": [],
   "source": [
    "# Generic imports\n",
    "import pandas as pd\n",
    "import plotly\n",
    "import plotly.graph_objects as go\n",
    "\n",
    "# 5G visualization logic\n",
    "import trace_plotting\n",
    "from utils.wireshark import import_pcap_as_dataframe\n",
    "import logging\n",
    "import re\n",
    "import platform"
   ]
  },
  {
   "cell_type": "code",
   "execution_count": 2,
   "metadata": {},
   "outputs": [],
   "source": [
    "# Wireshark trace with 5GC messages\n",
    "#wireshark_trace = 'D:\\\\Temp\\\\free5gc.pcap'\n",
    "#wireshark_trace = 'D:\\\\Temp\\\\volte_calls_2.pcapng'\n",
    "wireshark_trace = 'D:\\\\Temp\\\\s1ap_volte.pcapng'\n",
    "#wireshark_trace = 'D:\\\\Temp\\\\SIP MT offnet.pcap'"
   ]
  },
  {
   "cell_type": "code",
   "execution_count": 3,
   "metadata": {},
   "outputs": [
    {
     "data": {
      "text/html": [
       "<div>\n",
       "<style scoped>\n",
       "    .dataframe tbody tr th:only-of-type {\n",
       "        vertical-align: middle;\n",
       "    }\n",
       "\n",
       "    .dataframe tbody tr th {\n",
       "        vertical-align: top;\n",
       "    }\n",
       "\n",
       "    .dataframe thead th {\n",
       "        text-align: right;\n",
       "    }\n",
       "</style>\n",
       "<table border=\"1\" class=\"dataframe\">\n",
       "  <thead>\n",
       "    <tr style=\"text-align: right;\">\n",
       "      <th></th>\n",
       "      <th>ip_src</th>\n",
       "      <th>ip_dst</th>\n",
       "      <th>port_src</th>\n",
       "      <th>port_dst</th>\n",
       "      <th>transport_protocol</th>\n",
       "      <th>frame_number</th>\n",
       "      <th>protocol</th>\n",
       "      <th>msg_description</th>\n",
       "      <th>timestamp</th>\n",
       "      <th>timestamp_offset</th>\n",
       "      <th>datetime</th>\n",
       "      <th>summary_raw</th>\n",
       "      <th>summary</th>\n",
       "      <th>file</th>\n",
       "      <th>file_idx</th>\n",
       "    </tr>\n",
       "  </thead>\n",
       "  <tbody>\n",
       "    <tr>\n",
       "      <th>0</th>\n",
       "      <td>127.0.0.100</td>\n",
       "      <td>127.0.0.101</td>\n",
       "      <td>42104</td>\n",
       "      <td>36412</td>\n",
       "      <td>sctp</td>\n",
       "      <td>1</td>\n",
       "      <td>S1AP</td>\n",
       "      <td>S1AP-PDU: 000c408091000005000800020002001a0069...</td>\n",
       "      <td>1.639401e+09</td>\n",
       "      <td>0.000000</td>\n",
       "      <td>2021-12-13 13:09:43.979245186</td>\n",
       "      <td>S1AP initialUEMessage (12)</td>\n",
       "      <td>NAS-EPS initialUEMessage (12)</td>\n",
       "      <td>D:\\Temp\\s1ap_volte.pcapng</td>\n",
       "      <td>0</td>\n",
       "    </tr>\n",
       "    <tr>\n",
       "      <th>1</th>\n",
       "      <td>127.0.0.101</td>\n",
       "      <td>127.0.0.100</td>\n",
       "      <td>36412</td>\n",
       "      <td>42104</td>\n",
       "      <td>sctp</td>\n",
       "      <td>2</td>\n",
       "      <td>S1AP</td>\n",
       "      <td>S1AP-PDU: 000b40380000030000000200020008000200...</td>\n",
       "      <td>1.639401e+09</td>\n",
       "      <td>0.001688</td>\n",
       "      <td>2021-12-13 13:09:43.980933189</td>\n",
       "      <td>S1AP downlinkNASTransport (11)</td>\n",
       "      <td>NAS-EPS downlinkNASTransport (11)</td>\n",
       "      <td>D:\\Temp\\s1ap_volte.pcapng</td>\n",
       "      <td>0</td>\n",
       "    </tr>\n",
       "    <tr>\n",
       "      <th>2</th>\n",
       "      <td>127.0.0.100</td>\n",
       "      <td>127.0.0.101</td>\n",
       "      <td>42104</td>\n",
       "      <td>36412</td>\n",
       "      <td>sctp</td>\n",
       "      <td>3</td>\n",
       "      <td>S1AP</td>\n",
       "      <td>S1AP-PDU: 000d40350000050000000200020008000200...</td>\n",
       "      <td>1.639401e+09</td>\n",
       "      <td>0.359906</td>\n",
       "      <td>2021-12-13 13:09:44.339151144</td>\n",
       "      <td>S1AP uplinkNASTransport (13)</td>\n",
       "      <td>NAS-EPS uplinkNASTransport (13)</td>\n",
       "      <td>D:\\Temp\\s1ap_volte.pcapng</td>\n",
       "      <td>0</td>\n",
       "    </tr>\n",
       "    <tr>\n",
       "      <th>3</th>\n",
       "      <td>127.0.0.101</td>\n",
       "      <td>127.0.0.100</td>\n",
       "      <td>36412</td>\n",
       "      <td>42104</td>\n",
       "      <td>sctp</td>\n",
       "      <td>4</td>\n",
       "      <td>S1AP</td>\n",
       "      <td>S1AP-PDU: 000b402f0000030000000200020008000200...</td>\n",
       "      <td>1.639401e+09</td>\n",
       "      <td>0.360299</td>\n",
       "      <td>2021-12-13 13:09:44.339544535</td>\n",
       "      <td>S1AP downlinkNASTransport (11)</td>\n",
       "      <td>NAS-EPS downlinkNASTransport (11)</td>\n",
       "      <td>D:\\Temp\\s1ap_volte.pcapng</td>\n",
       "      <td>0</td>\n",
       "    </tr>\n",
       "    <tr>\n",
       "      <th>4</th>\n",
       "      <td>127.0.0.100</td>\n",
       "      <td>127.0.0.101</td>\n",
       "      <td>42104</td>\n",
       "      <td>36412</td>\n",
       "      <td>sctp</td>\n",
       "      <td>5</td>\n",
       "      <td>S1AP</td>\n",
       "      <td>S1AP-PDU: 000d403d0000050000000200020008000200...</td>\n",
       "      <td>1.639401e+09</td>\n",
       "      <td>0.379930</td>\n",
       "      <td>2021-12-13 13:09:44.359175205</td>\n",
       "      <td>S1AP uplinkNASTransport (13)</td>\n",
       "      <td>NAS-EPS uplinkNASTransport (13)</td>\n",
       "      <td>D:\\Temp\\s1ap_volte.pcapng</td>\n",
       "      <td>0</td>\n",
       "    </tr>\n",
       "    <tr>\n",
       "      <th>5</th>\n",
       "      <td>127.0.0.101</td>\n",
       "      <td>127.0.0.100</td>\n",
       "      <td>36412</td>\n",
       "      <td>42104</td>\n",
       "      <td>sctp</td>\n",
       "      <td>6</td>\n",
       "      <td>S1AP</td>\n",
       "      <td>S1AP-PDU: 000b401d0000030000000200020008000200...</td>\n",
       "      <td>1.639401e+09</td>\n",
       "      <td>0.381722</td>\n",
       "      <td>2021-12-13 13:09:44.360966921</td>\n",
       "      <td>S1AP downlinkNASTransport (11)</td>\n",
       "      <td>NAS-EPS downlinkNASTransport (11)</td>\n",
       "      <td>D:\\Temp\\s1ap_volte.pcapng</td>\n",
       "      <td>0</td>\n",
       "    </tr>\n",
       "    <tr>\n",
       "      <th>6</th>\n",
       "      <td>127.0.0.100</td>\n",
       "      <td>127.0.0.101</td>\n",
       "      <td>42104</td>\n",
       "      <td>36412</td>\n",
       "      <td>sctp</td>\n",
       "      <td>7</td>\n",
       "      <td>S1AP</td>\n",
       "      <td>S1AP-PDU: 000d403e0000050000000200020008000200...</td>\n",
       "      <td>1.639401e+09</td>\n",
       "      <td>0.400008</td>\n",
       "      <td>2021-12-13 13:09:44.379253387</td>\n",
       "      <td>S1AP uplinkNASTransport (13)</td>\n",
       "      <td>NAS-EPS uplinkNASTransport (13)</td>\n",
       "      <td>D:\\Temp\\s1ap_volte.pcapng</td>\n",
       "      <td>0</td>\n",
       "    </tr>\n",
       "    <tr>\n",
       "      <th>7</th>\n",
       "      <td>127.0.0.101</td>\n",
       "      <td>127.0.0.100</td>\n",
       "      <td>36412</td>\n",
       "      <td>42104</td>\n",
       "      <td>sctp</td>\n",
       "      <td>8</td>\n",
       "      <td>S1AP</td>\n",
       "      <td>S1AP-PDU: 00090080d500000700000002000200080002...</td>\n",
       "      <td>1.639401e+09</td>\n",
       "      <td>0.402546</td>\n",
       "      <td>2021-12-13 13:09:44.381791353</td>\n",
       "      <td>S1AP InitialContextSetup (9)</td>\n",
       "      <td>NAS-EPS InitialContextSetup (9)</td>\n",
       "      <td>D:\\Temp\\s1ap_volte.pcapng</td>\n",
       "      <td>0</td>\n",
       "    </tr>\n",
       "    <tr>\n",
       "      <th>8</th>\n",
       "      <td>127.0.0.100</td>\n",
       "      <td>127.0.0.101</td>\n",
       "      <td>42104</td>\n",
       "      <td>36412</td>\n",
       "      <td>sctp</td>\n",
       "      <td>10</td>\n",
       "      <td>S1AP</td>\n",
       "      <td>S1AP-PDU: 200900220000030000400200020008400200...</td>\n",
       "      <td>1.639401e+09</td>\n",
       "      <td>0.650056</td>\n",
       "      <td>2021-12-13 13:09:44.629301071</td>\n",
       "      <td>S1AP InitialContextSetup (9),\\nS1AP uplinkNAST...</td>\n",
       "      <td>NAS-EPS uplinkNASTransport (13)</td>\n",
       "      <td>D:\\Temp\\s1ap_volte.pcapng</td>\n",
       "      <td>0</td>\n",
       "    </tr>\n",
       "    <tr>\n",
       "      <th>9</th>\n",
       "      <td>127.0.0.101</td>\n",
       "      <td>127.0.0.100</td>\n",
       "      <td>36412</td>\n",
       "      <td>42104</td>\n",
       "      <td>sctp</td>\n",
       "      <td>11</td>\n",
       "      <td>S1AP</td>\n",
       "      <td>S1AP-PDU: 000b403a0000030000000200020008000200...</td>\n",
       "      <td>1.639401e+09</td>\n",
       "      <td>0.650767</td>\n",
       "      <td>2021-12-13 13:09:44.630011797</td>\n",
       "      <td>S1AP downlinkNASTransport (11)</td>\n",
       "      <td>NAS-EPS downlinkNASTransport (11)</td>\n",
       "      <td>D:\\Temp\\s1ap_volte.pcapng</td>\n",
       "      <td>0</td>\n",
       "    </tr>\n",
       "    <tr>\n",
       "      <th>10</th>\n",
       "      <td>127.0.0.101</td>\n",
       "      <td>127.0.0.100</td>\n",
       "      <td>36412</td>\n",
       "      <td>42104</td>\n",
       "      <td>sctp</td>\n",
       "      <td>12</td>\n",
       "      <td>S1AP</td>\n",
       "      <td>S1AP-PDU: 000500809a00000300000002000200080002...</td>\n",
       "      <td>1.639401e+09</td>\n",
       "      <td>0.653231</td>\n",
       "      <td>2021-12-13 13:09:44.632475853</td>\n",
       "      <td>S1AP E-RABSetup (5)</td>\n",
       "      <td>NAS-EPS E-RABSetup (5)</td>\n",
       "      <td>D:\\Temp\\s1ap_volte.pcapng</td>\n",
       "      <td>0</td>\n",
       "    </tr>\n",
       "    <tr>\n",
       "      <th>11</th>\n",
       "      <td>127.0.0.100</td>\n",
       "      <td>127.0.0.101</td>\n",
       "      <td>42104</td>\n",
       "      <td>36412</td>\n",
       "      <td>sctp</td>\n",
       "      <td>14</td>\n",
       "      <td>S1AP</td>\n",
       "      <td>S1AP-PDU: 000d40330000050000000200020008000200...</td>\n",
       "      <td>1.639401e+09</td>\n",
       "      <td>0.854059</td>\n",
       "      <td>2021-12-13 13:09:44.833304167</td>\n",
       "      <td>S1AP uplinkNASTransport (13)</td>\n",
       "      <td>NAS-EPS uplinkNASTransport (13)</td>\n",
       "      <td>D:\\Temp\\s1ap_volte.pcapng</td>\n",
       "      <td>0</td>\n",
       "    </tr>\n",
       "    <tr>\n",
       "      <th>12</th>\n",
       "      <td>127.0.0.101</td>\n",
       "      <td>127.0.0.100</td>\n",
       "      <td>36412</td>\n",
       "      <td>42104</td>\n",
       "      <td>sctp</td>\n",
       "      <td>15</td>\n",
       "      <td>S1AP</td>\n",
       "      <td>S1AP-PDU: 00050080c000000300000002000100080002...</td>\n",
       "      <td>1.639401e+09</td>\n",
       "      <td>18.615489</td>\n",
       "      <td>2021-12-13 13:10:02.594734192</td>\n",
       "      <td>S1AP E-RABSetup (5)</td>\n",
       "      <td>NAS-EPS E-RABSetup (5)</td>\n",
       "      <td>D:\\Temp\\s1ap_volte.pcapng</td>\n",
       "      <td>0</td>\n",
       "    </tr>\n",
       "    <tr>\n",
       "      <th>13</th>\n",
       "      <td>127.0.0.101</td>\n",
       "      <td>127.0.0.100</td>\n",
       "      <td>36412</td>\n",
       "      <td>42104</td>\n",
       "      <td>sctp</td>\n",
       "      <td>17</td>\n",
       "      <td>S1AP</td>\n",
       "      <td>S1AP-PDU: 00050080c000000300000002000200080002...</td>\n",
       "      <td>1.639401e+09</td>\n",
       "      <td>18.618154</td>\n",
       "      <td>2021-12-13 13:10:02.597399473</td>\n",
       "      <td>S1AP E-RABSetup (5)</td>\n",
       "      <td>NAS-EPS E-RABSetup (5)</td>\n",
       "      <td>D:\\Temp\\s1ap_volte.pcapng</td>\n",
       "      <td>0</td>\n",
       "    </tr>\n",
       "    <tr>\n",
       "      <th>14</th>\n",
       "      <td>127.0.0.100</td>\n",
       "      <td>127.0.0.101</td>\n",
       "      <td>42104</td>\n",
       "      <td>36412</td>\n",
       "      <td>sctp</td>\n",
       "      <td>19</td>\n",
       "      <td>S1AP</td>\n",
       "      <td>S1AP-PDU: 000d40330000050000000200020008000200...</td>\n",
       "      <td>1.639401e+09</td>\n",
       "      <td>18.822076</td>\n",
       "      <td>2021-12-13 13:10:02.801321030</td>\n",
       "      <td>S1AP uplinkNASTransport (13)</td>\n",
       "      <td>NAS-EPS uplinkNASTransport (13)</td>\n",
       "      <td>D:\\Temp\\s1ap_volte.pcapng</td>\n",
       "      <td>0</td>\n",
       "    </tr>\n",
       "    <tr>\n",
       "      <th>15</th>\n",
       "      <td>127.0.0.101</td>\n",
       "      <td>127.0.0.100</td>\n",
       "      <td>36412</td>\n",
       "      <td>42104</td>\n",
       "      <td>sctp</td>\n",
       "      <td>20</td>\n",
       "      <td>S1AP</td>\n",
       "      <td>S1AP-PDU: 000700290000040000000200020008000200...</td>\n",
       "      <td>1.639401e+09</td>\n",
       "      <td>24.548039</td>\n",
       "      <td>2021-12-13 13:10:08.527284622</td>\n",
       "      <td>S1AP E-RABRelease (7)</td>\n",
       "      <td>NAS-EPS E-RABRelease (7)</td>\n",
       "      <td>D:\\Temp\\s1ap_volte.pcapng</td>\n",
       "      <td>0</td>\n",
       "    </tr>\n",
       "    <tr>\n",
       "      <th>16</th>\n",
       "      <td>127.0.0.101</td>\n",
       "      <td>127.0.0.100</td>\n",
       "      <td>36412</td>\n",
       "      <td>42104</td>\n",
       "      <td>sctp</td>\n",
       "      <td>22</td>\n",
       "      <td>S1AP</td>\n",
       "      <td>S1AP-PDU: 000700290000040000000200010008000200...</td>\n",
       "      <td>1.639401e+09</td>\n",
       "      <td>24.548319</td>\n",
       "      <td>2021-12-13 13:10:08.527564049</td>\n",
       "      <td>S1AP E-RABRelease (7)</td>\n",
       "      <td>NAS-EPS E-RABRelease (7)</td>\n",
       "      <td>D:\\Temp\\s1ap_volte.pcapng</td>\n",
       "      <td>0</td>\n",
       "    </tr>\n",
       "    <tr>\n",
       "      <th>17</th>\n",
       "      <td>127.0.0.100</td>\n",
       "      <td>127.0.0.101</td>\n",
       "      <td>42104</td>\n",
       "      <td>36412</td>\n",
       "      <td>sctp</td>\n",
       "      <td>24</td>\n",
       "      <td>S1AP</td>\n",
       "      <td>S1AP-PDU: 000d40330000050000000200020008000200...</td>\n",
       "      <td>1.639401e+09</td>\n",
       "      <td>24.750067</td>\n",
       "      <td>2021-12-13 13:10:08.729311943</td>\n",
       "      <td>S1AP uplinkNASTransport (13)</td>\n",
       "      <td>NAS-EPS uplinkNASTransport (13)</td>\n",
       "      <td>D:\\Temp\\s1ap_volte.pcapng</td>\n",
       "      <td>0</td>\n",
       "    </tr>\n",
       "    <tr>\n",
       "      <th>18</th>\n",
       "      <td>127.0.0.100</td>\n",
       "      <td>127.0.0.101</td>\n",
       "      <td>42104</td>\n",
       "      <td>36412</td>\n",
       "      <td>sctp</td>\n",
       "      <td>31</td>\n",
       "      <td>S1AP</td>\n",
       "      <td>S1AP-PDU: 000c4037000006000800020003001a000504...</td>\n",
       "      <td>1.639401e+09</td>\n",
       "      <td>187.899821</td>\n",
       "      <td>2021-12-13 13:12:51.879065990</td>\n",
       "      <td>S1AP initialUEMessage (12)</td>\n",
       "      <td>NAS-EPS initialUEMessage (12)</td>\n",
       "      <td>D:\\Temp\\s1ap_volte.pcapng</td>\n",
       "      <td>0</td>\n",
       "    </tr>\n",
       "    <tr>\n",
       "      <th>19</th>\n",
       "      <td>127.0.0.100</td>\n",
       "      <td>127.0.0.101</td>\n",
       "      <td>42104</td>\n",
       "      <td>36412</td>\n",
       "      <td>sctp</td>\n",
       "      <td>38</td>\n",
       "      <td>S1AP</td>\n",
       "      <td>S1AP-PDU: 000c4037000006000800020004001a000504...</td>\n",
       "      <td>1.639401e+09</td>\n",
       "      <td>229.699735</td>\n",
       "      <td>2021-12-13 13:13:33.678980112</td>\n",
       "      <td>S1AP initialUEMessage (12)</td>\n",
       "      <td>NAS-EPS initialUEMessage (12)</td>\n",
       "      <td>D:\\Temp\\s1ap_volte.pcapng</td>\n",
       "      <td>0</td>\n",
       "    </tr>\n",
       "    <tr>\n",
       "      <th>20</th>\n",
       "      <td>127.0.0.101</td>\n",
       "      <td>127.0.0.100</td>\n",
       "      <td>36412</td>\n",
       "      <td>42104</td>\n",
       "      <td>sctp</td>\n",
       "      <td>42</td>\n",
       "      <td>S1AP</td>\n",
       "      <td>S1AP-PDU: 00050080c000000300000002000100080002...</td>\n",
       "      <td>1.639401e+09</td>\n",
       "      <td>239.236338</td>\n",
       "      <td>2021-12-13 13:13:43.215583324</td>\n",
       "      <td>S1AP E-RABSetup (5)</td>\n",
       "      <td>NAS-EPS E-RABSetup (5)</td>\n",
       "      <td>D:\\Temp\\s1ap_volte.pcapng</td>\n",
       "      <td>0</td>\n",
       "    </tr>\n",
       "    <tr>\n",
       "      <th>21</th>\n",
       "      <td>127.0.0.101</td>\n",
       "      <td>127.0.0.100</td>\n",
       "      <td>36412</td>\n",
       "      <td>42104</td>\n",
       "      <td>sctp</td>\n",
       "      <td>44</td>\n",
       "      <td>S1AP</td>\n",
       "      <td>S1AP-PDU: 00050080c000000300000002000400080002...</td>\n",
       "      <td>1.639401e+09</td>\n",
       "      <td>239.239057</td>\n",
       "      <td>2021-12-13 13:13:43.218302011</td>\n",
       "      <td>S1AP E-RABSetup (5)</td>\n",
       "      <td>NAS-EPS E-RABSetup (5)</td>\n",
       "      <td>D:\\Temp\\s1ap_volte.pcapng</td>\n",
       "      <td>0</td>\n",
       "    </tr>\n",
       "    <tr>\n",
       "      <th>22</th>\n",
       "      <td>127.0.0.100</td>\n",
       "      <td>127.0.0.101</td>\n",
       "      <td>42104</td>\n",
       "      <td>36412</td>\n",
       "      <td>sctp</td>\n",
       "      <td>46</td>\n",
       "      <td>S1AP</td>\n",
       "      <td>S1AP-PDU: 000d40330000050000000200040008000200...</td>\n",
       "      <td>1.639401e+09</td>\n",
       "      <td>239.442069</td>\n",
       "      <td>2021-12-13 13:13:43.421314478</td>\n",
       "      <td>S1AP uplinkNASTransport (13)</td>\n",
       "      <td>NAS-EPS uplinkNASTransport (13)</td>\n",
       "      <td>D:\\Temp\\s1ap_volte.pcapng</td>\n",
       "      <td>0</td>\n",
       "    </tr>\n",
       "    <tr>\n",
       "      <th>23</th>\n",
       "      <td>127.0.0.101</td>\n",
       "      <td>127.0.0.100</td>\n",
       "      <td>36412</td>\n",
       "      <td>42104</td>\n",
       "      <td>sctp</td>\n",
       "      <td>47</td>\n",
       "      <td>S1AP</td>\n",
       "      <td>S1AP-PDU: 000700290000040000000200040008000200...</td>\n",
       "      <td>1.639401e+09</td>\n",
       "      <td>243.745539</td>\n",
       "      <td>2021-12-13 13:13:47.724784613</td>\n",
       "      <td>S1AP E-RABRelease (7)</td>\n",
       "      <td>NAS-EPS E-RABRelease (7)</td>\n",
       "      <td>D:\\Temp\\s1ap_volte.pcapng</td>\n",
       "      <td>0</td>\n",
       "    </tr>\n",
       "    <tr>\n",
       "      <th>24</th>\n",
       "      <td>127.0.0.101</td>\n",
       "      <td>127.0.0.100</td>\n",
       "      <td>36412</td>\n",
       "      <td>42104</td>\n",
       "      <td>sctp</td>\n",
       "      <td>49</td>\n",
       "      <td>S1AP</td>\n",
       "      <td>S1AP-PDU: 000700290000040000000200010008000200...</td>\n",
       "      <td>1.639401e+09</td>\n",
       "      <td>243.745816</td>\n",
       "      <td>2021-12-13 13:13:47.725061178</td>\n",
       "      <td>S1AP E-RABRelease (7)</td>\n",
       "      <td>NAS-EPS E-RABRelease (7)</td>\n",
       "      <td>D:\\Temp\\s1ap_volte.pcapng</td>\n",
       "      <td>0</td>\n",
       "    </tr>\n",
       "    <tr>\n",
       "      <th>25</th>\n",
       "      <td>127.0.0.100</td>\n",
       "      <td>127.0.0.101</td>\n",
       "      <td>42104</td>\n",
       "      <td>36412</td>\n",
       "      <td>sctp</td>\n",
       "      <td>51</td>\n",
       "      <td>S1AP</td>\n",
       "      <td>S1AP-PDU: 000d40330000050000000200040008000200...</td>\n",
       "      <td>1.639401e+09</td>\n",
       "      <td>243.946070</td>\n",
       "      <td>2021-12-13 13:13:47.925315142</td>\n",
       "      <td>S1AP uplinkNASTransport (13)</td>\n",
       "      <td>NAS-EPS uplinkNASTransport (13)</td>\n",
       "      <td>D:\\Temp\\s1ap_volte.pcapng</td>\n",
       "      <td>0</td>\n",
       "    </tr>\n",
       "    <tr>\n",
       "      <th>26</th>\n",
       "      <td>127.0.0.100</td>\n",
       "      <td>127.0.0.101</td>\n",
       "      <td>42104</td>\n",
       "      <td>36412</td>\n",
       "      <td>sctp</td>\n",
       "      <td>55</td>\n",
       "      <td>S1AP</td>\n",
       "      <td>S1AP-PDU: 000c4037000006000800020005001a000504...</td>\n",
       "      <td>1.639401e+09</td>\n",
       "      <td>334.979830</td>\n",
       "      <td>2021-12-13 13:15:18.959075212</td>\n",
       "      <td>S1AP initialUEMessage (12)</td>\n",
       "      <td>NAS-EPS initialUEMessage (12)</td>\n",
       "      <td>D:\\Temp\\s1ap_volte.pcapng</td>\n",
       "      <td>0</td>\n",
       "    </tr>\n",
       "    <tr>\n",
       "      <th>27</th>\n",
       "      <td>127.0.0.100</td>\n",
       "      <td>127.0.0.101</td>\n",
       "      <td>42104</td>\n",
       "      <td>36412</td>\n",
       "      <td>sctp</td>\n",
       "      <td>65</td>\n",
       "      <td>S1AP</td>\n",
       "      <td>S1AP-PDU: 000c4037000006000800020006001a000504...</td>\n",
       "      <td>1.639401e+09</td>\n",
       "      <td>427.439859</td>\n",
       "      <td>2021-12-13 13:16:51.419104099</td>\n",
       "      <td>S1AP initialUEMessage (12)</td>\n",
       "      <td>NAS-EPS initialUEMessage (12)</td>\n",
       "      <td>D:\\Temp\\s1ap_volte.pcapng</td>\n",
       "      <td>0</td>\n",
       "    </tr>\n",
       "    <tr>\n",
       "      <th>28</th>\n",
       "      <td>127.0.0.100</td>\n",
       "      <td>127.0.0.101</td>\n",
       "      <td>42104</td>\n",
       "      <td>36412</td>\n",
       "      <td>sctp</td>\n",
       "      <td>70</td>\n",
       "      <td>S1AP</td>\n",
       "      <td>S1AP-PDU: 000d403d0000050000000200060008000200...</td>\n",
       "      <td>1.639401e+09</td>\n",
       "      <td>430.956640</td>\n",
       "      <td>2021-12-13 13:16:54.935885668</td>\n",
       "      <td>S1AP uplinkNASTransport (13)</td>\n",
       "      <td>NAS-EPS uplinkNASTransport (13)</td>\n",
       "      <td>D:\\Temp\\s1ap_volte.pcapng</td>\n",
       "      <td>0</td>\n",
       "    </tr>\n",
       "    <tr>\n",
       "      <th>29</th>\n",
       "      <td>127.0.0.101</td>\n",
       "      <td>127.0.0.100</td>\n",
       "      <td>36412</td>\n",
       "      <td>42104</td>\n",
       "      <td>sctp</td>\n",
       "      <td>71</td>\n",
       "      <td>S1AP</td>\n",
       "      <td>S1AP-PDU: 000b40170000030000000200060008000200...</td>\n",
       "      <td>1.639401e+09</td>\n",
       "      <td>430.957062</td>\n",
       "      <td>2021-12-13 13:16:54.936307669</td>\n",
       "      <td>S1AP downlinkNASTransport (11)</td>\n",
       "      <td>NAS-EPS downlinkNASTransport (11)</td>\n",
       "      <td>D:\\Temp\\s1ap_volte.pcapng</td>\n",
       "      <td>0</td>\n",
       "    </tr>\n",
       "    <tr>\n",
       "      <th>30</th>\n",
       "      <td>127.0.0.100</td>\n",
       "      <td>127.0.0.101</td>\n",
       "      <td>42104</td>\n",
       "      <td>36412</td>\n",
       "      <td>sctp</td>\n",
       "      <td>72</td>\n",
       "      <td>S1AP</td>\n",
       "      <td>S1AP-PDU: 000c4037000006000800020007001a000504...</td>\n",
       "      <td>1.639401e+09</td>\n",
       "      <td>466.681816</td>\n",
       "      <td>2021-12-13 13:17:30.661061287</td>\n",
       "      <td>S1AP initialUEMessage (12)</td>\n",
       "      <td>NAS-EPS initialUEMessage (12)</td>\n",
       "      <td>D:\\Temp\\s1ap_volte.pcapng</td>\n",
       "      <td>0</td>\n",
       "    </tr>\n",
       "    <tr>\n",
       "      <th>31</th>\n",
       "      <td>127.0.0.101</td>\n",
       "      <td>127.0.0.100</td>\n",
       "      <td>36412</td>\n",
       "      <td>42104</td>\n",
       "      <td>sctp</td>\n",
       "      <td>76</td>\n",
       "      <td>S1AP</td>\n",
       "      <td>S1AP-PDU: 00050080c000000300000002000600080002...</td>\n",
       "      <td>1.639401e+09</td>\n",
       "      <td>475.210914</td>\n",
       "      <td>2021-12-13 13:17:39.190158844</td>\n",
       "      <td>S1AP E-RABSetup (5)</td>\n",
       "      <td>NAS-EPS E-RABSetup (5)</td>\n",
       "      <td>D:\\Temp\\s1ap_volte.pcapng</td>\n",
       "      <td>0</td>\n",
       "    </tr>\n",
       "    <tr>\n",
       "      <th>32</th>\n",
       "      <td>127.0.0.101</td>\n",
       "      <td>127.0.0.100</td>\n",
       "      <td>36412</td>\n",
       "      <td>42104</td>\n",
       "      <td>sctp</td>\n",
       "      <td>78</td>\n",
       "      <td>S1AP</td>\n",
       "      <td>S1AP-PDU: 00050080c000000300000002000700080002...</td>\n",
       "      <td>1.639401e+09</td>\n",
       "      <td>475.213329</td>\n",
       "      <td>2021-12-13 13:17:39.192574024</td>\n",
       "      <td>S1AP E-RABSetup (5)</td>\n",
       "      <td>NAS-EPS E-RABSetup (5)</td>\n",
       "      <td>D:\\Temp\\s1ap_volte.pcapng</td>\n",
       "      <td>0</td>\n",
       "    </tr>\n",
       "    <tr>\n",
       "      <th>33</th>\n",
       "      <td>127.0.0.100</td>\n",
       "      <td>127.0.0.101</td>\n",
       "      <td>42104</td>\n",
       "      <td>36412</td>\n",
       "      <td>sctp</td>\n",
       "      <td>80</td>\n",
       "      <td>S1AP</td>\n",
       "      <td>S1AP-PDU: 000d40330000050000000200070008000200...</td>\n",
       "      <td>1.639401e+09</td>\n",
       "      <td>475.414067</td>\n",
       "      <td>2021-12-13 13:17:39.393311739</td>\n",
       "      <td>S1AP uplinkNASTransport (13)</td>\n",
       "      <td>NAS-EPS uplinkNASTransport (13)</td>\n",
       "      <td>D:\\Temp\\s1ap_volte.pcapng</td>\n",
       "      <td>0</td>\n",
       "    </tr>\n",
       "    <tr>\n",
       "      <th>34</th>\n",
       "      <td>127.0.0.101</td>\n",
       "      <td>127.0.0.100</td>\n",
       "      <td>36412</td>\n",
       "      <td>42104</td>\n",
       "      <td>sctp</td>\n",
       "      <td>81</td>\n",
       "      <td>S1AP</td>\n",
       "      <td>S1AP-PDU: 000700290000040000000200070008000200...</td>\n",
       "      <td>1.639401e+09</td>\n",
       "      <td>494.095976</td>\n",
       "      <td>2021-12-13 13:17:58.075221300</td>\n",
       "      <td>S1AP E-RABRelease (7)</td>\n",
       "      <td>NAS-EPS E-RABRelease (7)</td>\n",
       "      <td>D:\\Temp\\s1ap_volte.pcapng</td>\n",
       "      <td>0</td>\n",
       "    </tr>\n",
       "    <tr>\n",
       "      <th>35</th>\n",
       "      <td>127.0.0.101</td>\n",
       "      <td>127.0.0.100</td>\n",
       "      <td>36412</td>\n",
       "      <td>42104</td>\n",
       "      <td>sctp</td>\n",
       "      <td>83</td>\n",
       "      <td>S1AP</td>\n",
       "      <td>S1AP-PDU: 000700290000040000000200060008000200...</td>\n",
       "      <td>1.639401e+09</td>\n",
       "      <td>494.096284</td>\n",
       "      <td>2021-12-13 13:17:58.075529575</td>\n",
       "      <td>S1AP E-RABRelease (7)</td>\n",
       "      <td>NAS-EPS E-RABRelease (7)</td>\n",
       "      <td>D:\\Temp\\s1ap_volte.pcapng</td>\n",
       "      <td>0</td>\n",
       "    </tr>\n",
       "    <tr>\n",
       "      <th>36</th>\n",
       "      <td>127.0.0.100</td>\n",
       "      <td>127.0.0.101</td>\n",
       "      <td>42104</td>\n",
       "      <td>36412</td>\n",
       "      <td>sctp</td>\n",
       "      <td>85</td>\n",
       "      <td>S1AP</td>\n",
       "      <td>S1AP-PDU: 000d40330000050000000200060008000200...</td>\n",
       "      <td>1.639401e+09</td>\n",
       "      <td>494.298077</td>\n",
       "      <td>2021-12-13 13:17:58.277322531</td>\n",
       "      <td>S1AP uplinkNASTransport (13)</td>\n",
       "      <td>NAS-EPS uplinkNASTransport (13)</td>\n",
       "      <td>D:\\Temp\\s1ap_volte.pcapng</td>\n",
       "      <td>0</td>\n",
       "    </tr>\n",
       "    <tr>\n",
       "      <th>37</th>\n",
       "      <td>127.0.0.101</td>\n",
       "      <td>127.0.0.100</td>\n",
       "      <td>36412</td>\n",
       "      <td>42104</td>\n",
       "      <td>sctp</td>\n",
       "      <td>86</td>\n",
       "      <td>S1AP</td>\n",
       "      <td>S1AP-PDU: 00050080c000000300000002000700080002...</td>\n",
       "      <td>1.639402e+09</td>\n",
       "      <td>522.609849</td>\n",
       "      <td>2021-12-13 13:18:26.589094639</td>\n",
       "      <td>S1AP E-RABSetup (5)</td>\n",
       "      <td>NAS-EPS E-RABSetup (5)</td>\n",
       "      <td>D:\\Temp\\s1ap_volte.pcapng</td>\n",
       "      <td>0</td>\n",
       "    </tr>\n",
       "    <tr>\n",
       "      <th>38</th>\n",
       "      <td>127.0.0.101</td>\n",
       "      <td>127.0.0.100</td>\n",
       "      <td>36412</td>\n",
       "      <td>42104</td>\n",
       "      <td>sctp</td>\n",
       "      <td>88</td>\n",
       "      <td>S1AP</td>\n",
       "      <td>S1AP-PDU: 00050080c000000300000002000600080002...</td>\n",
       "      <td>1.639402e+09</td>\n",
       "      <td>522.612429</td>\n",
       "      <td>2021-12-13 13:18:26.591674328</td>\n",
       "      <td>S1AP E-RABSetup (5)</td>\n",
       "      <td>NAS-EPS E-RABSetup (5)</td>\n",
       "      <td>D:\\Temp\\s1ap_volte.pcapng</td>\n",
       "      <td>0</td>\n",
       "    </tr>\n",
       "    <tr>\n",
       "      <th>39</th>\n",
       "      <td>127.0.0.100</td>\n",
       "      <td>127.0.0.101</td>\n",
       "      <td>42104</td>\n",
       "      <td>36412</td>\n",
       "      <td>sctp</td>\n",
       "      <td>90</td>\n",
       "      <td>S1AP</td>\n",
       "      <td>S1AP-PDU: 000d40330000050000000200070008000200...</td>\n",
       "      <td>1.639402e+09</td>\n",
       "      <td>522.814065</td>\n",
       "      <td>2021-12-13 13:18:26.793310165</td>\n",
       "      <td>S1AP uplinkNASTransport (13)</td>\n",
       "      <td>NAS-EPS uplinkNASTransport (13)</td>\n",
       "      <td>D:\\Temp\\s1ap_volte.pcapng</td>\n",
       "      <td>0</td>\n",
       "    </tr>\n",
       "    <tr>\n",
       "      <th>40</th>\n",
       "      <td>127.0.0.101</td>\n",
       "      <td>127.0.0.100</td>\n",
       "      <td>36412</td>\n",
       "      <td>42104</td>\n",
       "      <td>sctp</td>\n",
       "      <td>91</td>\n",
       "      <td>S1AP</td>\n",
       "      <td>S1AP-PDU: 000700290000040000000200060008000200...</td>\n",
       "      <td>1.639402e+09</td>\n",
       "      <td>532.177487</td>\n",
       "      <td>2021-12-13 13:18:36.156732559</td>\n",
       "      <td>S1AP E-RABRelease (7)</td>\n",
       "      <td>NAS-EPS E-RABRelease (7)</td>\n",
       "      <td>D:\\Temp\\s1ap_volte.pcapng</td>\n",
       "      <td>0</td>\n",
       "    </tr>\n",
       "    <tr>\n",
       "      <th>41</th>\n",
       "      <td>127.0.0.101</td>\n",
       "      <td>127.0.0.100</td>\n",
       "      <td>36412</td>\n",
       "      <td>42104</td>\n",
       "      <td>sctp</td>\n",
       "      <td>93</td>\n",
       "      <td>S1AP</td>\n",
       "      <td>S1AP-PDU: 000700290000040000000200070008000200...</td>\n",
       "      <td>1.639402e+09</td>\n",
       "      <td>532.177771</td>\n",
       "      <td>2021-12-13 13:18:36.157016277</td>\n",
       "      <td>S1AP E-RABRelease (7)</td>\n",
       "      <td>NAS-EPS E-RABRelease (7)</td>\n",
       "      <td>D:\\Temp\\s1ap_volte.pcapng</td>\n",
       "      <td>0</td>\n",
       "    </tr>\n",
       "    <tr>\n",
       "      <th>42</th>\n",
       "      <td>127.0.0.100</td>\n",
       "      <td>127.0.0.101</td>\n",
       "      <td>42104</td>\n",
       "      <td>36412</td>\n",
       "      <td>sctp</td>\n",
       "      <td>95</td>\n",
       "      <td>S1AP</td>\n",
       "      <td>S1AP-PDU: 000d40330000050000000200070008000200...</td>\n",
       "      <td>1.639402e+09</td>\n",
       "      <td>532.378064</td>\n",
       "      <td>2021-12-13 13:18:36.357309103</td>\n",
       "      <td>S1AP uplinkNASTransport (13)</td>\n",
       "      <td>NAS-EPS uplinkNASTransport (13)</td>\n",
       "      <td>D:\\Temp\\s1ap_volte.pcapng</td>\n",
       "      <td>0</td>\n",
       "    </tr>\n",
       "    <tr>\n",
       "      <th>43</th>\n",
       "      <td>127.0.0.100</td>\n",
       "      <td>127.0.0.101</td>\n",
       "      <td>42104</td>\n",
       "      <td>36412</td>\n",
       "      <td>sctp</td>\n",
       "      <td>102</td>\n",
       "      <td>S1AP</td>\n",
       "      <td>S1AP-PDU: 000c4037000006000800020008001a000504...</td>\n",
       "      <td>1.639402e+09</td>\n",
       "      <td>629.181779</td>\n",
       "      <td>2021-12-13 13:20:13.161024570</td>\n",
       "      <td>S1AP initialUEMessage (12)</td>\n",
       "      <td>NAS-EPS initialUEMessage (12)</td>\n",
       "      <td>D:\\Temp\\s1ap_volte.pcapng</td>\n",
       "      <td>0</td>\n",
       "    </tr>\n",
       "    <tr>\n",
       "      <th>44</th>\n",
       "      <td>127.0.0.101</td>\n",
       "      <td>127.0.0.100</td>\n",
       "      <td>36412</td>\n",
       "      <td>42104</td>\n",
       "      <td>sctp</td>\n",
       "      <td>106</td>\n",
       "      <td>S1AP</td>\n",
       "      <td>S1AP-PDU: 00050080c000000300000002000800080002...</td>\n",
       "      <td>1.639402e+09</td>\n",
       "      <td>656.301519</td>\n",
       "      <td>2021-12-13 13:20:40.280764341</td>\n",
       "      <td>S1AP E-RABSetup (5)</td>\n",
       "      <td>NAS-EPS E-RABSetup (5)</td>\n",
       "      <td>D:\\Temp\\s1ap_volte.pcapng</td>\n",
       "      <td>0</td>\n",
       "    </tr>\n",
       "    <tr>\n",
       "      <th>45</th>\n",
       "      <td>127.0.0.101</td>\n",
       "      <td>127.0.0.100</td>\n",
       "      <td>36412</td>\n",
       "      <td>42104</td>\n",
       "      <td>sctp</td>\n",
       "      <td>109</td>\n",
       "      <td>S1AP</td>\n",
       "      <td>S1AP-PDU: 00050080c000000300000002000600080002...</td>\n",
       "      <td>1.639402e+09</td>\n",
       "      <td>656.304209</td>\n",
       "      <td>2021-12-13 13:20:40.283453703</td>\n",
       "      <td>S1AP E-RABSetup (5)</td>\n",
       "      <td>NAS-EPS E-RABSetup (5)</td>\n",
       "      <td>D:\\Temp\\s1ap_volte.pcapng</td>\n",
       "      <td>0</td>\n",
       "    </tr>\n",
       "    <tr>\n",
       "      <th>46</th>\n",
       "      <td>127.0.0.100</td>\n",
       "      <td>127.0.0.101</td>\n",
       "      <td>42104</td>\n",
       "      <td>36412</td>\n",
       "      <td>sctp</td>\n",
       "      <td>112</td>\n",
       "      <td>S1AP</td>\n",
       "      <td>S1AP-PDU: 000d403d0000050000000200060008000200...</td>\n",
       "      <td>1.639402e+09</td>\n",
       "      <td>664.511580</td>\n",
       "      <td>2021-12-13 13:20:48.490825653</td>\n",
       "      <td>S1AP uplinkNASTransport (13)</td>\n",
       "      <td>NAS-EPS uplinkNASTransport (13)</td>\n",
       "      <td>D:\\Temp\\s1ap_volte.pcapng</td>\n",
       "      <td>0</td>\n",
       "    </tr>\n",
       "    <tr>\n",
       "      <th>47</th>\n",
       "      <td>127.0.0.101</td>\n",
       "      <td>127.0.0.100</td>\n",
       "      <td>36412</td>\n",
       "      <td>42104</td>\n",
       "      <td>sctp</td>\n",
       "      <td>113</td>\n",
       "      <td>S1AP</td>\n",
       "      <td>S1AP-PDU: 000b40170000030000000200060008000200...</td>\n",
       "      <td>1.639402e+09</td>\n",
       "      <td>664.512007</td>\n",
       "      <td>2021-12-13 13:20:48.491251945</td>\n",
       "      <td>S1AP downlinkNASTransport (11)</td>\n",
       "      <td>NAS-EPS downlinkNASTransport (11)</td>\n",
       "      <td>D:\\Temp\\s1ap_volte.pcapng</td>\n",
       "      <td>0</td>\n",
       "    </tr>\n",
       "  </tbody>\n",
       "</table>\n",
       "</div>"
      ],
      "text/plain": [
       "         ip_src       ip_dst port_src port_dst transport_protocol  \\\n",
       "0   127.0.0.100  127.0.0.101    42104    36412               sctp   \n",
       "1   127.0.0.101  127.0.0.100    36412    42104               sctp   \n",
       "2   127.0.0.100  127.0.0.101    42104    36412               sctp   \n",
       "3   127.0.0.101  127.0.0.100    36412    42104               sctp   \n",
       "4   127.0.0.100  127.0.0.101    42104    36412               sctp   \n",
       "5   127.0.0.101  127.0.0.100    36412    42104               sctp   \n",
       "6   127.0.0.100  127.0.0.101    42104    36412               sctp   \n",
       "7   127.0.0.101  127.0.0.100    36412    42104               sctp   \n",
       "8   127.0.0.100  127.0.0.101    42104    36412               sctp   \n",
       "9   127.0.0.101  127.0.0.100    36412    42104               sctp   \n",
       "10  127.0.0.101  127.0.0.100    36412    42104               sctp   \n",
       "11  127.0.0.100  127.0.0.101    42104    36412               sctp   \n",
       "12  127.0.0.101  127.0.0.100    36412    42104               sctp   \n",
       "13  127.0.0.101  127.0.0.100    36412    42104               sctp   \n",
       "14  127.0.0.100  127.0.0.101    42104    36412               sctp   \n",
       "15  127.0.0.101  127.0.0.100    36412    42104               sctp   \n",
       "16  127.0.0.101  127.0.0.100    36412    42104               sctp   \n",
       "17  127.0.0.100  127.0.0.101    42104    36412               sctp   \n",
       "18  127.0.0.100  127.0.0.101    42104    36412               sctp   \n",
       "19  127.0.0.100  127.0.0.101    42104    36412               sctp   \n",
       "20  127.0.0.101  127.0.0.100    36412    42104               sctp   \n",
       "21  127.0.0.101  127.0.0.100    36412    42104               sctp   \n",
       "22  127.0.0.100  127.0.0.101    42104    36412               sctp   \n",
       "23  127.0.0.101  127.0.0.100    36412    42104               sctp   \n",
       "24  127.0.0.101  127.0.0.100    36412    42104               sctp   \n",
       "25  127.0.0.100  127.0.0.101    42104    36412               sctp   \n",
       "26  127.0.0.100  127.0.0.101    42104    36412               sctp   \n",
       "27  127.0.0.100  127.0.0.101    42104    36412               sctp   \n",
       "28  127.0.0.100  127.0.0.101    42104    36412               sctp   \n",
       "29  127.0.0.101  127.0.0.100    36412    42104               sctp   \n",
       "30  127.0.0.100  127.0.0.101    42104    36412               sctp   \n",
       "31  127.0.0.101  127.0.0.100    36412    42104               sctp   \n",
       "32  127.0.0.101  127.0.0.100    36412    42104               sctp   \n",
       "33  127.0.0.100  127.0.0.101    42104    36412               sctp   \n",
       "34  127.0.0.101  127.0.0.100    36412    42104               sctp   \n",
       "35  127.0.0.101  127.0.0.100    36412    42104               sctp   \n",
       "36  127.0.0.100  127.0.0.101    42104    36412               sctp   \n",
       "37  127.0.0.101  127.0.0.100    36412    42104               sctp   \n",
       "38  127.0.0.101  127.0.0.100    36412    42104               sctp   \n",
       "39  127.0.0.100  127.0.0.101    42104    36412               sctp   \n",
       "40  127.0.0.101  127.0.0.100    36412    42104               sctp   \n",
       "41  127.0.0.101  127.0.0.100    36412    42104               sctp   \n",
       "42  127.0.0.100  127.0.0.101    42104    36412               sctp   \n",
       "43  127.0.0.100  127.0.0.101    42104    36412               sctp   \n",
       "44  127.0.0.101  127.0.0.100    36412    42104               sctp   \n",
       "45  127.0.0.101  127.0.0.100    36412    42104               sctp   \n",
       "46  127.0.0.100  127.0.0.101    42104    36412               sctp   \n",
       "47  127.0.0.101  127.0.0.100    36412    42104               sctp   \n",
       "\n",
       "   frame_number protocol                                    msg_description  \\\n",
       "0             1     S1AP  S1AP-PDU: 000c408091000005000800020002001a0069...   \n",
       "1             2     S1AP  S1AP-PDU: 000b40380000030000000200020008000200...   \n",
       "2             3     S1AP  S1AP-PDU: 000d40350000050000000200020008000200...   \n",
       "3             4     S1AP  S1AP-PDU: 000b402f0000030000000200020008000200...   \n",
       "4             5     S1AP  S1AP-PDU: 000d403d0000050000000200020008000200...   \n",
       "5             6     S1AP  S1AP-PDU: 000b401d0000030000000200020008000200...   \n",
       "6             7     S1AP  S1AP-PDU: 000d403e0000050000000200020008000200...   \n",
       "7             8     S1AP  S1AP-PDU: 00090080d500000700000002000200080002...   \n",
       "8            10     S1AP  S1AP-PDU: 200900220000030000400200020008400200...   \n",
       "9            11     S1AP  S1AP-PDU: 000b403a0000030000000200020008000200...   \n",
       "10           12     S1AP  S1AP-PDU: 000500809a00000300000002000200080002...   \n",
       "11           14     S1AP  S1AP-PDU: 000d40330000050000000200020008000200...   \n",
       "12           15     S1AP  S1AP-PDU: 00050080c000000300000002000100080002...   \n",
       "13           17     S1AP  S1AP-PDU: 00050080c000000300000002000200080002...   \n",
       "14           19     S1AP  S1AP-PDU: 000d40330000050000000200020008000200...   \n",
       "15           20     S1AP  S1AP-PDU: 000700290000040000000200020008000200...   \n",
       "16           22     S1AP  S1AP-PDU: 000700290000040000000200010008000200...   \n",
       "17           24     S1AP  S1AP-PDU: 000d40330000050000000200020008000200...   \n",
       "18           31     S1AP  S1AP-PDU: 000c4037000006000800020003001a000504...   \n",
       "19           38     S1AP  S1AP-PDU: 000c4037000006000800020004001a000504...   \n",
       "20           42     S1AP  S1AP-PDU: 00050080c000000300000002000100080002...   \n",
       "21           44     S1AP  S1AP-PDU: 00050080c000000300000002000400080002...   \n",
       "22           46     S1AP  S1AP-PDU: 000d40330000050000000200040008000200...   \n",
       "23           47     S1AP  S1AP-PDU: 000700290000040000000200040008000200...   \n",
       "24           49     S1AP  S1AP-PDU: 000700290000040000000200010008000200...   \n",
       "25           51     S1AP  S1AP-PDU: 000d40330000050000000200040008000200...   \n",
       "26           55     S1AP  S1AP-PDU: 000c4037000006000800020005001a000504...   \n",
       "27           65     S1AP  S1AP-PDU: 000c4037000006000800020006001a000504...   \n",
       "28           70     S1AP  S1AP-PDU: 000d403d0000050000000200060008000200...   \n",
       "29           71     S1AP  S1AP-PDU: 000b40170000030000000200060008000200...   \n",
       "30           72     S1AP  S1AP-PDU: 000c4037000006000800020007001a000504...   \n",
       "31           76     S1AP  S1AP-PDU: 00050080c000000300000002000600080002...   \n",
       "32           78     S1AP  S1AP-PDU: 00050080c000000300000002000700080002...   \n",
       "33           80     S1AP  S1AP-PDU: 000d40330000050000000200070008000200...   \n",
       "34           81     S1AP  S1AP-PDU: 000700290000040000000200070008000200...   \n",
       "35           83     S1AP  S1AP-PDU: 000700290000040000000200060008000200...   \n",
       "36           85     S1AP  S1AP-PDU: 000d40330000050000000200060008000200...   \n",
       "37           86     S1AP  S1AP-PDU: 00050080c000000300000002000700080002...   \n",
       "38           88     S1AP  S1AP-PDU: 00050080c000000300000002000600080002...   \n",
       "39           90     S1AP  S1AP-PDU: 000d40330000050000000200070008000200...   \n",
       "40           91     S1AP  S1AP-PDU: 000700290000040000000200060008000200...   \n",
       "41           93     S1AP  S1AP-PDU: 000700290000040000000200070008000200...   \n",
       "42           95     S1AP  S1AP-PDU: 000d40330000050000000200070008000200...   \n",
       "43          102     S1AP  S1AP-PDU: 000c4037000006000800020008001a000504...   \n",
       "44          106     S1AP  S1AP-PDU: 00050080c000000300000002000800080002...   \n",
       "45          109     S1AP  S1AP-PDU: 00050080c000000300000002000600080002...   \n",
       "46          112     S1AP  S1AP-PDU: 000d403d0000050000000200060008000200...   \n",
       "47          113     S1AP  S1AP-PDU: 000b40170000030000000200060008000200...   \n",
       "\n",
       "       timestamp  timestamp_offset                      datetime  \\\n",
       "0   1.639401e+09          0.000000 2021-12-13 13:09:43.979245186   \n",
       "1   1.639401e+09          0.001688 2021-12-13 13:09:43.980933189   \n",
       "2   1.639401e+09          0.359906 2021-12-13 13:09:44.339151144   \n",
       "3   1.639401e+09          0.360299 2021-12-13 13:09:44.339544535   \n",
       "4   1.639401e+09          0.379930 2021-12-13 13:09:44.359175205   \n",
       "5   1.639401e+09          0.381722 2021-12-13 13:09:44.360966921   \n",
       "6   1.639401e+09          0.400008 2021-12-13 13:09:44.379253387   \n",
       "7   1.639401e+09          0.402546 2021-12-13 13:09:44.381791353   \n",
       "8   1.639401e+09          0.650056 2021-12-13 13:09:44.629301071   \n",
       "9   1.639401e+09          0.650767 2021-12-13 13:09:44.630011797   \n",
       "10  1.639401e+09          0.653231 2021-12-13 13:09:44.632475853   \n",
       "11  1.639401e+09          0.854059 2021-12-13 13:09:44.833304167   \n",
       "12  1.639401e+09         18.615489 2021-12-13 13:10:02.594734192   \n",
       "13  1.639401e+09         18.618154 2021-12-13 13:10:02.597399473   \n",
       "14  1.639401e+09         18.822076 2021-12-13 13:10:02.801321030   \n",
       "15  1.639401e+09         24.548039 2021-12-13 13:10:08.527284622   \n",
       "16  1.639401e+09         24.548319 2021-12-13 13:10:08.527564049   \n",
       "17  1.639401e+09         24.750067 2021-12-13 13:10:08.729311943   \n",
       "18  1.639401e+09        187.899821 2021-12-13 13:12:51.879065990   \n",
       "19  1.639401e+09        229.699735 2021-12-13 13:13:33.678980112   \n",
       "20  1.639401e+09        239.236338 2021-12-13 13:13:43.215583324   \n",
       "21  1.639401e+09        239.239057 2021-12-13 13:13:43.218302011   \n",
       "22  1.639401e+09        239.442069 2021-12-13 13:13:43.421314478   \n",
       "23  1.639401e+09        243.745539 2021-12-13 13:13:47.724784613   \n",
       "24  1.639401e+09        243.745816 2021-12-13 13:13:47.725061178   \n",
       "25  1.639401e+09        243.946070 2021-12-13 13:13:47.925315142   \n",
       "26  1.639401e+09        334.979830 2021-12-13 13:15:18.959075212   \n",
       "27  1.639401e+09        427.439859 2021-12-13 13:16:51.419104099   \n",
       "28  1.639401e+09        430.956640 2021-12-13 13:16:54.935885668   \n",
       "29  1.639401e+09        430.957062 2021-12-13 13:16:54.936307669   \n",
       "30  1.639401e+09        466.681816 2021-12-13 13:17:30.661061287   \n",
       "31  1.639401e+09        475.210914 2021-12-13 13:17:39.190158844   \n",
       "32  1.639401e+09        475.213329 2021-12-13 13:17:39.192574024   \n",
       "33  1.639401e+09        475.414067 2021-12-13 13:17:39.393311739   \n",
       "34  1.639401e+09        494.095976 2021-12-13 13:17:58.075221300   \n",
       "35  1.639401e+09        494.096284 2021-12-13 13:17:58.075529575   \n",
       "36  1.639401e+09        494.298077 2021-12-13 13:17:58.277322531   \n",
       "37  1.639402e+09        522.609849 2021-12-13 13:18:26.589094639   \n",
       "38  1.639402e+09        522.612429 2021-12-13 13:18:26.591674328   \n",
       "39  1.639402e+09        522.814065 2021-12-13 13:18:26.793310165   \n",
       "40  1.639402e+09        532.177487 2021-12-13 13:18:36.156732559   \n",
       "41  1.639402e+09        532.177771 2021-12-13 13:18:36.157016277   \n",
       "42  1.639402e+09        532.378064 2021-12-13 13:18:36.357309103   \n",
       "43  1.639402e+09        629.181779 2021-12-13 13:20:13.161024570   \n",
       "44  1.639402e+09        656.301519 2021-12-13 13:20:40.280764341   \n",
       "45  1.639402e+09        656.304209 2021-12-13 13:20:40.283453703   \n",
       "46  1.639402e+09        664.511580 2021-12-13 13:20:48.490825653   \n",
       "47  1.639402e+09        664.512007 2021-12-13 13:20:48.491251945   \n",
       "\n",
       "                                          summary_raw  \\\n",
       "0                          S1AP initialUEMessage (12)   \n",
       "1                      S1AP downlinkNASTransport (11)   \n",
       "2                        S1AP uplinkNASTransport (13)   \n",
       "3                      S1AP downlinkNASTransport (11)   \n",
       "4                        S1AP uplinkNASTransport (13)   \n",
       "5                      S1AP downlinkNASTransport (11)   \n",
       "6                        S1AP uplinkNASTransport (13)   \n",
       "7                        S1AP InitialContextSetup (9)   \n",
       "8   S1AP InitialContextSetup (9),\\nS1AP uplinkNAST...   \n",
       "9                      S1AP downlinkNASTransport (11)   \n",
       "10                                S1AP E-RABSetup (5)   \n",
       "11                       S1AP uplinkNASTransport (13)   \n",
       "12                                S1AP E-RABSetup (5)   \n",
       "13                                S1AP E-RABSetup (5)   \n",
       "14                       S1AP uplinkNASTransport (13)   \n",
       "15                              S1AP E-RABRelease (7)   \n",
       "16                              S1AP E-RABRelease (7)   \n",
       "17                       S1AP uplinkNASTransport (13)   \n",
       "18                         S1AP initialUEMessage (12)   \n",
       "19                         S1AP initialUEMessage (12)   \n",
       "20                                S1AP E-RABSetup (5)   \n",
       "21                                S1AP E-RABSetup (5)   \n",
       "22                       S1AP uplinkNASTransport (13)   \n",
       "23                              S1AP E-RABRelease (7)   \n",
       "24                              S1AP E-RABRelease (7)   \n",
       "25                       S1AP uplinkNASTransport (13)   \n",
       "26                         S1AP initialUEMessage (12)   \n",
       "27                         S1AP initialUEMessage (12)   \n",
       "28                       S1AP uplinkNASTransport (13)   \n",
       "29                     S1AP downlinkNASTransport (11)   \n",
       "30                         S1AP initialUEMessage (12)   \n",
       "31                                S1AP E-RABSetup (5)   \n",
       "32                                S1AP E-RABSetup (5)   \n",
       "33                       S1AP uplinkNASTransport (13)   \n",
       "34                              S1AP E-RABRelease (7)   \n",
       "35                              S1AP E-RABRelease (7)   \n",
       "36                       S1AP uplinkNASTransport (13)   \n",
       "37                                S1AP E-RABSetup (5)   \n",
       "38                                S1AP E-RABSetup (5)   \n",
       "39                       S1AP uplinkNASTransport (13)   \n",
       "40                              S1AP E-RABRelease (7)   \n",
       "41                              S1AP E-RABRelease (7)   \n",
       "42                       S1AP uplinkNASTransport (13)   \n",
       "43                         S1AP initialUEMessage (12)   \n",
       "44                                S1AP E-RABSetup (5)   \n",
       "45                                S1AP E-RABSetup (5)   \n",
       "46                       S1AP uplinkNASTransport (13)   \n",
       "47                     S1AP downlinkNASTransport (11)   \n",
       "\n",
       "                              summary                       file  file_idx  \n",
       "0       NAS-EPS initialUEMessage (12)  D:\\Temp\\s1ap_volte.pcapng         0  \n",
       "1   NAS-EPS downlinkNASTransport (11)  D:\\Temp\\s1ap_volte.pcapng         0  \n",
       "2     NAS-EPS uplinkNASTransport (13)  D:\\Temp\\s1ap_volte.pcapng         0  \n",
       "3   NAS-EPS downlinkNASTransport (11)  D:\\Temp\\s1ap_volte.pcapng         0  \n",
       "4     NAS-EPS uplinkNASTransport (13)  D:\\Temp\\s1ap_volte.pcapng         0  \n",
       "5   NAS-EPS downlinkNASTransport (11)  D:\\Temp\\s1ap_volte.pcapng         0  \n",
       "6     NAS-EPS uplinkNASTransport (13)  D:\\Temp\\s1ap_volte.pcapng         0  \n",
       "7     NAS-EPS InitialContextSetup (9)  D:\\Temp\\s1ap_volte.pcapng         0  \n",
       "8     NAS-EPS uplinkNASTransport (13)  D:\\Temp\\s1ap_volte.pcapng         0  \n",
       "9   NAS-EPS downlinkNASTransport (11)  D:\\Temp\\s1ap_volte.pcapng         0  \n",
       "10             NAS-EPS E-RABSetup (5)  D:\\Temp\\s1ap_volte.pcapng         0  \n",
       "11    NAS-EPS uplinkNASTransport (13)  D:\\Temp\\s1ap_volte.pcapng         0  \n",
       "12             NAS-EPS E-RABSetup (5)  D:\\Temp\\s1ap_volte.pcapng         0  \n",
       "13             NAS-EPS E-RABSetup (5)  D:\\Temp\\s1ap_volte.pcapng         0  \n",
       "14    NAS-EPS uplinkNASTransport (13)  D:\\Temp\\s1ap_volte.pcapng         0  \n",
       "15           NAS-EPS E-RABRelease (7)  D:\\Temp\\s1ap_volte.pcapng         0  \n",
       "16           NAS-EPS E-RABRelease (7)  D:\\Temp\\s1ap_volte.pcapng         0  \n",
       "17    NAS-EPS uplinkNASTransport (13)  D:\\Temp\\s1ap_volte.pcapng         0  \n",
       "18      NAS-EPS initialUEMessage (12)  D:\\Temp\\s1ap_volte.pcapng         0  \n",
       "19      NAS-EPS initialUEMessage (12)  D:\\Temp\\s1ap_volte.pcapng         0  \n",
       "20             NAS-EPS E-RABSetup (5)  D:\\Temp\\s1ap_volte.pcapng         0  \n",
       "21             NAS-EPS E-RABSetup (5)  D:\\Temp\\s1ap_volte.pcapng         0  \n",
       "22    NAS-EPS uplinkNASTransport (13)  D:\\Temp\\s1ap_volte.pcapng         0  \n",
       "23           NAS-EPS E-RABRelease (7)  D:\\Temp\\s1ap_volte.pcapng         0  \n",
       "24           NAS-EPS E-RABRelease (7)  D:\\Temp\\s1ap_volte.pcapng         0  \n",
       "25    NAS-EPS uplinkNASTransport (13)  D:\\Temp\\s1ap_volte.pcapng         0  \n",
       "26      NAS-EPS initialUEMessage (12)  D:\\Temp\\s1ap_volte.pcapng         0  \n",
       "27      NAS-EPS initialUEMessage (12)  D:\\Temp\\s1ap_volte.pcapng         0  \n",
       "28    NAS-EPS uplinkNASTransport (13)  D:\\Temp\\s1ap_volte.pcapng         0  \n",
       "29  NAS-EPS downlinkNASTransport (11)  D:\\Temp\\s1ap_volte.pcapng         0  \n",
       "30      NAS-EPS initialUEMessage (12)  D:\\Temp\\s1ap_volte.pcapng         0  \n",
       "31             NAS-EPS E-RABSetup (5)  D:\\Temp\\s1ap_volte.pcapng         0  \n",
       "32             NAS-EPS E-RABSetup (5)  D:\\Temp\\s1ap_volte.pcapng         0  \n",
       "33    NAS-EPS uplinkNASTransport (13)  D:\\Temp\\s1ap_volte.pcapng         0  \n",
       "34           NAS-EPS E-RABRelease (7)  D:\\Temp\\s1ap_volte.pcapng         0  \n",
       "35           NAS-EPS E-RABRelease (7)  D:\\Temp\\s1ap_volte.pcapng         0  \n",
       "36    NAS-EPS uplinkNASTransport (13)  D:\\Temp\\s1ap_volte.pcapng         0  \n",
       "37             NAS-EPS E-RABSetup (5)  D:\\Temp\\s1ap_volte.pcapng         0  \n",
       "38             NAS-EPS E-RABSetup (5)  D:\\Temp\\s1ap_volte.pcapng         0  \n",
       "39    NAS-EPS uplinkNASTransport (13)  D:\\Temp\\s1ap_volte.pcapng         0  \n",
       "40           NAS-EPS E-RABRelease (7)  D:\\Temp\\s1ap_volte.pcapng         0  \n",
       "41           NAS-EPS E-RABRelease (7)  D:\\Temp\\s1ap_volte.pcapng         0  \n",
       "42    NAS-EPS uplinkNASTransport (13)  D:\\Temp\\s1ap_volte.pcapng         0  \n",
       "43      NAS-EPS initialUEMessage (12)  D:\\Temp\\s1ap_volte.pcapng         0  \n",
       "44             NAS-EPS E-RABSetup (5)  D:\\Temp\\s1ap_volte.pcapng         0  \n",
       "45             NAS-EPS E-RABSetup (5)  D:\\Temp\\s1ap_volte.pcapng         0  \n",
       "46    NAS-EPS uplinkNASTransport (13)  D:\\Temp\\s1ap_volte.pcapng         0  \n",
       "47  NAS-EPS downlinkNASTransport (11)  D:\\Temp\\s1ap_volte.pcapng         0  "
      ]
     },
     "metadata": {},
     "output_type": "display_data"
    }
   ],
   "source": [
    "if isinstance(wireshark_trace, list):\n",
    "    output_name_files = wireshark_trace[0]\n",
    "else:\n",
    "    output_name_files = wireshark_trace\n",
    "output_name_files = '.'.join(output_name_files.split('.')[0:-1])\n",
    "\n",
    "http2_ports= \"29502,29503,29504,29507,29509,29518,\"\n",
    "# DEBUG loggig level for big traces so that you can see if processing is stuck or not\n",
    "packets_df = import_pcap_as_dataframe(\n",
    "    wireshark_trace, \n",
    "    http2_ports = http2_ports+\"32445,5002,5000,32665,80,32077,5006,8080,3000,8081,29502,37904\",\n",
    "    wireshark_version = 'OS',\n",
    "    platform = platform.system(),\n",
    "    logging_level=logging.INFO,\n",
    "    remove_pdml=True)\n",
    "display(packets_df)"
   ]
  },
  {
   "cell_type": "code",
   "execution_count": 4,
   "metadata": {},
   "outputs": [
    {
     "data": {
      "text/plain": [
       "'Average procedure length (ms)'"
      ]
     },
     "metadata": {},
     "output_type": "display_data"
    },
    {
     "data": {
      "text/html": [
       "<div>\n",
       "<style scoped>\n",
       "    .dataframe tbody tr th:only-of-type {\n",
       "        vertical-align: middle;\n",
       "    }\n",
       "\n",
       "    .dataframe tbody tr th {\n",
       "        vertical-align: top;\n",
       "    }\n",
       "\n",
       "    .dataframe thead th {\n",
       "        text-align: right;\n",
       "    }\n",
       "</style>\n",
       "<table border=\"1\" class=\"dataframe\">\n",
       "  <thead>\n",
       "    <tr style=\"text-align: right;\">\n",
       "      <th></th>\n",
       "      <th>mean_procedure_time_ms</th>\n",
       "      <th>min_procedure_time_ms</th>\n",
       "      <th>max_procedure_time_ms</th>\n",
       "      <th>count</th>\n",
       "    </tr>\n",
       "    <tr>\n",
       "      <th>name</th>\n",
       "      <th></th>\n",
       "      <th></th>\n",
       "      <th></th>\n",
       "      <th></th>\n",
       "    </tr>\n",
       "  </thead>\n",
       "  <tbody>\n",
       "  </tbody>\n",
       "</table>\n",
       "</div>"
      ],
      "text/plain": [
       "Empty DataFrame\n",
       "Columns: [mean_procedure_time_ms, min_procedure_time_ms, max_procedure_time_ms, count]\n",
       "Index: []"
      ]
     },
     "metadata": {},
     "output_type": "display_data"
    }
   ],
   "source": [
    "procedure_df, procedure_frames_df = trace_plotting.calculate_procedure_length(packets_df)\n",
    "#pd.set_option('display.max_rows', 10)\n",
    "#display(procedure_df)\n",
    "\n",
    "display('Average procedure length (ms)')\n",
    "mean_values = procedure_df.groupby('name')['length_ms'].mean()\n",
    "min_values = procedure_df.groupby('name')['length_ms'].min()\n",
    "max_values = procedure_df.groupby('name')['length_ms'].max()\n",
    "count_values = procedure_df.groupby('name')['length_ms'].count()\n",
    "summary_values = mean_values.reset_index()\n",
    "summary_values = summary_values.rename(columns={'length_ms':'mean_procedure_time_ms'})\n",
    "summary_values['min_procedure_time_ms'] = min_values.reset_index()['length_ms']\n",
    "summary_values['max_procedure_time_ms'] = max_values.reset_index()['length_ms']\n",
    "summary_values['count'] = count_values.reset_index()['length_ms']\n",
    "summary_values = summary_values.set_index('name')\n",
    "display(summary_values)\n",
    "with open(output_name_files + '_summary.txt', 'w') as f:\n",
    "    f.write(summary_values.to_string())\n",
    "#display(procedure_df)\n",
    "#display(procedure_frames_df)"
   ]
  },
  {
   "cell_type": "code",
   "execution_count": 5,
   "metadata": {},
   "outputs": [
    {
     "data": {
      "text/html": [
       "<div>\n",
       "<style scoped>\n",
       "    .dataframe tbody tr th:only-of-type {\n",
       "        vertical-align: middle;\n",
       "    }\n",
       "\n",
       "    .dataframe tbody tr th {\n",
       "        vertical-align: top;\n",
       "    }\n",
       "\n",
       "    .dataframe thead th {\n",
       "        text-align: right;\n",
       "    }\n",
       "</style>\n",
       "<table border=\"1\" class=\"dataframe\">\n",
       "  <thead>\n",
       "    <tr style=\"text-align: right;\">\n",
       "      <th></th>\n",
       "      <th>name</th>\n",
       "      <th>RAN_UE_NGAP_ID</th>\n",
       "      <th>length_ms</th>\n",
       "      <th>start_frame</th>\n",
       "      <th>end_frame</th>\n",
       "      <th>start_timestamp</th>\n",
       "      <th>end_timestamp</th>\n",
       "      <th>start_datetime</th>\n",
       "      <th>end_datetime</th>\n",
       "    </tr>\n",
       "  </thead>\n",
       "  <tbody>\n",
       "  </tbody>\n",
       "</table>\n",
       "</div>"
      ],
      "text/plain": [
       "Empty DataFrame\n",
       "Columns: [name, RAN_UE_NGAP_ID, length_ms, start_frame, end_frame, start_timestamp, end_timestamp, start_datetime, end_datetime]\n",
       "Index: []"
      ]
     },
     "execution_count": 5,
     "metadata": {},
     "output_type": "execute_result"
    }
   ],
   "source": [
    "procedure_df"
   ]
  },
  {
   "cell_type": "code",
   "execution_count": 6,
   "metadata": {},
   "outputs": [
    {
     "data": {
      "text/html": [
       "<div>\n",
       "<style scoped>\n",
       "    .dataframe tbody tr th:only-of-type {\n",
       "        vertical-align: middle;\n",
       "    }\n",
       "\n",
       "    .dataframe tbody tr th {\n",
       "        vertical-align: top;\n",
       "    }\n",
       "\n",
       "    .dataframe thead th {\n",
       "        text-align: right;\n",
       "    }\n",
       "</style>\n",
       "<table border=\"1\" class=\"dataframe\">\n",
       "  <thead>\n",
       "    <tr style=\"text-align: right;\">\n",
       "      <th></th>\n",
       "      <th>ip_src</th>\n",
       "      <th>ip_dst</th>\n",
       "      <th>port_src</th>\n",
       "      <th>port_dst</th>\n",
       "      <th>transport_protocol</th>\n",
       "      <th>frame_number</th>\n",
       "      <th>protocol</th>\n",
       "      <th>msg_description</th>\n",
       "      <th>timestamp</th>\n",
       "      <th>timestamp_offset</th>\n",
       "      <th>datetime</th>\n",
       "      <th>summary_raw</th>\n",
       "      <th>summary</th>\n",
       "      <th>file</th>\n",
       "      <th>file_idx</th>\n",
       "      <th>AMF-UE-NGAP-ID</th>\n",
       "      <th>RAN-UE-NGAP-ID</th>\n",
       "      <th>HTTP_STREAM</th>\n",
       "      <th>HTTP_PROCEDURE</th>\n",
       "      <th>HTTP_TYPE</th>\n",
       "    </tr>\n",
       "  </thead>\n",
       "  <tbody>\n",
       "  </tbody>\n",
       "</table>\n",
       "</div>"
      ],
      "text/plain": [
       "Empty DataFrame\n",
       "Columns: [ip_src, ip_dst, port_src, port_dst, transport_protocol, frame_number, protocol, msg_description, timestamp, timestamp_offset, datetime, summary_raw, summary, file, file_idx, AMF-UE-NGAP-ID, RAN-UE-NGAP-ID, HTTP_STREAM, HTTP_PROCEDURE, HTTP_TYPE]\n",
       "Index: []"
      ]
     },
     "execution_count": 6,
     "metadata": {},
     "output_type": "execute_result"
    }
   ],
   "source": [
    "procedure_frames_df"
   ]
  },
  {
   "cell_type": "code",
   "execution_count": 7,
   "metadata": {},
   "outputs": [
    {
     "data": {
      "application/vnd.plotly.v1+json": {
       "config": {
        "plotlyServerURL": "https://plot.ly"
       },
       "data": [],
       "layout": {
        "bargap": 0,
        "barmode": "overlay",
        "template": {
         "data": {
          "bar": [
           {
            "error_x": {
             "color": "#2a3f5f"
            },
            "error_y": {
             "color": "#2a3f5f"
            },
            "marker": {
             "line": {
              "color": "#E5ECF6",
              "width": 0.5
             },
             "pattern": {
              "fillmode": "overlay",
              "size": 10,
              "solidity": 0.2
             }
            },
            "type": "bar"
           }
          ],
          "barpolar": [
           {
            "marker": {
             "line": {
              "color": "#E5ECF6",
              "width": 0.5
             },
             "pattern": {
              "fillmode": "overlay",
              "size": 10,
              "solidity": 0.2
             }
            },
            "type": "barpolar"
           }
          ],
          "carpet": [
           {
            "aaxis": {
             "endlinecolor": "#2a3f5f",
             "gridcolor": "white",
             "linecolor": "white",
             "minorgridcolor": "white",
             "startlinecolor": "#2a3f5f"
            },
            "baxis": {
             "endlinecolor": "#2a3f5f",
             "gridcolor": "white",
             "linecolor": "white",
             "minorgridcolor": "white",
             "startlinecolor": "#2a3f5f"
            },
            "type": "carpet"
           }
          ],
          "choropleth": [
           {
            "colorbar": {
             "outlinewidth": 0,
             "ticks": ""
            },
            "type": "choropleth"
           }
          ],
          "contour": [
           {
            "colorbar": {
             "outlinewidth": 0,
             "ticks": ""
            },
            "colorscale": [
             [
              0,
              "#0d0887"
             ],
             [
              0.1111111111111111,
              "#46039f"
             ],
             [
              0.2222222222222222,
              "#7201a8"
             ],
             [
              0.3333333333333333,
              "#9c179e"
             ],
             [
              0.4444444444444444,
              "#bd3786"
             ],
             [
              0.5555555555555556,
              "#d8576b"
             ],
             [
              0.6666666666666666,
              "#ed7953"
             ],
             [
              0.7777777777777778,
              "#fb9f3a"
             ],
             [
              0.8888888888888888,
              "#fdca26"
             ],
             [
              1,
              "#f0f921"
             ]
            ],
            "type": "contour"
           }
          ],
          "contourcarpet": [
           {
            "colorbar": {
             "outlinewidth": 0,
             "ticks": ""
            },
            "type": "contourcarpet"
           }
          ],
          "heatmap": [
           {
            "colorbar": {
             "outlinewidth": 0,
             "ticks": ""
            },
            "colorscale": [
             [
              0,
              "#0d0887"
             ],
             [
              0.1111111111111111,
              "#46039f"
             ],
             [
              0.2222222222222222,
              "#7201a8"
             ],
             [
              0.3333333333333333,
              "#9c179e"
             ],
             [
              0.4444444444444444,
              "#bd3786"
             ],
             [
              0.5555555555555556,
              "#d8576b"
             ],
             [
              0.6666666666666666,
              "#ed7953"
             ],
             [
              0.7777777777777778,
              "#fb9f3a"
             ],
             [
              0.8888888888888888,
              "#fdca26"
             ],
             [
              1,
              "#f0f921"
             ]
            ],
            "type": "heatmap"
           }
          ],
          "histogram": [
           {
            "marker": {
             "pattern": {
              "fillmode": "overlay",
              "size": 10,
              "solidity": 0.2
             }
            },
            "type": "histogram"
           }
          ],
          "histogram2d": [
           {
            "colorbar": {
             "outlinewidth": 0,
             "ticks": ""
            },
            "colorscale": [
             [
              0,
              "#0d0887"
             ],
             [
              0.1111111111111111,
              "#46039f"
             ],
             [
              0.2222222222222222,
              "#7201a8"
             ],
             [
              0.3333333333333333,
              "#9c179e"
             ],
             [
              0.4444444444444444,
              "#bd3786"
             ],
             [
              0.5555555555555556,
              "#d8576b"
             ],
             [
              0.6666666666666666,
              "#ed7953"
             ],
             [
              0.7777777777777778,
              "#fb9f3a"
             ],
             [
              0.8888888888888888,
              "#fdca26"
             ],
             [
              1,
              "#f0f921"
             ]
            ],
            "type": "histogram2d"
           }
          ],
          "histogram2dcontour": [
           {
            "colorbar": {
             "outlinewidth": 0,
             "ticks": ""
            },
            "colorscale": [
             [
              0,
              "#0d0887"
             ],
             [
              0.1111111111111111,
              "#46039f"
             ],
             [
              0.2222222222222222,
              "#7201a8"
             ],
             [
              0.3333333333333333,
              "#9c179e"
             ],
             [
              0.4444444444444444,
              "#bd3786"
             ],
             [
              0.5555555555555556,
              "#d8576b"
             ],
             [
              0.6666666666666666,
              "#ed7953"
             ],
             [
              0.7777777777777778,
              "#fb9f3a"
             ],
             [
              0.8888888888888888,
              "#fdca26"
             ],
             [
              1,
              "#f0f921"
             ]
            ],
            "type": "histogram2dcontour"
           }
          ],
          "mesh3d": [
           {
            "colorbar": {
             "outlinewidth": 0,
             "ticks": ""
            },
            "type": "mesh3d"
           }
          ],
          "parcoords": [
           {
            "line": {
             "colorbar": {
              "outlinewidth": 0,
              "ticks": ""
             }
            },
            "type": "parcoords"
           }
          ],
          "pie": [
           {
            "automargin": true,
            "type": "pie"
           }
          ],
          "scatter": [
           {
            "fillpattern": {
             "fillmode": "overlay",
             "size": 10,
             "solidity": 0.2
            },
            "type": "scatter"
           }
          ],
          "scatter3d": [
           {
            "line": {
             "colorbar": {
              "outlinewidth": 0,
              "ticks": ""
             }
            },
            "marker": {
             "colorbar": {
              "outlinewidth": 0,
              "ticks": ""
             }
            },
            "type": "scatter3d"
           }
          ],
          "scattercarpet": [
           {
            "marker": {
             "colorbar": {
              "outlinewidth": 0,
              "ticks": ""
             }
            },
            "type": "scattercarpet"
           }
          ],
          "scattergeo": [
           {
            "marker": {
             "colorbar": {
              "outlinewidth": 0,
              "ticks": ""
             }
            },
            "type": "scattergeo"
           }
          ],
          "scattergl": [
           {
            "marker": {
             "colorbar": {
              "outlinewidth": 0,
              "ticks": ""
             }
            },
            "type": "scattergl"
           }
          ],
          "scattermap": [
           {
            "marker": {
             "colorbar": {
              "outlinewidth": 0,
              "ticks": ""
             }
            },
            "type": "scattermap"
           }
          ],
          "scattermapbox": [
           {
            "marker": {
             "colorbar": {
              "outlinewidth": 0,
              "ticks": ""
             }
            },
            "type": "scattermapbox"
           }
          ],
          "scatterpolar": [
           {
            "marker": {
             "colorbar": {
              "outlinewidth": 0,
              "ticks": ""
             }
            },
            "type": "scatterpolar"
           }
          ],
          "scatterpolargl": [
           {
            "marker": {
             "colorbar": {
              "outlinewidth": 0,
              "ticks": ""
             }
            },
            "type": "scatterpolargl"
           }
          ],
          "scatterternary": [
           {
            "marker": {
             "colorbar": {
              "outlinewidth": 0,
              "ticks": ""
             }
            },
            "type": "scatterternary"
           }
          ],
          "surface": [
           {
            "colorbar": {
             "outlinewidth": 0,
             "ticks": ""
            },
            "colorscale": [
             [
              0,
              "#0d0887"
             ],
             [
              0.1111111111111111,
              "#46039f"
             ],
             [
              0.2222222222222222,
              "#7201a8"
             ],
             [
              0.3333333333333333,
              "#9c179e"
             ],
             [
              0.4444444444444444,
              "#bd3786"
             ],
             [
              0.5555555555555556,
              "#d8576b"
             ],
             [
              0.6666666666666666,
              "#ed7953"
             ],
             [
              0.7777777777777778,
              "#fb9f3a"
             ],
             [
              0.8888888888888888,
              "#fdca26"
             ],
             [
              1,
              "#f0f921"
             ]
            ],
            "type": "surface"
           }
          ],
          "table": [
           {
            "cells": {
             "fill": {
              "color": "#EBF0F8"
             },
             "line": {
              "color": "white"
             }
            },
            "header": {
             "fill": {
              "color": "#C8D4E3"
             },
             "line": {
              "color": "white"
             }
            },
            "type": "table"
           }
          ]
         },
         "layout": {
          "annotationdefaults": {
           "arrowcolor": "#2a3f5f",
           "arrowhead": 0,
           "arrowwidth": 1
          },
          "autotypenumbers": "strict",
          "coloraxis": {
           "colorbar": {
            "outlinewidth": 0,
            "ticks": ""
           }
          },
          "colorscale": {
           "diverging": [
            [
             0,
             "#8e0152"
            ],
            [
             0.1,
             "#c51b7d"
            ],
            [
             0.2,
             "#de77ae"
            ],
            [
             0.3,
             "#f1b6da"
            ],
            [
             0.4,
             "#fde0ef"
            ],
            [
             0.5,
             "#f7f7f7"
            ],
            [
             0.6,
             "#e6f5d0"
            ],
            [
             0.7,
             "#b8e186"
            ],
            [
             0.8,
             "#7fbc41"
            ],
            [
             0.9,
             "#4d9221"
            ],
            [
             1,
             "#276419"
            ]
           ],
           "sequential": [
            [
             0,
             "#0d0887"
            ],
            [
             0.1111111111111111,
             "#46039f"
            ],
            [
             0.2222222222222222,
             "#7201a8"
            ],
            [
             0.3333333333333333,
             "#9c179e"
            ],
            [
             0.4444444444444444,
             "#bd3786"
            ],
            [
             0.5555555555555556,
             "#d8576b"
            ],
            [
             0.6666666666666666,
             "#ed7953"
            ],
            [
             0.7777777777777778,
             "#fb9f3a"
            ],
            [
             0.8888888888888888,
             "#fdca26"
            ],
            [
             1,
             "#f0f921"
            ]
           ],
           "sequentialminus": [
            [
             0,
             "#0d0887"
            ],
            [
             0.1111111111111111,
             "#46039f"
            ],
            [
             0.2222222222222222,
             "#7201a8"
            ],
            [
             0.3333333333333333,
             "#9c179e"
            ],
            [
             0.4444444444444444,
             "#bd3786"
            ],
            [
             0.5555555555555556,
             "#d8576b"
            ],
            [
             0.6666666666666666,
             "#ed7953"
            ],
            [
             0.7777777777777778,
             "#fb9f3a"
            ],
            [
             0.8888888888888888,
             "#fdca26"
            ],
            [
             1,
             "#f0f921"
            ]
           ]
          },
          "colorway": [
           "#636efa",
           "#EF553B",
           "#00cc96",
           "#ab63fa",
           "#FFA15A",
           "#19d3f3",
           "#FF6692",
           "#B6E880",
           "#FF97FF",
           "#FECB52"
          ],
          "font": {
           "color": "#2a3f5f"
          },
          "geo": {
           "bgcolor": "white",
           "lakecolor": "white",
           "landcolor": "#E5ECF6",
           "showlakes": true,
           "showland": true,
           "subunitcolor": "white"
          },
          "hoverlabel": {
           "align": "left"
          },
          "hovermode": "closest",
          "mapbox": {
           "style": "light"
          },
          "paper_bgcolor": "white",
          "plot_bgcolor": "#E5ECF6",
          "polar": {
           "angularaxis": {
            "gridcolor": "white",
            "linecolor": "white",
            "ticks": ""
           },
           "bgcolor": "#E5ECF6",
           "radialaxis": {
            "gridcolor": "white",
            "linecolor": "white",
            "ticks": ""
           }
          },
          "scene": {
           "xaxis": {
            "backgroundcolor": "#E5ECF6",
            "gridcolor": "white",
            "gridwidth": 2,
            "linecolor": "white",
            "showbackground": true,
            "ticks": "",
            "zerolinecolor": "white"
           },
           "yaxis": {
            "backgroundcolor": "#E5ECF6",
            "gridcolor": "white",
            "gridwidth": 2,
            "linecolor": "white",
            "showbackground": true,
            "ticks": "",
            "zerolinecolor": "white"
           },
           "zaxis": {
            "backgroundcolor": "#E5ECF6",
            "gridcolor": "white",
            "gridwidth": 2,
            "linecolor": "white",
            "showbackground": true,
            "ticks": "",
            "zerolinecolor": "white"
           }
          },
          "shapedefaults": {
           "line": {
            "color": "#2a3f5f"
           }
          },
          "ternary": {
           "aaxis": {
            "gridcolor": "white",
            "linecolor": "white",
            "ticks": ""
           },
           "baxis": {
            "gridcolor": "white",
            "linecolor": "white",
            "ticks": ""
           },
           "bgcolor": "#E5ECF6",
           "caxis": {
            "gridcolor": "white",
            "linecolor": "white",
            "ticks": ""
           }
          },
          "title": {
           "x": 0.05
          },
          "xaxis": {
           "automargin": true,
           "gridcolor": "white",
           "linecolor": "white",
           "ticks": "",
           "title": {
            "standoff": 15
           },
           "zerolinecolor": "white",
           "zerolinewidth": 2
          },
          "yaxis": {
           "automargin": true,
           "gridcolor": "white",
           "linecolor": "white",
           "ticks": "",
           "title": {
            "standoff": 15
           },
           "zerolinecolor": "white",
           "zerolinewidth": 2
          }
         }
        },
        "xaxis": {
         "title": {
          "text": "Procedure length (ms)"
         }
        },
        "yaxis": {
         "title": {
          "text": "Occurrence"
         }
        }
       }
      }
     },
     "metadata": {},
     "output_type": "display_data"
    }
   ],
   "source": [
    "import plotly.graph_objects as go\n",
    "\n",
    "bin_size = 3\n",
    "\n",
    "procedure_names = list(procedure_df['name'].unique())\n",
    "procedure_names.sort()\n",
    "histogram_traces = []\n",
    "\n",
    "for procedure_name in procedure_names:\n",
    "    proc_data = procedure_df[procedure_df['name']==procedure_name]\n",
    "    hist_array, hist_bins, hist_labels = trace_plotting.get_histogram_data(\n",
    "        proc_data.loc[:,'length_ms'], \n",
    "        bin_size, \n",
    "        density=False, \n",
    "        remove_trailing_zeros=False, \n",
    "        output_labels=True,\n",
    "        label_unit='ms')\n",
    "    histogram_line = go.Bar(\n",
    "        x=hist_bins,\n",
    "        y=hist_array,\n",
    "        name=procedure_name,\n",
    "        text=hist_labels,\n",
    "        opacity=0.65,\n",
    "        showlegend=True,\n",
    "        #marker={'line':{'width':0}},\n",
    "        hovertemplate=\"<br>\".join([\n",
    "            \"duration: %{text}\",\n",
    "            \"occurrences: %{y}\"])\n",
    "    )\n",
    "    histogram_traces.append(histogram_line)\n",
    "\n",
    "fig = go.Figure(data=histogram_traces, layout = { 'bargap': 0 })\n",
    "\n",
    "fig.update_layout(barmode='overlay')\n",
    "fig.update_xaxes(title_text='Procedure length (ms)')\n",
    "fig.update_yaxes(title_text='Occurrence')\n",
    "fig.show()\n",
    "\n",
    "fig.write_html(output_name_files + '_procedure_length.html')"
   ]
  },
  {
   "cell_type": "code",
   "execution_count": 8,
   "metadata": {},
   "outputs": [
    {
     "data": {
      "application/vnd.plotly.v1+json": {
       "config": {
        "plotlyServerURL": "https://plot.ly"
       },
       "data": [],
       "layout": {
        "template": {
         "data": {
          "bar": [
           {
            "error_x": {
             "color": "#2a3f5f"
            },
            "error_y": {
             "color": "#2a3f5f"
            },
            "marker": {
             "line": {
              "color": "#E5ECF6",
              "width": 0.5
             },
             "pattern": {
              "fillmode": "overlay",
              "size": 10,
              "solidity": 0.2
             }
            },
            "type": "bar"
           }
          ],
          "barpolar": [
           {
            "marker": {
             "line": {
              "color": "#E5ECF6",
              "width": 0.5
             },
             "pattern": {
              "fillmode": "overlay",
              "size": 10,
              "solidity": 0.2
             }
            },
            "type": "barpolar"
           }
          ],
          "carpet": [
           {
            "aaxis": {
             "endlinecolor": "#2a3f5f",
             "gridcolor": "white",
             "linecolor": "white",
             "minorgridcolor": "white",
             "startlinecolor": "#2a3f5f"
            },
            "baxis": {
             "endlinecolor": "#2a3f5f",
             "gridcolor": "white",
             "linecolor": "white",
             "minorgridcolor": "white",
             "startlinecolor": "#2a3f5f"
            },
            "type": "carpet"
           }
          ],
          "choropleth": [
           {
            "colorbar": {
             "outlinewidth": 0,
             "ticks": ""
            },
            "type": "choropleth"
           }
          ],
          "contour": [
           {
            "colorbar": {
             "outlinewidth": 0,
             "ticks": ""
            },
            "colorscale": [
             [
              0,
              "#0d0887"
             ],
             [
              0.1111111111111111,
              "#46039f"
             ],
             [
              0.2222222222222222,
              "#7201a8"
             ],
             [
              0.3333333333333333,
              "#9c179e"
             ],
             [
              0.4444444444444444,
              "#bd3786"
             ],
             [
              0.5555555555555556,
              "#d8576b"
             ],
             [
              0.6666666666666666,
              "#ed7953"
             ],
             [
              0.7777777777777778,
              "#fb9f3a"
             ],
             [
              0.8888888888888888,
              "#fdca26"
             ],
             [
              1,
              "#f0f921"
             ]
            ],
            "type": "contour"
           }
          ],
          "contourcarpet": [
           {
            "colorbar": {
             "outlinewidth": 0,
             "ticks": ""
            },
            "type": "contourcarpet"
           }
          ],
          "heatmap": [
           {
            "colorbar": {
             "outlinewidth": 0,
             "ticks": ""
            },
            "colorscale": [
             [
              0,
              "#0d0887"
             ],
             [
              0.1111111111111111,
              "#46039f"
             ],
             [
              0.2222222222222222,
              "#7201a8"
             ],
             [
              0.3333333333333333,
              "#9c179e"
             ],
             [
              0.4444444444444444,
              "#bd3786"
             ],
             [
              0.5555555555555556,
              "#d8576b"
             ],
             [
              0.6666666666666666,
              "#ed7953"
             ],
             [
              0.7777777777777778,
              "#fb9f3a"
             ],
             [
              0.8888888888888888,
              "#fdca26"
             ],
             [
              1,
              "#f0f921"
             ]
            ],
            "type": "heatmap"
           }
          ],
          "histogram": [
           {
            "marker": {
             "pattern": {
              "fillmode": "overlay",
              "size": 10,
              "solidity": 0.2
             }
            },
            "type": "histogram"
           }
          ],
          "histogram2d": [
           {
            "colorbar": {
             "outlinewidth": 0,
             "ticks": ""
            },
            "colorscale": [
             [
              0,
              "#0d0887"
             ],
             [
              0.1111111111111111,
              "#46039f"
             ],
             [
              0.2222222222222222,
              "#7201a8"
             ],
             [
              0.3333333333333333,
              "#9c179e"
             ],
             [
              0.4444444444444444,
              "#bd3786"
             ],
             [
              0.5555555555555556,
              "#d8576b"
             ],
             [
              0.6666666666666666,
              "#ed7953"
             ],
             [
              0.7777777777777778,
              "#fb9f3a"
             ],
             [
              0.8888888888888888,
              "#fdca26"
             ],
             [
              1,
              "#f0f921"
             ]
            ],
            "type": "histogram2d"
           }
          ],
          "histogram2dcontour": [
           {
            "colorbar": {
             "outlinewidth": 0,
             "ticks": ""
            },
            "colorscale": [
             [
              0,
              "#0d0887"
             ],
             [
              0.1111111111111111,
              "#46039f"
             ],
             [
              0.2222222222222222,
              "#7201a8"
             ],
             [
              0.3333333333333333,
              "#9c179e"
             ],
             [
              0.4444444444444444,
              "#bd3786"
             ],
             [
              0.5555555555555556,
              "#d8576b"
             ],
             [
              0.6666666666666666,
              "#ed7953"
             ],
             [
              0.7777777777777778,
              "#fb9f3a"
             ],
             [
              0.8888888888888888,
              "#fdca26"
             ],
             [
              1,
              "#f0f921"
             ]
            ],
            "type": "histogram2dcontour"
           }
          ],
          "mesh3d": [
           {
            "colorbar": {
             "outlinewidth": 0,
             "ticks": ""
            },
            "type": "mesh3d"
           }
          ],
          "parcoords": [
           {
            "line": {
             "colorbar": {
              "outlinewidth": 0,
              "ticks": ""
             }
            },
            "type": "parcoords"
           }
          ],
          "pie": [
           {
            "automargin": true,
            "type": "pie"
           }
          ],
          "scatter": [
           {
            "fillpattern": {
             "fillmode": "overlay",
             "size": 10,
             "solidity": 0.2
            },
            "type": "scatter"
           }
          ],
          "scatter3d": [
           {
            "line": {
             "colorbar": {
              "outlinewidth": 0,
              "ticks": ""
             }
            },
            "marker": {
             "colorbar": {
              "outlinewidth": 0,
              "ticks": ""
             }
            },
            "type": "scatter3d"
           }
          ],
          "scattercarpet": [
           {
            "marker": {
             "colorbar": {
              "outlinewidth": 0,
              "ticks": ""
             }
            },
            "type": "scattercarpet"
           }
          ],
          "scattergeo": [
           {
            "marker": {
             "colorbar": {
              "outlinewidth": 0,
              "ticks": ""
             }
            },
            "type": "scattergeo"
           }
          ],
          "scattergl": [
           {
            "marker": {
             "colorbar": {
              "outlinewidth": 0,
              "ticks": ""
             }
            },
            "type": "scattergl"
           }
          ],
          "scattermap": [
           {
            "marker": {
             "colorbar": {
              "outlinewidth": 0,
              "ticks": ""
             }
            },
            "type": "scattermap"
           }
          ],
          "scattermapbox": [
           {
            "marker": {
             "colorbar": {
              "outlinewidth": 0,
              "ticks": ""
             }
            },
            "type": "scattermapbox"
           }
          ],
          "scatterpolar": [
           {
            "marker": {
             "colorbar": {
              "outlinewidth": 0,
              "ticks": ""
             }
            },
            "type": "scatterpolar"
           }
          ],
          "scatterpolargl": [
           {
            "marker": {
             "colorbar": {
              "outlinewidth": 0,
              "ticks": ""
             }
            },
            "type": "scatterpolargl"
           }
          ],
          "scatterternary": [
           {
            "marker": {
             "colorbar": {
              "outlinewidth": 0,
              "ticks": ""
             }
            },
            "type": "scatterternary"
           }
          ],
          "surface": [
           {
            "colorbar": {
             "outlinewidth": 0,
             "ticks": ""
            },
            "colorscale": [
             [
              0,
              "#0d0887"
             ],
             [
              0.1111111111111111,
              "#46039f"
             ],
             [
              0.2222222222222222,
              "#7201a8"
             ],
             [
              0.3333333333333333,
              "#9c179e"
             ],
             [
              0.4444444444444444,
              "#bd3786"
             ],
             [
              0.5555555555555556,
              "#d8576b"
             ],
             [
              0.6666666666666666,
              "#ed7953"
             ],
             [
              0.7777777777777778,
              "#fb9f3a"
             ],
             [
              0.8888888888888888,
              "#fdca26"
             ],
             [
              1,
              "#f0f921"
             ]
            ],
            "type": "surface"
           }
          ],
          "table": [
           {
            "cells": {
             "fill": {
              "color": "#EBF0F8"
             },
             "line": {
              "color": "white"
             }
            },
            "header": {
             "fill": {
              "color": "#C8D4E3"
             },
             "line": {
              "color": "white"
             }
            },
            "type": "table"
           }
          ]
         },
         "layout": {
          "annotationdefaults": {
           "arrowcolor": "#2a3f5f",
           "arrowhead": 0,
           "arrowwidth": 1
          },
          "autotypenumbers": "strict",
          "coloraxis": {
           "colorbar": {
            "outlinewidth": 0,
            "ticks": ""
           }
          },
          "colorscale": {
           "diverging": [
            [
             0,
             "#8e0152"
            ],
            [
             0.1,
             "#c51b7d"
            ],
            [
             0.2,
             "#de77ae"
            ],
            [
             0.3,
             "#f1b6da"
            ],
            [
             0.4,
             "#fde0ef"
            ],
            [
             0.5,
             "#f7f7f7"
            ],
            [
             0.6,
             "#e6f5d0"
            ],
            [
             0.7,
             "#b8e186"
            ],
            [
             0.8,
             "#7fbc41"
            ],
            [
             0.9,
             "#4d9221"
            ],
            [
             1,
             "#276419"
            ]
           ],
           "sequential": [
            [
             0,
             "#0d0887"
            ],
            [
             0.1111111111111111,
             "#46039f"
            ],
            [
             0.2222222222222222,
             "#7201a8"
            ],
            [
             0.3333333333333333,
             "#9c179e"
            ],
            [
             0.4444444444444444,
             "#bd3786"
            ],
            [
             0.5555555555555556,
             "#d8576b"
            ],
            [
             0.6666666666666666,
             "#ed7953"
            ],
            [
             0.7777777777777778,
             "#fb9f3a"
            ],
            [
             0.8888888888888888,
             "#fdca26"
            ],
            [
             1,
             "#f0f921"
            ]
           ],
           "sequentialminus": [
            [
             0,
             "#0d0887"
            ],
            [
             0.1111111111111111,
             "#46039f"
            ],
            [
             0.2222222222222222,
             "#7201a8"
            ],
            [
             0.3333333333333333,
             "#9c179e"
            ],
            [
             0.4444444444444444,
             "#bd3786"
            ],
            [
             0.5555555555555556,
             "#d8576b"
            ],
            [
             0.6666666666666666,
             "#ed7953"
            ],
            [
             0.7777777777777778,
             "#fb9f3a"
            ],
            [
             0.8888888888888888,
             "#fdca26"
            ],
            [
             1,
             "#f0f921"
            ]
           ]
          },
          "colorway": [
           "#636efa",
           "#EF553B",
           "#00cc96",
           "#ab63fa",
           "#FFA15A",
           "#19d3f3",
           "#FF6692",
           "#B6E880",
           "#FF97FF",
           "#FECB52"
          ],
          "font": {
           "color": "#2a3f5f"
          },
          "geo": {
           "bgcolor": "white",
           "lakecolor": "white",
           "landcolor": "#E5ECF6",
           "showlakes": true,
           "showland": true,
           "subunitcolor": "white"
          },
          "hoverlabel": {
           "align": "left"
          },
          "hovermode": "closest",
          "mapbox": {
           "style": "light"
          },
          "paper_bgcolor": "white",
          "plot_bgcolor": "#E5ECF6",
          "polar": {
           "angularaxis": {
            "gridcolor": "white",
            "linecolor": "white",
            "ticks": ""
           },
           "bgcolor": "#E5ECF6",
           "radialaxis": {
            "gridcolor": "white",
            "linecolor": "white",
            "ticks": ""
           }
          },
          "scene": {
           "xaxis": {
            "backgroundcolor": "#E5ECF6",
            "gridcolor": "white",
            "gridwidth": 2,
            "linecolor": "white",
            "showbackground": true,
            "ticks": "",
            "zerolinecolor": "white"
           },
           "yaxis": {
            "backgroundcolor": "#E5ECF6",
            "gridcolor": "white",
            "gridwidth": 2,
            "linecolor": "white",
            "showbackground": true,
            "ticks": "",
            "zerolinecolor": "white"
           },
           "zaxis": {
            "backgroundcolor": "#E5ECF6",
            "gridcolor": "white",
            "gridwidth": 2,
            "linecolor": "white",
            "showbackground": true,
            "ticks": "",
            "zerolinecolor": "white"
           }
          },
          "shapedefaults": {
           "line": {
            "color": "#2a3f5f"
           }
          },
          "ternary": {
           "aaxis": {
            "gridcolor": "white",
            "linecolor": "white",
            "ticks": ""
           },
           "baxis": {
            "gridcolor": "white",
            "linecolor": "white",
            "ticks": ""
           },
           "bgcolor": "#E5ECF6",
           "caxis": {
            "gridcolor": "white",
            "linecolor": "white",
            "ticks": ""
           }
          },
          "title": {
           "x": 0.05
          },
          "xaxis": {
           "automargin": true,
           "gridcolor": "white",
           "linecolor": "white",
           "ticks": "",
           "title": {
            "standoff": 15
           },
           "zerolinecolor": "white",
           "zerolinewidth": 2
          },
          "yaxis": {
           "automargin": true,
           "gridcolor": "white",
           "linecolor": "white",
           "ticks": "",
           "title": {
            "standoff": 15
           },
           "zerolinecolor": "white",
           "zerolinewidth": 2
          }
         }
        },
        "yaxis": {
         "title": {
          "text": "Procedure length (ms)"
         }
        }
       }
      },
      "image/png": "[encoded data removed]"
     },
     "metadata": {},
     "output_type": "display_data"
    }
   ],
   "source": [
    "plot_data = trace_plotting.generate_scatterplots_for_wireshark_traces(\n",
    "    procedure_df, \n",
    "    filter_column='name', \n",
    "    datetime_column='start_datetime', \n",
    "    summary_column='length_ms', \n",
    "    protocol_column='name', \n",
    "    frame_number_column='start_frame', \n",
    "    auto_color=True,\n",
    "    y_unit='ms',\n",
    "    hide_series=False,\n",
    "    opacity=0.65)\n",
    "fig = go.Figure(data=plot_data)\n",
    "fig.update_yaxes(title_text='Procedure length (ms)')\n",
    "fig.show()\n",
    "\n",
    "fig.write_html(output_name_files + '_procedure_timeline.html')"
   ]
  },
  {
   "cell_type": "code",
   "execution_count": null,
   "metadata": {},
   "outputs": [],
   "source": []
  }
 ],
 "metadata": {
  "kernelspec": {
   "display_name": "Python 3 (ipykernel)",
   "language": "python",
   "name": "python3"
  },
  "language_info": {
   "codemirror_mode": {
    "name": "ipython",
    "version": 3
   },
   "file_extension": ".py",
   "mimetype": "text/x-python",
   "name": "python",
   "nbconvert_exporter": "python",
   "pygments_lexer": "ipython3",
   "version": "3.13.3"
  }
 },
 "nbformat": 4,
 "nbformat_minor": 4
}
