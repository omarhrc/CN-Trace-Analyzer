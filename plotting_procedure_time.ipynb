{
 "cells": [
  {
   "cell_type": "code",
   "execution_count": 1,
   "metadata": {},
   "outputs": [],
   "source": [
    "# Generic imports\n",
    "import pandas as pd\n",
    "import plotly\n",
    "import plotly.graph_objects as go\n",
    "\n",
    "# 5G visualization logic\n",
    "import trace_plotting\n",
    "from utils.wireshark import import_pcap_as_dataframe\n",
    "import logging\n",
    "import re\n",
    "import platform"
   ]
  },
  {
   "cell_type": "code",
   "execution_count": 2,
   "metadata": {},
   "outputs": [],
   "source": [
    "# Wireshark trace with 5GC messages\n",
    "#wireshark_trace = 'D:\\\\Temp\\\\free5gc.pcap'\n",
    "#wireshark_trace = 'D:\\\\Temp\\\\volte_calls_2.pcapng'\n",
    "#wireshark_trace = 'D:\\\\Temp\\\\s1ap_volte.pcapng'\n",
    "#wireshark_trace = 'D:\\\\Temp\\\\SIP MT offnet.pcap'\n",
    "wireshark_trace = 'D:\\\\Temp\\\\registration_open5gs.pcapng'"
   ]
  },
  {
   "cell_type": "code",
   "execution_count": 3,
   "metadata": {},
   "outputs": [
    {
     "data": {
      "text/html": [
       "<div>\n",
       "<style scoped>\n",
       "    .dataframe tbody tr th:only-of-type {\n",
       "        vertical-align: middle;\n",
       "    }\n",
       "\n",
       "    .dataframe tbody tr th {\n",
       "        vertical-align: top;\n",
       "    }\n",
       "\n",
       "    .dataframe thead th {\n",
       "        text-align: right;\n",
       "    }\n",
       "</style>\n",
       "<table border=\"1\" class=\"dataframe\">\n",
       "  <thead>\n",
       "    <tr style=\"text-align: right;\">\n",
       "      <th></th>\n",
       "      <th>ip_src</th>\n",
       "      <th>ip_dst</th>\n",
       "      <th>port_src</th>\n",
       "      <th>port_dst</th>\n",
       "      <th>transport_protocol</th>\n",
       "      <th>frame_number</th>\n",
       "      <th>protocol</th>\n",
       "      <th>msg_description</th>\n",
       "      <th>timestamp</th>\n",
       "      <th>timestamp_offset</th>\n",
       "      <th>datetime</th>\n",
       "      <th>summary_raw</th>\n",
       "      <th>summary</th>\n",
       "      <th>file</th>\n",
       "      <th>file_idx</th>\n",
       "    </tr>\n",
       "  </thead>\n",
       "  <tbody>\n",
       "    <tr>\n",
       "      <th>0</th>\n",
       "      <td>127.0.0.1</td>\n",
       "      <td>127.0.0.5</td>\n",
       "      <td>39582</td>\n",
       "      <td>38412</td>\n",
       "      <td>sctp</td>\n",
       "      <td>1</td>\n",
       "      <td>NGAP</td>\n",
       "      <td>NGAP-PDU: 00150041000004001b00090009f107500000...</td>\n",
       "      <td>1.620368e+09</td>\n",
       "      <td>0.000000</td>\n",
       "      <td>2021-05-07 06:19:23.631686449</td>\n",
       "      <td>NGAP NGSetup (21)</td>\n",
       "      <td>NAS NGSetup (21)</td>\n",
       "      <td>D:\\Temp\\registration_open5gs.pcapng</td>\n",
       "      <td>0</td>\n",
       "    </tr>\n",
       "    <tr>\n",
       "      <th>1</th>\n",
       "      <td>127.0.0.5</td>\n",
       "      <td>127.0.0.1</td>\n",
       "      <td>38412</td>\n",
       "      <td>39582</td>\n",
       "      <td>sctp</td>\n",
       "      <td>2</td>\n",
       "      <td>NGAP</td>\n",
       "      <td>NGAP-PDU: 201500320000040001000e05806f70656e35...</td>\n",
       "      <td>1.620368e+09</td>\n",
       "      <td>0.000131</td>\n",
       "      <td>2021-05-07 06:19:23.631817341</td>\n",
       "      <td>NGAP NGSetup (21)</td>\n",
       "      <td>NAS NGSetup (21)</td>\n",
       "      <td>D:\\Temp\\registration_open5gs.pcapng</td>\n",
       "      <td>0</td>\n",
       "    </tr>\n",
       "    <tr>\n",
       "      <th>2</th>\n",
       "      <td>127.0.0.1</td>\n",
       "      <td>127.0.0.5</td>\n",
       "      <td>39582</td>\n",
       "      <td>38412</td>\n",
       "      <td>sctp</td>\n",
       "      <td>3</td>\n",
       "      <td>NGAP</td>\n",
       "      <td>NGAP-PDU: 000f40520000050055000200010026002423...</td>\n",
       "      <td>1.620368e+09</td>\n",
       "      <td>7.737889</td>\n",
       "      <td>2021-05-07 06:19:31.369575262</td>\n",
       "      <td>NGAP InitialUEMessage (15),\\nNAS Registration ...</td>\n",
       "      <td>NAS Registration request (0x41)</td>\n",
       "      <td>D:\\Temp\\registration_open5gs.pcapng</td>\n",
       "      <td>0</td>\n",
       "    </tr>\n",
       "    <tr>\n",
       "      <th>3</th>\n",
       "      <td>127.0.0.5</td>\n",
       "      <td>127.0.0.1</td>\n",
       "      <td>38412</td>\n",
       "      <td>39582</td>\n",
       "      <td>sctp</td>\n",
       "      <td>4</td>\n",
       "      <td>NGAP</td>\n",
       "      <td>NGAP-PDU: 00044018000003000a000200010055000200...</td>\n",
       "      <td>1.620368e+09</td>\n",
       "      <td>7.738143</td>\n",
       "      <td>2021-05-07 06:19:31.369829655</td>\n",
       "      <td>NGAP DownlinkNASTransport (4),\\nNAS Registrati...</td>\n",
       "      <td>NAS Registration reject (0x44)</td>\n",
       "      <td>D:\\Temp\\registration_open5gs.pcapng</td>\n",
       "      <td>0</td>\n",
       "    </tr>\n",
       "    <tr>\n",
       "      <th>4</th>\n",
       "      <td>127.0.0.5</td>\n",
       "      <td>127.0.0.1</td>\n",
       "      <td>38412</td>\n",
       "      <td>39582</td>\n",
       "      <td>sctp</td>\n",
       "      <td>5</td>\n",
       "      <td>NGAP</td>\n",
       "      <td>NGAP-PDU: 002900100000020072000400010001000f40...</td>\n",
       "      <td>1.620368e+09</td>\n",
       "      <td>7.738172</td>\n",
       "      <td>2021-05-07 06:19:31.369858503</td>\n",
       "      <td>NGAP UEContextRelease (41)</td>\n",
       "      <td>NAS UEContextRelease (41)</td>\n",
       "      <td>D:\\Temp\\registration_open5gs.pcapng</td>\n",
       "      <td>0</td>\n",
       "    </tr>\n",
       "    <tr>\n",
       "      <th>5</th>\n",
       "      <td>127.0.0.1</td>\n",
       "      <td>127.0.0.5</td>\n",
       "      <td>39582</td>\n",
       "      <td>38412</td>\n",
       "      <td>sctp</td>\n",
       "      <td>6</td>\n",
       "      <td>NGAP</td>\n",
       "      <td>NGAP-PDU: 20290026000003000a000200010055000200...</td>\n",
       "      <td>1.620368e+09</td>\n",
       "      <td>7.738246</td>\n",
       "      <td>2021-05-07 06:19:31.369932890</td>\n",
       "      <td>NGAP UEContextRelease (41)</td>\n",
       "      <td>NAS UEContextRelease (41)</td>\n",
       "      <td>D:\\Temp\\registration_open5gs.pcapng</td>\n",
       "      <td>0</td>\n",
       "    </tr>\n",
       "  </tbody>\n",
       "</table>\n",
       "</div>"
      ],
      "text/plain": [
       "      ip_src     ip_dst port_src port_dst transport_protocol frame_number  \\\n",
       "0  127.0.0.1  127.0.0.5    39582    38412               sctp            1   \n",
       "1  127.0.0.5  127.0.0.1    38412    39582               sctp            2   \n",
       "2  127.0.0.1  127.0.0.5    39582    38412               sctp            3   \n",
       "3  127.0.0.5  127.0.0.1    38412    39582               sctp            4   \n",
       "4  127.0.0.5  127.0.0.1    38412    39582               sctp            5   \n",
       "5  127.0.0.1  127.0.0.5    39582    38412               sctp            6   \n",
       "\n",
       "  protocol                                    msg_description     timestamp  \\\n",
       "0     NGAP  NGAP-PDU: 00150041000004001b00090009f107500000...  1.620368e+09   \n",
       "1     NGAP  NGAP-PDU: 201500320000040001000e05806f70656e35...  1.620368e+09   \n",
       "2     NGAP  NGAP-PDU: 000f40520000050055000200010026002423...  1.620368e+09   \n",
       "3     NGAP  NGAP-PDU: 00044018000003000a000200010055000200...  1.620368e+09   \n",
       "4     NGAP  NGAP-PDU: 002900100000020072000400010001000f40...  1.620368e+09   \n",
       "5     NGAP  NGAP-PDU: 20290026000003000a000200010055000200...  1.620368e+09   \n",
       "\n",
       "   timestamp_offset                      datetime  \\\n",
       "0          0.000000 2021-05-07 06:19:23.631686449   \n",
       "1          0.000131 2021-05-07 06:19:23.631817341   \n",
       "2          7.737889 2021-05-07 06:19:31.369575262   \n",
       "3          7.738143 2021-05-07 06:19:31.369829655   \n",
       "4          7.738172 2021-05-07 06:19:31.369858503   \n",
       "5          7.738246 2021-05-07 06:19:31.369932890   \n",
       "\n",
       "                                         summary_raw  \\\n",
       "0                                  NGAP NGSetup (21)   \n",
       "1                                  NGAP NGSetup (21)   \n",
       "2  NGAP InitialUEMessage (15),\\nNAS Registration ...   \n",
       "3  NGAP DownlinkNASTransport (4),\\nNAS Registrati...   \n",
       "4                         NGAP UEContextRelease (41)   \n",
       "5                         NGAP UEContextRelease (41)   \n",
       "\n",
       "                           summary                                 file  \\\n",
       "0                 NAS NGSetup (21)  D:\\Temp\\registration_open5gs.pcapng   \n",
       "1                 NAS NGSetup (21)  D:\\Temp\\registration_open5gs.pcapng   \n",
       "2  NAS Registration request (0x41)  D:\\Temp\\registration_open5gs.pcapng   \n",
       "3   NAS Registration reject (0x44)  D:\\Temp\\registration_open5gs.pcapng   \n",
       "4        NAS UEContextRelease (41)  D:\\Temp\\registration_open5gs.pcapng   \n",
       "5        NAS UEContextRelease (41)  D:\\Temp\\registration_open5gs.pcapng   \n",
       "\n",
       "   file_idx  \n",
       "0         0  \n",
       "1         0  \n",
       "2         0  \n",
       "3         0  \n",
       "4         0  \n",
       "5         0  "
      ]
     },
     "metadata": {},
     "output_type": "display_data"
    }
   ],
   "source": [
    "if isinstance(wireshark_trace, list):\n",
    "    output_name_files = wireshark_trace[0]\n",
    "else:\n",
    "    output_name_files = wireshark_trace\n",
    "output_name_files = '.'.join(output_name_files.split('.')[0:-1])\n",
    "\n",
    "http2_ports= \"29502,29503,29504,29507,29509,29518,\"\n",
    "# DEBUG loggig level for big traces so that you can see if processing is stuck or not\n",
    "packets_df = import_pcap_as_dataframe(\n",
    "    wireshark_trace, \n",
    "    http2_ports = http2_ports+\"32445,5002,5000,32665,80,32077,5006,8080,3000,8081,29502,37904\",\n",
    "    wireshark_version = 'OS',\n",
    "    platform = platform.system(),\n",
    "    logging_level=logging.INFO,\n",
    "    remove_pdml=True)\n",
    "display(packets_df)"
   ]
  },
  {
   "cell_type": "code",
   "execution_count": 4,
   "metadata": {},
   "outputs": [
    {
     "data": {
      "text/plain": [
       "'Average procedure length (ms)'"
      ]
     },
     "metadata": {},
     "output_type": "display_data"
    },
    {
     "data": {
      "text/html": [
       "<div>\n",
       "<style scoped>\n",
       "    .dataframe tbody tr th:only-of-type {\n",
       "        vertical-align: middle;\n",
       "    }\n",
       "\n",
       "    .dataframe tbody tr th {\n",
       "        vertical-align: top;\n",
       "    }\n",
       "\n",
       "    .dataframe thead th {\n",
       "        text-align: right;\n",
       "    }\n",
       "</style>\n",
       "<table border=\"1\" class=\"dataframe\">\n",
       "  <thead>\n",
       "    <tr style=\"text-align: right;\">\n",
       "      <th></th>\n",
       "      <th>mean_procedure_time_ms</th>\n",
       "      <th>min_procedure_time_ms</th>\n",
       "      <th>max_procedure_time_ms</th>\n",
       "      <th>count</th>\n",
       "    </tr>\n",
       "    <tr>\n",
       "      <th>name</th>\n",
       "      <th></th>\n",
       "      <th></th>\n",
       "      <th></th>\n",
       "      <th></th>\n",
       "    </tr>\n",
       "  </thead>\n",
       "  <tbody>\n",
       "    <tr>\n",
       "      <th>NAS UE Registration</th>\n",
       "      <td>0.254393</td>\n",
       "      <td>0.254393</td>\n",
       "      <td>0.254393</td>\n",
       "      <td>1</td>\n",
       "    </tr>\n",
       "  </tbody>\n",
       "</table>\n",
       "</div>"
      ],
      "text/plain": [
       "                     mean_procedure_time_ms  min_procedure_time_ms  \\\n",
       "name                                                                 \n",
       "NAS UE Registration                0.254393               0.254393   \n",
       "\n",
       "                     max_procedure_time_ms  count  \n",
       "name                                               \n",
       "NAS UE Registration               0.254393      1  "
      ]
     },
     "metadata": {},
     "output_type": "display_data"
    }
   ],
   "source": [
    "procedure_df, procedure_frames_df = trace_plotting.calculate_procedure_length(packets_df)\n",
    "#pd.set_option('display.max_rows', 10)\n",
    "#display(procedure_df)\n",
    "\n",
    "display('Average procedure length (ms)')\n",
    "mean_values = procedure_df.groupby('name')['length_ms'].mean()\n",
    "min_values = procedure_df.groupby('name')['length_ms'].min()\n",
    "max_values = procedure_df.groupby('name')['length_ms'].max()\n",
    "count_values = procedure_df.groupby('name')['length_ms'].count()\n",
    "summary_values = mean_values.reset_index()\n",
    "summary_values = summary_values.rename(columns={'length_ms':'mean_procedure_time_ms'})\n",
    "summary_values['min_procedure_time_ms'] = min_values.reset_index()['length_ms']\n",
    "summary_values['max_procedure_time_ms'] = max_values.reset_index()['length_ms']\n",
    "summary_values['count'] = count_values.reset_index()['length_ms']\n",
    "summary_values = summary_values.set_index('name')\n",
    "display(summary_values)\n",
    "with open(output_name_files + '_summary.txt', 'w') as f:\n",
    "    f.write(summary_values.to_string())\n",
    "#display(procedure_df)\n",
    "#display(procedure_frames_df)"
   ]
  },
  {
   "cell_type": "code",
   "execution_count": 5,
   "metadata": {},
   "outputs": [
    {
     "data": {
      "text/html": [
       "<div>\n",
       "<style scoped>\n",
       "    .dataframe tbody tr th:only-of-type {\n",
       "        vertical-align: middle;\n",
       "    }\n",
       "\n",
       "    .dataframe tbody tr th {\n",
       "        vertical-align: top;\n",
       "    }\n",
       "\n",
       "    .dataframe thead th {\n",
       "        text-align: right;\n",
       "    }\n",
       "</style>\n",
       "<table border=\"1\" class=\"dataframe\">\n",
       "  <thead>\n",
       "    <tr style=\"text-align: right;\">\n",
       "      <th></th>\n",
       "      <th>name</th>\n",
       "      <th>RAN_UE_NGAP_ID</th>\n",
       "      <th>length_ms</th>\n",
       "      <th>start_frame</th>\n",
       "      <th>end_frame</th>\n",
       "      <th>start_timestamp</th>\n",
       "      <th>end_timestamp</th>\n",
       "      <th>start_datetime</th>\n",
       "      <th>end_datetime</th>\n",
       "    </tr>\n",
       "  </thead>\n",
       "  <tbody>\n",
       "    <tr>\n",
       "      <th>0</th>\n",
       "      <td>NAS UE Registration</td>\n",
       "      <td>1</td>\n",
       "      <td>0.254393</td>\n",
       "      <td>3</td>\n",
       "      <td>4</td>\n",
       "      <td>1.620368e+09</td>\n",
       "      <td>1.620368e+09</td>\n",
       "      <td>2021-05-07 06:19:31.369575262</td>\n",
       "      <td>2021-05-07 06:19:31.369829655</td>\n",
       "    </tr>\n",
       "  </tbody>\n",
       "</table>\n",
       "</div>"
      ],
      "text/plain": [
       "                  name RAN_UE_NGAP_ID  length_ms start_frame end_frame  \\\n",
       "0  NAS UE Registration              1   0.254393           3         4   \n",
       "\n",
       "   start_timestamp  end_timestamp                start_datetime  \\\n",
       "0     1.620368e+09   1.620368e+09 2021-05-07 06:19:31.369575262   \n",
       "\n",
       "                   end_datetime  \n",
       "0 2021-05-07 06:19:31.369829655  "
      ]
     },
     "execution_count": 5,
     "metadata": {},
     "output_type": "execute_result"
    }
   ],
   "source": [
    "procedure_df"
   ]
  },
  {
   "cell_type": "code",
   "execution_count": 6,
   "metadata": {},
   "outputs": [
    {
     "data": {
      "text/html": [
       "<div>\n",
       "<style scoped>\n",
       "    .dataframe tbody tr th:only-of-type {\n",
       "        vertical-align: middle;\n",
       "    }\n",
       "\n",
       "    .dataframe tbody tr th {\n",
       "        vertical-align: top;\n",
       "    }\n",
       "\n",
       "    .dataframe thead th {\n",
       "        text-align: right;\n",
       "    }\n",
       "</style>\n",
       "<table border=\"1\" class=\"dataframe\">\n",
       "  <thead>\n",
       "    <tr style=\"text-align: right;\">\n",
       "      <th></th>\n",
       "      <th>ip_src</th>\n",
       "      <th>ip_dst</th>\n",
       "      <th>port_src</th>\n",
       "      <th>port_dst</th>\n",
       "      <th>transport_protocol</th>\n",
       "      <th>frame_number</th>\n",
       "      <th>protocol</th>\n",
       "      <th>msg_description</th>\n",
       "      <th>timestamp</th>\n",
       "      <th>timestamp_offset</th>\n",
       "      <th>datetime</th>\n",
       "      <th>summary_raw</th>\n",
       "      <th>summary</th>\n",
       "      <th>file</th>\n",
       "      <th>file_idx</th>\n",
       "      <th>AMF-UE-NGAP-ID</th>\n",
       "      <th>RAN-UE-NGAP-ID</th>\n",
       "      <th>HTTP_STREAM</th>\n",
       "      <th>HTTP_PROCEDURE</th>\n",
       "      <th>HTTP_TYPE</th>\n",
       "    </tr>\n",
       "  </thead>\n",
       "  <tbody>\n",
       "    <tr>\n",
       "      <th>2</th>\n",
       "      <td>127.0.0.1</td>\n",
       "      <td>127.0.0.5</td>\n",
       "      <td>39582</td>\n",
       "      <td>38412</td>\n",
       "      <td>sctp</td>\n",
       "      <td>3</td>\n",
       "      <td>NGAP</td>\n",
       "      <td>NGAP-PDU: 000f40520000050055000200010026002423...</td>\n",
       "      <td>1.620368e+09</td>\n",
       "      <td>7.737889</td>\n",
       "      <td>2021-05-07 06:19:31.369575262</td>\n",
       "      <td>NGAP InitialUEMessage (15),\\nNAS Registration ...</td>\n",
       "      <td>NAS Registration request (0x41)</td>\n",
       "      <td>D:\\Temp\\registration_open5gs.pcapng</td>\n",
       "      <td>0</td>\n",
       "      <td></td>\n",
       "      <td>1</td>\n",
       "      <td></td>\n",
       "      <td></td>\n",
       "      <td></td>\n",
       "    </tr>\n",
       "    <tr>\n",
       "      <th>3</th>\n",
       "      <td>127.0.0.5</td>\n",
       "      <td>127.0.0.1</td>\n",
       "      <td>38412</td>\n",
       "      <td>39582</td>\n",
       "      <td>sctp</td>\n",
       "      <td>4</td>\n",
       "      <td>NGAP</td>\n",
       "      <td>NGAP-PDU: 00044018000003000a000200010055000200...</td>\n",
       "      <td>1.620368e+09</td>\n",
       "      <td>7.738143</td>\n",
       "      <td>2021-05-07 06:19:31.369829655</td>\n",
       "      <td>NGAP DownlinkNASTransport (4),\\nNAS Registrati...</td>\n",
       "      <td>NAS Registration reject (0x44)</td>\n",
       "      <td>D:\\Temp\\registration_open5gs.pcapng</td>\n",
       "      <td>0</td>\n",
       "      <td>1</td>\n",
       "      <td>1</td>\n",
       "      <td></td>\n",
       "      <td></td>\n",
       "      <td></td>\n",
       "    </tr>\n",
       "  </tbody>\n",
       "</table>\n",
       "</div>"
      ],
      "text/plain": [
       "      ip_src     ip_dst port_src port_dst transport_protocol frame_number  \\\n",
       "2  127.0.0.1  127.0.0.5    39582    38412               sctp            3   \n",
       "3  127.0.0.5  127.0.0.1    38412    39582               sctp            4   \n",
       "\n",
       "  protocol                                    msg_description     timestamp  \\\n",
       "2     NGAP  NGAP-PDU: 000f40520000050055000200010026002423...  1.620368e+09   \n",
       "3     NGAP  NGAP-PDU: 00044018000003000a000200010055000200...  1.620368e+09   \n",
       "\n",
       "   timestamp_offset                      datetime  \\\n",
       "2          7.737889 2021-05-07 06:19:31.369575262   \n",
       "3          7.738143 2021-05-07 06:19:31.369829655   \n",
       "\n",
       "                                         summary_raw  \\\n",
       "2  NGAP InitialUEMessage (15),\\nNAS Registration ...   \n",
       "3  NGAP DownlinkNASTransport (4),\\nNAS Registrati...   \n",
       "\n",
       "                           summary                                 file  \\\n",
       "2  NAS Registration request (0x41)  D:\\Temp\\registration_open5gs.pcapng   \n",
       "3   NAS Registration reject (0x44)  D:\\Temp\\registration_open5gs.pcapng   \n",
       "\n",
       "   file_idx AMF-UE-NGAP-ID RAN-UE-NGAP-ID HTTP_STREAM HTTP_PROCEDURE HTTP_TYPE  \n",
       "2         0                             1                                       \n",
       "3         0              1              1                                       "
      ]
     },
     "execution_count": 6,
     "metadata": {},
     "output_type": "execute_result"
    }
   ],
   "source": [
    "procedure_frames_df"
   ]
  },
  {
   "cell_type": "code",
   "execution_count": 7,
   "metadata": {},
   "outputs": [
    {
     "data": {
      "application/vnd.plotly.v1+json": {
       "config": {
        "plotlyServerURL": "https://plot.ly"
       },
       "data": [
        {
         "hovertemplate": "duration: %{text}<br>occurrences: %{y}",
         "name": "NAS UE Registration",
         "opacity": 0.65,
         "showlegend": true,
         "text": [
          "0 to 1ms",
          "1 to 4ms",
          "4 to 7ms",
          "7 to 10ms",
          "10 to 13ms"
         ],
         "type": "bar",
         "x": {
          "bdata": "AAMGCQw=",
          "dtype": "i1"
         },
         "y": {
          "bdata": "AQAAAA==",
          "dtype": "i1"
         }
        }
       ],
       "layout": {
        "bargap": 0,
        "barmode": "overlay",
        "template": {
         "data": {
          "bar": [
           {
            "error_x": {
             "color": "#2a3f5f"
            },
            "error_y": {
             "color": "#2a3f5f"
            },
            "marker": {
             "line": {
              "color": "#E5ECF6",
              "width": 0.5
             },
             "pattern": {
              "fillmode": "overlay",
              "size": 10,
              "solidity": 0.2
             }
            },
            "type": "bar"
           }
          ],
          "barpolar": [
           {
            "marker": {
             "line": {
              "color": "#E5ECF6",
              "width": 0.5
             },
             "pattern": {
              "fillmode": "overlay",
              "size": 10,
              "solidity": 0.2
             }
            },
            "type": "barpolar"
           }
          ],
          "carpet": [
           {
            "aaxis": {
             "endlinecolor": "#2a3f5f",
             "gridcolor": "white",
             "linecolor": "white",
             "minorgridcolor": "white",
             "startlinecolor": "#2a3f5f"
            },
            "baxis": {
             "endlinecolor": "#2a3f5f",
             "gridcolor": "white",
             "linecolor": "white",
             "minorgridcolor": "white",
             "startlinecolor": "#2a3f5f"
            },
            "type": "carpet"
           }
          ],
          "choropleth": [
           {
            "colorbar": {
             "outlinewidth": 0,
             "ticks": ""
            },
            "type": "choropleth"
           }
          ],
          "contour": [
           {
            "colorbar": {
             "outlinewidth": 0,
             "ticks": ""
            },
            "colorscale": [
             [
              0,
              "#0d0887"
             ],
             [
              0.1111111111111111,
              "#46039f"
             ],
             [
              0.2222222222222222,
              "#7201a8"
             ],
             [
              0.3333333333333333,
              "#9c179e"
             ],
             [
              0.4444444444444444,
              "#bd3786"
             ],
             [
              0.5555555555555556,
              "#d8576b"
             ],
             [
              0.6666666666666666,
              "#ed7953"
             ],
             [
              0.7777777777777778,
              "#fb9f3a"
             ],
             [
              0.8888888888888888,
              "#fdca26"
             ],
             [
              1,
              "#f0f921"
             ]
            ],
            "type": "contour"
           }
          ],
          "contourcarpet": [
           {
            "colorbar": {
             "outlinewidth": 0,
             "ticks": ""
            },
            "type": "contourcarpet"
           }
          ],
          "heatmap": [
           {
            "colorbar": {
             "outlinewidth": 0,
             "ticks": ""
            },
            "colorscale": [
             [
              0,
              "#0d0887"
             ],
             [
              0.1111111111111111,
              "#46039f"
             ],
             [
              0.2222222222222222,
              "#7201a8"
             ],
             [
              0.3333333333333333,
              "#9c179e"
             ],
             [
              0.4444444444444444,
              "#bd3786"
             ],
             [
              0.5555555555555556,
              "#d8576b"
             ],
             [
              0.6666666666666666,
              "#ed7953"
             ],
             [
              0.7777777777777778,
              "#fb9f3a"
             ],
             [
              0.8888888888888888,
              "#fdca26"
             ],
             [
              1,
              "#f0f921"
             ]
            ],
            "type": "heatmap"
           }
          ],
          "histogram": [
           {
            "marker": {
             "pattern": {
              "fillmode": "overlay",
              "size": 10,
              "solidity": 0.2
             }
            },
            "type": "histogram"
           }
          ],
          "histogram2d": [
           {
            "colorbar": {
             "outlinewidth": 0,
             "ticks": ""
            },
            "colorscale": [
             [
              0,
              "#0d0887"
             ],
             [
              0.1111111111111111,
              "#46039f"
             ],
             [
              0.2222222222222222,
              "#7201a8"
             ],
             [
              0.3333333333333333,
              "#9c179e"
             ],
             [
              0.4444444444444444,
              "#bd3786"
             ],
             [
              0.5555555555555556,
              "#d8576b"
             ],
             [
              0.6666666666666666,
              "#ed7953"
             ],
             [
              0.7777777777777778,
              "#fb9f3a"
             ],
             [
              0.8888888888888888,
              "#fdca26"
             ],
             [
              1,
              "#f0f921"
             ]
            ],
            "type": "histogram2d"
           }
          ],
          "histogram2dcontour": [
           {
            "colorbar": {
             "outlinewidth": 0,
             "ticks": ""
            },
            "colorscale": [
             [
              0,
              "#0d0887"
             ],
             [
              0.1111111111111111,
              "#46039f"
             ],
             [
              0.2222222222222222,
              "#7201a8"
             ],
             [
              0.3333333333333333,
              "#9c179e"
             ],
             [
              0.4444444444444444,
              "#bd3786"
             ],
             [
              0.5555555555555556,
              "#d8576b"
             ],
             [
              0.6666666666666666,
              "#ed7953"
             ],
             [
              0.7777777777777778,
              "#fb9f3a"
             ],
             [
              0.8888888888888888,
              "#fdca26"
             ],
             [
              1,
              "#f0f921"
             ]
            ],
            "type": "histogram2dcontour"
           }
          ],
          "mesh3d": [
           {
            "colorbar": {
             "outlinewidth": 0,
             "ticks": ""
            },
            "type": "mesh3d"
           }
          ],
          "parcoords": [
           {
            "line": {
             "colorbar": {
              "outlinewidth": 0,
              "ticks": ""
             }
            },
            "type": "parcoords"
           }
          ],
          "pie": [
           {
            "automargin": true,
            "type": "pie"
           }
          ],
          "scatter": [
           {
            "fillpattern": {
             "fillmode": "overlay",
             "size": 10,
             "solidity": 0.2
            },
            "type": "scatter"
           }
          ],
          "scatter3d": [
           {
            "line": {
             "colorbar": {
              "outlinewidth": 0,
              "ticks": ""
             }
            },
            "marker": {
             "colorbar": {
              "outlinewidth": 0,
              "ticks": ""
             }
            },
            "type": "scatter3d"
           }
          ],
          "scattercarpet": [
           {
            "marker": {
             "colorbar": {
              "outlinewidth": 0,
              "ticks": ""
             }
            },
            "type": "scattercarpet"
           }
          ],
          "scattergeo": [
           {
            "marker": {
             "colorbar": {
              "outlinewidth": 0,
              "ticks": ""
             }
            },
            "type": "scattergeo"
           }
          ],
          "scattergl": [
           {
            "marker": {
             "colorbar": {
              "outlinewidth": 0,
              "ticks": ""
             }
            },
            "type": "scattergl"
           }
          ],
          "scattermap": [
           {
            "marker": {
             "colorbar": {
              "outlinewidth": 0,
              "ticks": ""
             }
            },
            "type": "scattermap"
           }
          ],
          "scattermapbox": [
           {
            "marker": {
             "colorbar": {
              "outlinewidth": 0,
              "ticks": ""
             }
            },
            "type": "scattermapbox"
           }
          ],
          "scatterpolar": [
           {
            "marker": {
             "colorbar": {
              "outlinewidth": 0,
              "ticks": ""
             }
            },
            "type": "scatterpolar"
           }
          ],
          "scatterpolargl": [
           {
            "marker": {
             "colorbar": {
              "outlinewidth": 0,
              "ticks": ""
             }
            },
            "type": "scatterpolargl"
           }
          ],
          "scatterternary": [
           {
            "marker": {
             "colorbar": {
              "outlinewidth": 0,
              "ticks": ""
             }
            },
            "type": "scatterternary"
           }
          ],
          "surface": [
           {
            "colorbar": {
             "outlinewidth": 0,
             "ticks": ""
            },
            "colorscale": [
             [
              0,
              "#0d0887"
             ],
             [
              0.1111111111111111,
              "#46039f"
             ],
             [
              0.2222222222222222,
              "#7201a8"
             ],
             [
              0.3333333333333333,
              "#9c179e"
             ],
             [
              0.4444444444444444,
              "#bd3786"
             ],
             [
              0.5555555555555556,
              "#d8576b"
             ],
             [
              0.6666666666666666,
              "#ed7953"
             ],
             [
              0.7777777777777778,
              "#fb9f3a"
             ],
             [
              0.8888888888888888,
              "#fdca26"
             ],
             [
              1,
              "#f0f921"
             ]
            ],
            "type": "surface"
           }
          ],
          "table": [
           {
            "cells": {
             "fill": {
              "color": "#EBF0F8"
             },
             "line": {
              "color": "white"
             }
            },
            "header": {
             "fill": {
              "color": "#C8D4E3"
             },
             "line": {
              "color": "white"
             }
            },
            "type": "table"
           }
          ]
         },
         "layout": {
          "annotationdefaults": {
           "arrowcolor": "#2a3f5f",
           "arrowhead": 0,
           "arrowwidth": 1
          },
          "autotypenumbers": "strict",
          "coloraxis": {
           "colorbar": {
            "outlinewidth": 0,
            "ticks": ""
           }
          },
          "colorscale": {
           "diverging": [
            [
             0,
             "#8e0152"
            ],
            [
             0.1,
             "#c51b7d"
            ],
            [
             0.2,
             "#de77ae"
            ],
            [
             0.3,
             "#f1b6da"
            ],
            [
             0.4,
             "#fde0ef"
            ],
            [
             0.5,
             "#f7f7f7"
            ],
            [
             0.6,
             "#e6f5d0"
            ],
            [
             0.7,
             "#b8e186"
            ],
            [
             0.8,
             "#7fbc41"
            ],
            [
             0.9,
             "#4d9221"
            ],
            [
             1,
             "#276419"
            ]
           ],
           "sequential": [
            [
             0,
             "#0d0887"
            ],
            [
             0.1111111111111111,
             "#46039f"
            ],
            [
             0.2222222222222222,
             "#7201a8"
            ],
            [
             0.3333333333333333,
             "#9c179e"
            ],
            [
             0.4444444444444444,
             "#bd3786"
            ],
            [
             0.5555555555555556,
             "#d8576b"
            ],
            [
             0.6666666666666666,
             "#ed7953"
            ],
            [
             0.7777777777777778,
             "#fb9f3a"
            ],
            [
             0.8888888888888888,
             "#fdca26"
            ],
            [
             1,
             "#f0f921"
            ]
           ],
           "sequentialminus": [
            [
             0,
             "#0d0887"
            ],
            [
             0.1111111111111111,
             "#46039f"
            ],
            [
             0.2222222222222222,
             "#7201a8"
            ],
            [
             0.3333333333333333,
             "#9c179e"
            ],
            [
             0.4444444444444444,
             "#bd3786"
            ],
            [
             0.5555555555555556,
             "#d8576b"
            ],
            [
             0.6666666666666666,
             "#ed7953"
            ],
            [
             0.7777777777777778,
             "#fb9f3a"
            ],
            [
             0.8888888888888888,
             "#fdca26"
            ],
            [
             1,
             "#f0f921"
            ]
           ]
          },
          "colorway": [
           "#636efa",
           "#EF553B",
           "#00cc96",
           "#ab63fa",
           "#FFA15A",
           "#19d3f3",
           "#FF6692",
           "#B6E880",
           "#FF97FF",
           "#FECB52"
          ],
          "font": {
           "color": "#2a3f5f"
          },
          "geo": {
           "bgcolor": "white",
           "lakecolor": "white",
           "landcolor": "#E5ECF6",
           "showlakes": true,
           "showland": true,
           "subunitcolor": "white"
          },
          "hoverlabel": {
           "align": "left"
          },
          "hovermode": "closest",
          "mapbox": {
           "style": "light"
          },
          "paper_bgcolor": "white",
          "plot_bgcolor": "#E5ECF6",
          "polar": {
           "angularaxis": {
            "gridcolor": "white",
            "linecolor": "white",
            "ticks": ""
           },
           "bgcolor": "#E5ECF6",
           "radialaxis": {
            "gridcolor": "white",
            "linecolor": "white",
            "ticks": ""
           }
          },
          "scene": {
           "xaxis": {
            "backgroundcolor": "#E5ECF6",
            "gridcolor": "white",
            "gridwidth": 2,
            "linecolor": "white",
            "showbackground": true,
            "ticks": "",
            "zerolinecolor": "white"
           },
           "yaxis": {
            "backgroundcolor": "#E5ECF6",
            "gridcolor": "white",
            "gridwidth": 2,
            "linecolor": "white",
            "showbackground": true,
            "ticks": "",
            "zerolinecolor": "white"
           },
           "zaxis": {
            "backgroundcolor": "#E5ECF6",
            "gridcolor": "white",
            "gridwidth": 2,
            "linecolor": "white",
            "showbackground": true,
            "ticks": "",
            "zerolinecolor": "white"
           }
          },
          "shapedefaults": {
           "line": {
            "color": "#2a3f5f"
           }
          },
          "ternary": {
           "aaxis": {
            "gridcolor": "white",
            "linecolor": "white",
            "ticks": ""
           },
           "baxis": {
            "gridcolor": "white",
            "linecolor": "white",
            "ticks": ""
           },
           "bgcolor": "#E5ECF6",
           "caxis": {
            "gridcolor": "white",
            "linecolor": "white",
            "ticks": ""
           }
          },
          "title": {
           "x": 0.05
          },
          "xaxis": {
           "automargin": true,
           "gridcolor": "white",
           "linecolor": "white",
           "ticks": "",
           "title": {
            "standoff": 15
           },
           "zerolinecolor": "white",
           "zerolinewidth": 2
          },
          "yaxis": {
           "automargin": true,
           "gridcolor": "white",
           "linecolor": "white",
           "ticks": "",
           "title": {
            "standoff": 15
           },
           "zerolinecolor": "white",
           "zerolinewidth": 2
          }
         }
        },
        "xaxis": {
         "title": {
          "text": "Procedure length (ms)"
         }
        },
        "yaxis": {
         "title": {
          "text": "Occurrence"
         }
        }
       }
      }
     },
     "metadata": {},
     "output_type": "display_data"
    }
   ],
   "source": [
    "import plotly.graph_objects as go\n",
    "\n",
    "bin_size = 3\n",
    "\n",
    "procedure_names = list(procedure_df['name'].unique())\n",
    "procedure_names.sort()\n",
    "histogram_traces = []\n",
    "\n",
    "for procedure_name in procedure_names:\n",
    "    proc_data = procedure_df[procedure_df['name']==procedure_name]\n",
    "    hist_array, hist_bins, hist_labels = trace_plotting.get_histogram_data(\n",
    "        proc_data.loc[:,'length_ms'], \n",
    "        bin_size, \n",
    "        density=False, \n",
    "        remove_trailing_zeros=False, \n",
    "        output_labels=True,\n",
    "        label_unit='ms')\n",
    "    histogram_line = go.Bar(\n",
    "        x=hist_bins,\n",
    "        y=hist_array,\n",
    "        name=procedure_name,\n",
    "        text=hist_labels,\n",
    "        opacity=0.65,\n",
    "        showlegend=True,\n",
    "        #marker={'line':{'width':0}},\n",
    "        hovertemplate=\"<br>\".join([\n",
    "            \"duration: %{text}\",\n",
    "            \"occurrences: %{y}\"])\n",
    "    )\n",
    "    histogram_traces.append(histogram_line)\n",
    "\n",
    "fig = go.Figure(data=histogram_traces, layout = { 'bargap': 0 })\n",
    "\n",
    "fig.update_layout(barmode='overlay')\n",
    "fig.update_xaxes(title_text='Procedure length (ms)')\n",
    "fig.update_yaxes(title_text='Occurrence')\n",
    "fig.show()\n",
    "\n",
    "fig.write_html(output_name_files + '_procedure_length.html')"
   ]
  },
  {
   "cell_type": "code",
   "execution_count": 8,
   "metadata": {},
   "outputs": [
    {
     "data": {
      "application/vnd.plotly.v1+json": {
       "config": {
        "plotlyServerURL": "https://plot.ly"
       },
       "data": [
        {
         "hovertemplate": "%{text}, %{y}ms",
         "mode": "markers",
         "name": "NAS UE Registration",
         "opacity": 0.65,
         "showlegend": true,
         "text": [
          "Frame 3, 06:19:31.369575"
         ],
         "type": "scatter",
         "x": [
          "2021-05-07T06:19:31.369575262"
         ],
         "y": {
          "bdata": "AAAAAPhH0D8=",
          "dtype": "f8"
         }
        }
       ],
       "layout": {
        "template": {
         "data": {
          "bar": [
           {
            "error_x": {
             "color": "#2a3f5f"
            },
            "error_y": {
             "color": "#2a3f5f"
            },
            "marker": {
             "line": {
              "color": "#E5ECF6",
              "width": 0.5
             },
             "pattern": {
              "fillmode": "overlay",
              "size": 10,
              "solidity": 0.2
             }
            },
            "type": "bar"
           }
          ],
          "barpolar": [
           {
            "marker": {
             "line": {
              "color": "#E5ECF6",
              "width": 0.5
             },
             "pattern": {
              "fillmode": "overlay",
              "size": 10,
              "solidity": 0.2
             }
            },
            "type": "barpolar"
           }
          ],
          "carpet": [
           {
            "aaxis": {
             "endlinecolor": "#2a3f5f",
             "gridcolor": "white",
             "linecolor": "white",
             "minorgridcolor": "white",
             "startlinecolor": "#2a3f5f"
            },
            "baxis": {
             "endlinecolor": "#2a3f5f",
             "gridcolor": "white",
             "linecolor": "white",
             "minorgridcolor": "white",
             "startlinecolor": "#2a3f5f"
            },
            "type": "carpet"
           }
          ],
          "choropleth": [
           {
            "colorbar": {
             "outlinewidth": 0,
             "ticks": ""
            },
            "type": "choropleth"
           }
          ],
          "contour": [
           {
            "colorbar": {
             "outlinewidth": 0,
             "ticks": ""
            },
            "colorscale": [
             [
              0,
              "#0d0887"
             ],
             [
              0.1111111111111111,
              "#46039f"
             ],
             [
              0.2222222222222222,
              "#7201a8"
             ],
             [
              0.3333333333333333,
              "#9c179e"
             ],
             [
              0.4444444444444444,
              "#bd3786"
             ],
             [
              0.5555555555555556,
              "#d8576b"
             ],
             [
              0.6666666666666666,
              "#ed7953"
             ],
             [
              0.7777777777777778,
              "#fb9f3a"
             ],
             [
              0.8888888888888888,
              "#fdca26"
             ],
             [
              1,
              "#f0f921"
             ]
            ],
            "type": "contour"
           }
          ],
          "contourcarpet": [
           {
            "colorbar": {
             "outlinewidth": 0,
             "ticks": ""
            },
            "type": "contourcarpet"
           }
          ],
          "heatmap": [
           {
            "colorbar": {
             "outlinewidth": 0,
             "ticks": ""
            },
            "colorscale": [
             [
              0,
              "#0d0887"
             ],
             [
              0.1111111111111111,
              "#46039f"
             ],
             [
              0.2222222222222222,
              "#7201a8"
             ],
             [
              0.3333333333333333,
              "#9c179e"
             ],
             [
              0.4444444444444444,
              "#bd3786"
             ],
             [
              0.5555555555555556,
              "#d8576b"
             ],
             [
              0.6666666666666666,
              "#ed7953"
             ],
             [
              0.7777777777777778,
              "#fb9f3a"
             ],
             [
              0.8888888888888888,
              "#fdca26"
             ],
             [
              1,
              "#f0f921"
             ]
            ],
            "type": "heatmap"
           }
          ],
          "histogram": [
           {
            "marker": {
             "pattern": {
              "fillmode": "overlay",
              "size": 10,
              "solidity": 0.2
             }
            },
            "type": "histogram"
           }
          ],
          "histogram2d": [
           {
            "colorbar": {
             "outlinewidth": 0,
             "ticks": ""
            },
            "colorscale": [
             [
              0,
              "#0d0887"
             ],
             [
              0.1111111111111111,
              "#46039f"
             ],
             [
              0.2222222222222222,
              "#7201a8"
             ],
             [
              0.3333333333333333,
              "#9c179e"
             ],
             [
              0.4444444444444444,
              "#bd3786"
             ],
             [
              0.5555555555555556,
              "#d8576b"
             ],
             [
              0.6666666666666666,
              "#ed7953"
             ],
             [
              0.7777777777777778,
              "#fb9f3a"
             ],
             [
              0.8888888888888888,
              "#fdca26"
             ],
             [
              1,
              "#f0f921"
             ]
            ],
            "type": "histogram2d"
           }
          ],
          "histogram2dcontour": [
           {
            "colorbar": {
             "outlinewidth": 0,
             "ticks": ""
            },
            "colorscale": [
             [
              0,
              "#0d0887"
             ],
             [
              0.1111111111111111,
              "#46039f"
             ],
             [
              0.2222222222222222,
              "#7201a8"
             ],
             [
              0.3333333333333333,
              "#9c179e"
             ],
             [
              0.4444444444444444,
              "#bd3786"
             ],
             [
              0.5555555555555556,
              "#d8576b"
             ],
             [
              0.6666666666666666,
              "#ed7953"
             ],
             [
              0.7777777777777778,
              "#fb9f3a"
             ],
             [
              0.8888888888888888,
              "#fdca26"
             ],
             [
              1,
              "#f0f921"
             ]
            ],
            "type": "histogram2dcontour"
           }
          ],
          "mesh3d": [
           {
            "colorbar": {
             "outlinewidth": 0,
             "ticks": ""
            },
            "type": "mesh3d"
           }
          ],
          "parcoords": [
           {
            "line": {
             "colorbar": {
              "outlinewidth": 0,
              "ticks": ""
             }
            },
            "type": "parcoords"
           }
          ],
          "pie": [
           {
            "automargin": true,
            "type": "pie"
           }
          ],
          "scatter": [
           {
            "fillpattern": {
             "fillmode": "overlay",
             "size": 10,
             "solidity": 0.2
            },
            "type": "scatter"
           }
          ],
          "scatter3d": [
           {
            "line": {
             "colorbar": {
              "outlinewidth": 0,
              "ticks": ""
             }
            },
            "marker": {
             "colorbar": {
              "outlinewidth": 0,
              "ticks": ""
             }
            },
            "type": "scatter3d"
           }
          ],
          "scattercarpet": [
           {
            "marker": {
             "colorbar": {
              "outlinewidth": 0,
              "ticks": ""
             }
            },
            "type": "scattercarpet"
           }
          ],
          "scattergeo": [
           {
            "marker": {
             "colorbar": {
              "outlinewidth": 0,
              "ticks": ""
             }
            },
            "type": "scattergeo"
           }
          ],
          "scattergl": [
           {
            "marker": {
             "colorbar": {
              "outlinewidth": 0,
              "ticks": ""
             }
            },
            "type": "scattergl"
           }
          ],
          "scattermap": [
           {
            "marker": {
             "colorbar": {
              "outlinewidth": 0,
              "ticks": ""
             }
            },
            "type": "scattermap"
           }
          ],
          "scattermapbox": [
           {
            "marker": {
             "colorbar": {
              "outlinewidth": 0,
              "ticks": ""
             }
            },
            "type": "scattermapbox"
           }
          ],
          "scatterpolar": [
           {
            "marker": {
             "colorbar": {
              "outlinewidth": 0,
              "ticks": ""
             }
            },
            "type": "scatterpolar"
           }
          ],
          "scatterpolargl": [
           {
            "marker": {
             "colorbar": {
              "outlinewidth": 0,
              "ticks": ""
             }
            },
            "type": "scatterpolargl"
           }
          ],
          "scatterternary": [
           {
            "marker": {
             "colorbar": {
              "outlinewidth": 0,
              "ticks": ""
             }
            },
            "type": "scatterternary"
           }
          ],
          "surface": [
           {
            "colorbar": {
             "outlinewidth": 0,
             "ticks": ""
            },
            "colorscale": [
             [
              0,
              "#0d0887"
             ],
             [
              0.1111111111111111,
              "#46039f"
             ],
             [
              0.2222222222222222,
              "#7201a8"
             ],
             [
              0.3333333333333333,
              "#9c179e"
             ],
             [
              0.4444444444444444,
              "#bd3786"
             ],
             [
              0.5555555555555556,
              "#d8576b"
             ],
             [
              0.6666666666666666,
              "#ed7953"
             ],
             [
              0.7777777777777778,
              "#fb9f3a"
             ],
             [
              0.8888888888888888,
              "#fdca26"
             ],
             [
              1,
              "#f0f921"
             ]
            ],
            "type": "surface"
           }
          ],
          "table": [
           {
            "cells": {
             "fill": {
              "color": "#EBF0F8"
             },
             "line": {
              "color": "white"
             }
            },
            "header": {
             "fill": {
              "color": "#C8D4E3"
             },
             "line": {
              "color": "white"
             }
            },
            "type": "table"
           }
          ]
         },
         "layout": {
          "annotationdefaults": {
           "arrowcolor": "#2a3f5f",
           "arrowhead": 0,
           "arrowwidth": 1
          },
          "autotypenumbers": "strict",
          "coloraxis": {
           "colorbar": {
            "outlinewidth": 0,
            "ticks": ""
           }
          },
          "colorscale": {
           "diverging": [
            [
             0,
             "#8e0152"
            ],
            [
             0.1,
             "#c51b7d"
            ],
            [
             0.2,
             "#de77ae"
            ],
            [
             0.3,
             "#f1b6da"
            ],
            [
             0.4,
             "#fde0ef"
            ],
            [
             0.5,
             "#f7f7f7"
            ],
            [
             0.6,
             "#e6f5d0"
            ],
            [
             0.7,
             "#b8e186"
            ],
            [
             0.8,
             "#7fbc41"
            ],
            [
             0.9,
             "#4d9221"
            ],
            [
             1,
             "#276419"
            ]
           ],
           "sequential": [
            [
             0,
             "#0d0887"
            ],
            [
             0.1111111111111111,
             "#46039f"
            ],
            [
             0.2222222222222222,
             "#7201a8"
            ],
            [
             0.3333333333333333,
             "#9c179e"
            ],
            [
             0.4444444444444444,
             "#bd3786"
            ],
            [
             0.5555555555555556,
             "#d8576b"
            ],
            [
             0.6666666666666666,
             "#ed7953"
            ],
            [
             0.7777777777777778,
             "#fb9f3a"
            ],
            [
             0.8888888888888888,
             "#fdca26"
            ],
            [
             1,
             "#f0f921"
            ]
           ],
           "sequentialminus": [
            [
             0,
             "#0d0887"
            ],
            [
             0.1111111111111111,
             "#46039f"
            ],
            [
             0.2222222222222222,
             "#7201a8"
            ],
            [
             0.3333333333333333,
             "#9c179e"
            ],
            [
             0.4444444444444444,
             "#bd3786"
            ],
            [
             0.5555555555555556,
             "#d8576b"
            ],
            [
             0.6666666666666666,
             "#ed7953"
            ],
            [
             0.7777777777777778,
             "#fb9f3a"
            ],
            [
             0.8888888888888888,
             "#fdca26"
            ],
            [
             1,
             "#f0f921"
            ]
           ]
          },
          "colorway": [
           "#636efa",
           "#EF553B",
           "#00cc96",
           "#ab63fa",
           "#FFA15A",
           "#19d3f3",
           "#FF6692",
           "#B6E880",
           "#FF97FF",
           "#FECB52"
          ],
          "font": {
           "color": "#2a3f5f"
          },
          "geo": {
           "bgcolor": "white",
           "lakecolor": "white",
           "landcolor": "#E5ECF6",
           "showlakes": true,
           "showland": true,
           "subunitcolor": "white"
          },
          "hoverlabel": {
           "align": "left"
          },
          "hovermode": "closest",
          "mapbox": {
           "style": "light"
          },
          "paper_bgcolor": "white",
          "plot_bgcolor": "#E5ECF6",
          "polar": {
           "angularaxis": {
            "gridcolor": "white",
            "linecolor": "white",
            "ticks": ""
           },
           "bgcolor": "#E5ECF6",
           "radialaxis": {
            "gridcolor": "white",
            "linecolor": "white",
            "ticks": ""
           }
          },
          "scene": {
           "xaxis": {
            "backgroundcolor": "#E5ECF6",
            "gridcolor": "white",
            "gridwidth": 2,
            "linecolor": "white",
            "showbackground": true,
            "ticks": "",
            "zerolinecolor": "white"
           },
           "yaxis": {
            "backgroundcolor": "#E5ECF6",
            "gridcolor": "white",
            "gridwidth": 2,
            "linecolor": "white",
            "showbackground": true,
            "ticks": "",
            "zerolinecolor": "white"
           },
           "zaxis": {
            "backgroundcolor": "#E5ECF6",
            "gridcolor": "white",
            "gridwidth": 2,
            "linecolor": "white",
            "showbackground": true,
            "ticks": "",
            "zerolinecolor": "white"
           }
          },
          "shapedefaults": {
           "line": {
            "color": "#2a3f5f"
           }
          },
          "ternary": {
           "aaxis": {
            "gridcolor": "white",
            "linecolor": "white",
            "ticks": ""
           },
           "baxis": {
            "gridcolor": "white",
            "linecolor": "white",
            "ticks": ""
           },
           "bgcolor": "#E5ECF6",
           "caxis": {
            "gridcolor": "white",
            "linecolor": "white",
            "ticks": ""
           }
          },
          "title": {
           "x": 0.05
          },
          "xaxis": {
           "automargin": true,
           "gridcolor": "white",
           "linecolor": "white",
           "ticks": "",
           "title": {
            "standoff": 15
           },
           "zerolinecolor": "white",
           "zerolinewidth": 2
          },
          "yaxis": {
           "automargin": true,
           "gridcolor": "white",
           "linecolor": "white",
           "ticks": "",
           "title": {
            "standoff": 15
           },
           "zerolinecolor": "white",
           "zerolinewidth": 2
          }
         }
        },
        "yaxis": {
         "title": {
          "text": "Procedure length (ms)"
         }
        }
       }
      },
      "image/png": "[encoded data removed]"
     },
     "metadata": {},
     "output_type": "display_data"
    }
   ],
   "source": [
    "plot_data = trace_plotting.generate_scatterplots_for_wireshark_traces(\n",
    "    procedure_df, \n",
    "    filter_column='name', \n",
    "    datetime_column='start_datetime', \n",
    "    summary_column='length_ms', \n",
    "    protocol_column='name', \n",
    "    frame_number_column='start_frame', \n",
    "    auto_color=True,\n",
    "    y_unit='ms',\n",
    "    hide_series=False,\n",
    "    opacity=0.65)\n",
    "fig = go.Figure(data=plot_data)\n",
    "fig.update_yaxes(title_text='Procedure length (ms)')\n",
    "fig.show()\n",
    "\n",
    "fig.write_html(output_name_files + '_procedure_timeline.html')"
   ]
  },
  {
   "cell_type": "code",
   "execution_count": null,
   "metadata": {},
   "outputs": [],
   "source": []
  }
 ],
 "metadata": {
  "kernelspec": {
   "display_name": "Python 3 (ipykernel)",
   "language": "python",
   "name": "python3"
  },
  "language_info": {
   "codemirror_mode": {
    "name": "ipython",
    "version": 3
   },
   "file_extension": ".py",
   "mimetype": "text/x-python",
   "name": "python",
   "nbconvert_exporter": "python",
   "pygments_lexer": "ipython3",
   "version": "3.13.3"
  }
 },
 "nbformat": 4,
 "nbformat_minor": 4
}
